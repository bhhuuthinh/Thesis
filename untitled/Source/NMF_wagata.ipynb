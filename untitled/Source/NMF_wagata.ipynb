{
 "cells": [
  {
   "cell_type": "code",
   "execution_count": null,
   "metadata": {},
   "outputs": [],
   "source": []
  },
  {
   "cell_type": "code",
   "execution_count": 1,
   "metadata": {},
   "outputs": [],
   "source": [
    "import pandas as pd\n",
    "import numpy as np\n",
    "from sklearn.metrics.pairwise import cosine_similarity\n",
    "from scipy import sparse\n",
    "import tensorflow as tf\n",
    "import warnings\n",
    "warnings.filterwarnings('ignore')"
   ]
  },
  {
   "cell_type": "code",
   "execution_count": 2,
   "metadata": {},
   "outputs": [],
   "source": [
    "class MF(object):\n",
    "    \"\"\"docstring for CF\"\"\"\n",
    "\n",
    "    def __init__(self, Y_data, K, lam=0.1, Xinit=None, Winit=None,\n",
    "                 learning_rate=0.5, max_iter=100, print_every=100, user_based=1):\n",
    "        self.Y_raw_data = Y_data\n",
    "        self.K = K\n",
    "        # regularization parameter\n",
    "        self.lam = lam\n",
    "        # learning rate for gradient descent\n",
    "        self.learning_rate = learning_rate\n",
    "        # maximum number of iterations\n",
    "        self.max_iter = max_iter\n",
    "        # print results after print_every iterations\n",
    "        self.print_every = print_every\n",
    "        # user-based or item-based\n",
    "        self.user_based = user_based\n",
    "        # number of users, items, and ratings. Remember to add 1 since id starts from 0\n",
    "        self.n_users = int(np.max(Y_data[:, 0])) + 1\n",
    "        self.n_items = int(np.max(Y_data[:, 1])) + 1\n",
    "        self.n_ratings = Y_data.shape[0]\n",
    "\n",
    "        if Xinit is None:  # new\n",
    "            self.X = np.random.uniform(size = [self.n_items, K])\n",
    "        else:  # or from saved data\n",
    "            self.X = Xinit\n",
    "\n",
    "        if Winit is None:\n",
    "            self.W = np.random.uniform(size = [K, self.n_users])\n",
    "        else:  # from daved data\n",
    "            self.W = Winit\n",
    "\n",
    "        # normalized data, update later in normalized_Y function\n",
    "        self.Y_data_n = self.Y_raw_data.copy()\n",
    "\n",
    "    def normalize_Y(self):\n",
    "        if self.user_based:\n",
    "            user_col = 0\n",
    "            item_col = 1\n",
    "            n_objects = self.n_users\n",
    "\n",
    "        # if we want to normalize based on item, just switch first two columns of data\n",
    "        else:  # item bas\n",
    "            user_col = 1\n",
    "            item_col = 0\n",
    "            n_objects = self.n_items\n",
    "\n",
    "        users = self.Y_raw_data[:, user_col]\n",
    "        self.mu = np.zeros((n_objects,))\n",
    "        for n in range(n_objects):\n",
    "            # row indices of rating done by user n\n",
    "            # since indices need to be integers, we need to convert\n",
    "            ids = np.where(users == n)[0].astype(np.int32)\n",
    "            # indices of all ratings associated with user n\n",
    "            item_ids = self.Y_data_n[ids, item_col]\n",
    "            # and the corresponding ratings\n",
    "            ratings = self.Y_data_n[ids, 2]\n",
    "            # take mean\n",
    "            m = np.mean(ratings)\n",
    "            if np.isnan(m):\n",
    "                m = 0  # to avoid empty array and nan value\n",
    "            self.mu[n] = m\n",
    "            # normalize\n",
    "            self.Y_data_n[ids, 2] = ratings - self.mu[n]\n",
    "\n",
    "    def loss(self):\n",
    "        L = 0\n",
    "        for i in range(self.n_ratings):\n",
    "            # user, item, rating\n",
    "            n, m, rate = int(self.Y_data_n[i, 0]), int(self.Y_data_n[i, 1]), self.Y_data_n[i, 2]\n",
    "            L += 0.5 * (rate - self.X[m, :].dot(self.W[:, n])) ** 2\n",
    "\n",
    "        # take average\n",
    "        L /= self.n_ratings\n",
    "        # regularization, don't ever forget this\n",
    "        L += 0.5 * self.lam * (np.linalg.norm(self.X, 'fro') + np.linalg.norm(self.W, 'fro'))\n",
    "        return L\n",
    "\n",
    "    def get_items_rated_by_user(self, user_id):\n",
    "        \"\"\"\n",
    "        get all items which are rated by user user_id, and the corresponding ratings\n",
    "        \"\"\"\n",
    "        ids = np.where(self.Y_data_n[:, 0] == user_id)[0]\n",
    "        item_ids = self.Y_data_n[ids, 1].astype(np.int32)  # indices need to be integers\n",
    "        ratings = self.Y_data_n[ids, 2]\n",
    "        return (item_ids, ratings)\n",
    "\n",
    "    def get_users_who_rate_item(self, item_id):\n",
    "        \"\"\"\n",
    "        get all users who rated item item_id and get the corresponding ratings\n",
    "        \"\"\"\n",
    "        ids = np.where(self.Y_data_n[:, 1] == item_id)[0]\n",
    "        user_ids = self.Y_data_n[ids, 0].astype(np.int32)\n",
    "        ratings = self.Y_data_n[ids, 2]\n",
    "        return (user_ids, ratings)\n",
    "\n",
    "    def updateX(self):\n",
    "        for m in range(self.n_items):\n",
    "            user_ids, ratings = self.get_users_who_rate_item(m)\n",
    "            Wm = self.W[:, user_ids]\n",
    "            # gradient\n",
    "            grad_xm = -(ratings - self.X[m, :].dot(Wm)).dot(Wm.T) / self.n_ratings + \\\n",
    "                      self.lam * self.X[m, :]\n",
    "            self.X[m, :] -= self.learning_rate * grad_xm.reshape((self.K,))\n",
    "\n",
    "    def updateW(self):\n",
    "        for n in range(self.n_users):\n",
    "            item_ids, ratings = self.get_items_rated_by_user(n)\n",
    "            Xn = self.X[item_ids, :]\n",
    "            # gradient\n",
    "            grad_wn = -Xn.T.dot(ratings - Xn.dot(self.W[:, n])) / self.n_ratings + \\\n",
    "                      self.lam * self.W[:, n]\n",
    "            self.W[:, n] -= self.learning_rate * grad_wn.reshape((self.K,))\n",
    "\n",
    "    def fit(self):\n",
    "        self.normalize_Y()\n",
    "        history = []\n",
    "        for it in range(self.max_iter):\n",
    "            self.updateX()\n",
    "            self.updateW()\n",
    "            mape_train = self.evaluate_RMSE(self.Y_raw_data)\n",
    "            rmse_train = self.evaluate_MAPE(self.Y_raw_data)\n",
    "            if (it + 1) % self.print_every == 0:\n",
    "                print('iter =', it + 1, \n",
    "                      ', loss =', self.loss(),\n",
    "                      ', RMSE train =', rmse_train,\n",
    "                      ', MAPE train =', mape_train)\n",
    "            history.append(mape_train)\n",
    "        return history\n",
    "    def pred(self, u, i):\n",
    "        \"\"\"\n",
    "        predict the rating of user u for item i\n",
    "        if you need the un\n",
    "        \"\"\"\n",
    "        u = int(u)\n",
    "        i = int(i)\n",
    "        if self.user_based:\n",
    "            bias = self.mu[u]\n",
    "        else:\n",
    "            bias = self.mu[i]\n",
    "        pred = self.X[i, :].dot(self.W[:, u]) + bias\n",
    "        # truncate if results are out of range [0, 5]\n",
    "\n",
    "        # if pred < 0:\n",
    "        #     return 0\n",
    "        # if pred > 100:\n",
    "        #     return 100\n",
    "        return pred\n",
    "\n",
    "    def pred_for_user(self, user_id):\n",
    "        \"\"\"\n",
    "        predict ratings one user give all unrated items\n",
    "        \"\"\"\n",
    "        ids = np.where(self.Y_data_n[:, 0] == user_id)[0]\n",
    "        items_rated_by_u = self.Y_data_n[ids, 1].tolist()\n",
    "\n",
    "        y_pred = self.X.dot(self.W[:, user_id]) + self.mu[user_id]\n",
    "        predicted_ratings = []\n",
    "        for i in range(self.n_items):\n",
    "            if i not in items_rated_by_u:\n",
    "                predicted_ratings.append((i, y_pred[i]))\n",
    "\n",
    "        return predicted_ratings\n",
    "\n",
    "    def evaluate_RMSE(self, rate_test):\n",
    "        n_tests = rate_test.shape[0]\n",
    "        SE = 0  # squared error\n",
    "        for n in range(n_tests):\n",
    "            pred = self.pred(rate_test[n, 0], rate_test[n, 1])\n",
    "            SE += (pred - rate_test[n, 2]) ** 2\n",
    "\n",
    "        RMSE = np.sqrt(SE / n_tests)\n",
    "        return RMSE\n",
    "    \n",
    "    def evaluate_MAPE(self, rate_test):\n",
    "        n_tests = rate_test.shape[0]\n",
    "        _max = np.abs(np.max(rate_test[:, 2]))\n",
    "        _sum = 0  # squared error\n",
    "        for n in range(n_tests):\n",
    "            pred = self.pred(rate_test[n, 0], rate_test[n, 1])\n",
    "            _sum += np.abs(pred - rate_test[n, 2])\n",
    "    \n",
    "        MAPE = _sum / _max / n_tests\n",
    "        return MAPE"
   ]
  },
  {
   "cell_type": "code",
   "execution_count": 3,
   "metadata": {},
   "outputs": [
    {
     "data": {
      "text/plain": [
       "(53441, 3)"
      ]
     },
     "execution_count": 3,
     "metadata": {},
     "output_type": "execute_result"
    }
   ],
   "source": [
    "# r_cols = ['user_id', 'player_id', 'rating', 'unix_timestamp']\n",
    "# ratings_base = pd.read_csv('user_team.csv', sep=',', names=r_cols, encoding='latin-1')\n",
    "\n",
    "df = pd.read_csv('ijcai2016_taobao_1.csv', sep=r',', engine='python')\n",
    "\n",
    "data_click = df[['use_ID', 'ite_ID', 'act_ID']].loc[df['act_ID'] == 0]\n",
    "data_click = data_click.drop_duplicates()\n",
    "data_click['act_ID'] = data_click['act_ID'].replace(0, 1)\n",
    "\n",
    "unique_user = data_click['use_ID'].unique()\n",
    "unique_item = data_click['ite_ID'].unique()\n",
    "\n",
    "data_click.use_ID = data_click.use_ID.apply(lambda x: np.where(unique_user == x)[0][0])\n",
    "data_click.ite_ID = data_click.ite_ID.apply(lambda x: np.where(unique_item == x)[0][0])\n",
    "\n",
    "msk = np.random.rand(len(data_click)) < 0.8\n",
    "rate_train = data_click[msk]\n",
    "rate_test = data_click[~msk]\n",
    "\n",
    "rate_train = rate_train.values\n",
    "rate_test = rate_test.values\n",
    "\n",
    "rate_train.shape"
   ]
  },
  {
   "cell_type": "code",
   "execution_count": 4,
   "metadata": {},
   "outputs": [],
   "source": [
    "# indices start from 0\n",
    "# rate_train[:, :2] -= 1\n",
    "\n",
    "rs = MF(rate_train, K = 64, lam = 10e-3, print_every = 10,\n",
    "    learning_rate = 0.75, max_iter = 100, user_based = 1)"
   ]
  },
  {
   "cell_type": "code",
   "execution_count": 5,
   "metadata": {},
   "outputs": [
    {
     "name": "stdout",
     "output_type": "stream",
     "text": [
      "iter = 10 , loss = 77.1540822029153 , RMSE train = 11.566555168800203 , MAPE train = 11.927686360338706\n",
      "iter = 20 , loss = 50.626408429885196 , RMSE train = 8.94684092417247 , MAPE train = 9.493398736360163\n",
      "iter = 30 , loss = 35.15778502280122 , RMSE train = 7.143866598152221 , MAPE train = 7.74730115791214\n",
      "iter = 40 , loss = 25.301442178384512 , RMSE train = 5.813007184025773 , MAPE train = 6.408885358013624\n",
      "iter = 50 , loss = 18.71365050057701 , RMSE train = 4.789159074897137 , MAPE train = 5.3482383033072844\n",
      "iter = 60 , loss = 14.169293814215331 , RMSE train = 3.980416200497635 , MAPE train = 4.4906265149682625\n",
      "iter = 70 , loss = 10.959444389768397 , RMSE train = 3.329856430467352 , MAPE train = 3.787751976806305\n",
      "iter = 80 , loss = 8.647654782983478 , RMSE train = 2.799588350560891 , MAPE train = 3.206092438838526\n",
      "iter = 90 , loss = 6.953817119806297 , RMSE train = 2.3630032402059946 , MAPE train = 2.721243502719471\n",
      "iter = 100 , loss = 5.692718445259066 , RMSE train = 2.0007820379195214 , MAPE train = 2.3148258992330972\n"
     ]
    }
   ],
   "source": [
    "history = rs.fit()"
   ]
  },
  {
   "cell_type": "code",
   "execution_count": 6,
   "metadata": {},
   "outputs": [
    {
     "name": "stdout",
     "output_type": "stream",
     "text": [
      "\n",
      "User-based MF, RMSE = 2.053148353894507\n"
     ]
    }
   ],
   "source": [
    "# # # evaluate on test data\n",
    "RMSE = rs.evaluate_RMSE(rate_test)\n",
    "print('\\nUser-based MF, RMSE =', RMSE)"
   ]
  },
  {
   "cell_type": "code",
   "execution_count": 7,
   "metadata": {},
   "outputs": [
    {
     "data": {
      "image/png": "[encoded data removed]",
      "text/plain": [
       "<Figure size 432x288 with 1 Axes>"
      ]
     },
     "metadata": {
      "needs_background": "light"
     },
     "output_type": "display_data"
    }
   ],
   "source": [
    "import matplotlib.pyplot as plt\n",
    "\n",
    "# summarize history for accuracy\n",
    "plt.plot(history)\n",
    "# plt.plot(history.history['loss'])\n",
    "plt.title('model accuracy')\n",
    "plt.ylabel('loss')\n",
    "plt.xlabel('epoch')\n",
    "plt.legend(['rmse'], loc='upper left')\n",
    "plt.show()"
   ]
  },
  {
   "cell_type": "code",
   "execution_count": 8,
   "metadata": {},
   "outputs": [],
   "source": [
    "# np.savetxt(\"loss_mf.csv\", history, delimiter=\",\")"
   ]
  }
 ],
 "metadata": {
  "kernelspec": {
   "display_name": "Python 3",
   "language": "python",
   "name": "python3"
  },
  "language_info": {
   "codemirror_mode": {
    "name": "ipython",
    "version": 3
   },
   "file_extension": ".py",
   "mimetype": "text/x-python",
   "name": "python",
   "nbconvert_exporter": "python",
   "pygments_lexer": "ipython3",
   "version": "3.6.8"
  }
 },
 "nbformat": 4,
 "nbformat_minor": 4
}
