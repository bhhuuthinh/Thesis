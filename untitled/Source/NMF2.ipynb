{
 "cells": [
  {
   "cell_type": "code",
   "execution_count": 2,
   "metadata": {},
   "outputs": [],
   "source": [
    "import numpy as np\n",
    "from sklearn.decomposition import NMF\n",
    "from numpy import linalg as LA\n",
    "import pandas as pd\n",
    "\n",
    "import pandas as pd\n",
    "import numpy as np\n",
    "import tensorflow as tf\n",
    "from tensorflow import keras"
   ]
  },
  {
   "cell_type": "code",
   "execution_count": 9,
   "metadata": {},
   "outputs": [],
   "source": [
    "def matrix_factorization(R, P, Q, K, steps=5000, alpha=0.0002, beta=0.02):\n",
    "\n",
    "    rated = R.copy()\n",
    "    thresh = rated > 0\n",
    "    rated[thresh] = 1\n",
    "    rated[~thresh] = 0\n",
    "\n",
    "    Q = Q.T\n",
    "    history = []\n",
    "    for step in range(steps):\n",
    "        for i in range(len(R)):\n",
    "            for j in range(len(R[i])):\n",
    "                if R[i][j] > 0:\n",
    "                    eij = R[i][j] - np.dot(P[i, :], Q[:, j])\n",
    "                    for k in range(K):\n",
    "                        P[i][k] = P[i][k] + alpha * (2 * eij * Q[k][j] - beta * P[i][k])\n",
    "                        Q[k][j] = Q[k][j] + alpha * (2 * eij * P[i][k] - beta * Q[k][j])\n",
    "        hypothesis = R - np.dot(P, Q)\n",
    "        hypothesis = hypothesis * rated\n",
    "\n",
    "        e = LA.norm(hypothesis)**2 \\\n",
    "            + (beta/2)*(LA.norm(P)**2 + LA.norm(Q)**2)\n",
    "        history.append(e)\n",
    "#         print(e)\n",
    "\n",
    "        if e < 0.001:\n",
    "            break\n",
    "    return P, Q.T, history"
   ]
  },
  {
   "cell_type": "code",
   "execution_count": 6,
   "metadata": {},
   "outputs": [],
   "source": [
    "df = pd.read_csv('ijcai2016_taobao_1.csv', sep=r',', engine='python')\n",
    "\n",
    "data_click = df[['use_ID', 'ite_ID', 'act_ID']].loc[df['act_ID'] == 0]\n",
    "data_click = data_click.drop_duplicates()\n",
    "data_click['act_ID'] = data_click['act_ID'].replace(0, 1)\n",
    "\n",
    "# data_buy = df[['use_ID', 'ite_ID', 'act_ID']].loc[df['act_ID'] == 1]\n",
    "# data_buy = data_buy.drop_duplicates()"
   ]
  },
  {
   "cell_type": "code",
   "execution_count": 7,
   "metadata": {},
   "outputs": [
    {
     "data": {
      "text/html": [
       "<div>\n",
       "<style scoped>\n",
       "    .dataframe tbody tr th:only-of-type {\n",
       "        vertical-align: middle;\n",
       "    }\n",
       "\n",
       "    .dataframe tbody tr th {\n",
       "        vertical-align: top;\n",
       "    }\n",
       "\n",
       "    .dataframe thead th {\n",
       "        text-align: right;\n",
       "    }\n",
       "</style>\n",
       "<table border=\"1\" class=\"dataframe\">\n",
       "  <thead>\n",
       "    <tr style=\"text-align: right;\">\n",
       "      <th></th>\n",
       "      <th>use_ID</th>\n",
       "      <th>ite_ID</th>\n",
       "      <th>act_ID</th>\n",
       "    </tr>\n",
       "  </thead>\n",
       "  <tbody>\n",
       "    <tr>\n",
       "      <th>0</th>\n",
       "      <td>1980536</td>\n",
       "      <td>1450952</td>\n",
       "      <td>1</td>\n",
       "    </tr>\n",
       "    <tr>\n",
       "      <th>2</th>\n",
       "      <td>647747</td>\n",
       "      <td>1450952</td>\n",
       "      <td>1</td>\n",
       "    </tr>\n",
       "    <tr>\n",
       "      <th>4</th>\n",
       "      <td>183647</td>\n",
       "      <td>578730</td>\n",
       "      <td>1</td>\n",
       "    </tr>\n",
       "    <tr>\n",
       "      <th>5</th>\n",
       "      <td>723956</td>\n",
       "      <td>28301</td>\n",
       "      <td>1</td>\n",
       "    </tr>\n",
       "    <tr>\n",
       "      <th>6</th>\n",
       "      <td>1781938</td>\n",
       "      <td>28301</td>\n",
       "      <td>1</td>\n",
       "    </tr>\n",
       "  </tbody>\n",
       "</table>\n",
       "</div>"
      ],
      "text/plain": [
       "    use_ID   ite_ID  act_ID\n",
       "0  1980536  1450952       1\n",
       "2   647747  1450952       1\n",
       "4   183647   578730       1\n",
       "5   723956    28301       1\n",
       "6  1781938    28301       1"
      ]
     },
     "execution_count": 7,
     "metadata": {},
     "output_type": "execute_result"
    }
   ],
   "source": [
    "data_click.head()"
   ]
  },
  {
   "cell_type": "code",
   "execution_count": null,
   "metadata": {},
   "outputs": [],
   "source": [
    "for"
   ]
  },
  {
   "cell_type": "code",
   "execution_count": 10,
   "metadata": {},
   "outputs": [
    {
     "data": {
      "text/plain": [
       "((53420, 1, 1), (53420, 1, 1), (13382, 1, 1), (13382, 1, 1))"
      ]
     },
     "execution_count": 10,
     "metadata": {},
     "output_type": "execute_result"
    }
   ],
   "source": [
    "msk = np.random.rand(len(data_click)) < 0.8\n",
    "train = data_click[msk]\n",
    "test = data_click[~msk]\n",
    "\n",
    "x_train = train.iloc[:, 0:-2].values\n",
    "y_train = train.iloc[:,2:4].values\n",
    "\n",
    "x_train = np.expand_dims(x_train, axis=-1)\n",
    "y_train = np.expand_dims(y_train, axis=1)\n",
    "\n",
    "x_test = test.iloc[:, 0:-2].values\n",
    "y_test = test.iloc[:,2:4].values\n",
    "\n",
    "x_test = np.expand_dims(x_test, axis=-1)\n",
    "y_test = np.expand_dims(y_test, axis=1)\n",
    "\n",
    "x_train.shape, y_train.shape, x_test.shape, y_test.shape"
   ]
  },
  {
   "cell_type": "code",
   "execution_count": null,
   "metadata": {},
   "outputs": [],
   "source": []
  },
  {
   "cell_type": "code",
   "execution_count": 11,
   "metadata": {},
   "outputs": [
    {
     "name": "stdout",
     "output_type": "stream",
     "text": [
      "[[0.88235854 0.95118057]\n",
      " [1.48484941 1.33539633]\n",
      " [2.03402106 1.45078864]\n",
      " [0.9587645  1.11192121]]\n",
      "[[1.31460278 1.45750658]\n",
      " [1.2832263  1.8766642 ]\n",
      " [2.31352381 0.7100439 ]\n",
      " [1.26363141 0.09921002]]\n",
      "[[3. 3. 3. 1.]\n",
      " [4. 4. 4. 2.]\n",
      " [5. 5. 6. 3.]\n",
      " [3. 3. 3. 1.]]\n"
     ]
    }
   ],
   "source": [
    "\n",
    "R = [[0, 4.0, 2.0, 0],\n",
    "    [4.0, 0, 4.0, 0],\n",
    "    [0, 5.0, 0, 2.0],\n",
    "    [0, 3.0, 4.0, 1.0]]\n",
    "\n",
    "R = np.array(R)\n",
    "\n",
    "N, M = R.shape\n",
    "K = 2\n",
    "\n",
    "P = np.random.uniform(0,5,[N,K])\n",
    "Q = np.random.uniform(0,5,[M,K])\n",
    "\n",
    "nP, nQ, history = matrix_factorization(R, P, Q, K, steps=100, alpha=10e-4,beta=10e-4)\n",
    "nR = np.dot(nP, nQ.T)\n",
    "print(nP)\n",
    "print(nQ)\n",
    "print(np.round(nR))"
   ]
  },
  {
   "cell_type": "code",
   "execution_count": 13,
   "metadata": {},
   "outputs": [
    {
     "data": {
      "image/png": "[encoded data removed]",
      "text/plain": [
       "<Figure size 432x288 with 1 Axes>"
      ]
     },
     "metadata": {
      "needs_background": "light"
     },
     "output_type": "display_data"
    }
   ],
   "source": [
    "import matplotlib.pyplot as plt\n",
    "\n",
    "# summarize history for accuracy\n",
    "plt.plot(history)\n",
    "plt.title('model accuracy')\n",
    "plt.ylabel('mse')\n",
    "plt.xlabel('epoch')\n",
    "plt.legend(['train', 'test'], loc='upper left')\n",
    "plt.show()"
   ]
  },
  {
   "cell_type": "code",
   "execution_count": null,
   "metadata": {},
   "outputs": [],
   "source": []
  }
 ],
 "metadata": {
  "kernelspec": {
   "display_name": "Python 3",
   "language": "python",
   "name": "python3"
  },
  "language_info": {
   "codemirror_mode": {
    "name": "ipython",
    "version": 3
   },
   "file_extension": ".py",
   "mimetype": "text/x-python",
   "name": "python",
   "nbconvert_exporter": "python",
   "pygments_lexer": "ipython3",
   "version": "3.6.8"
  }
 },
 "nbformat": 4,
 "nbformat_minor": 4
}
