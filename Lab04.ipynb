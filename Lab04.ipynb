{
 "cells": [
  {
   "cell_type": "markdown",
   "metadata": {
    "colab_type": "text",
    "id": "Y6DyphAUEBOi"
   },
   "source": [
    "# Lab 04: ResNet\n",
    "\n",
    "Trong bài thực hành này:\n",
    "- Cài đặt, train ResNet34 với data MNIST\n",
    "\n",
    "\n",
    "Reference:\n",
    "- K. He, X. Zhang, S. Ren, and J. Sun, “Deep residual learning for image recognition,” in Proceedings of the IEEE conference on computer vision and pattern recognition, 2016, pp. 770–778. https://arxiv.org/abs/1512.03385"
   ]
  },
  {
   "cell_type": "markdown",
   "metadata": {
    "colab_type": "text",
    "id": "iWA8vNYyEBOj"
   },
   "source": [
    "## 1. Xây dựng ResNet34 bằng tf.keras.layers\n",
    "\n",
    "Trong phần này chúng ta sẽ xây dựng và huấn luyện model ResNet-34 trên dataset MNIST (ảnh được resize)"
   ]
  },
  {
   "cell_type": "code",
   "execution_count": 1,
   "metadata": {
    "colab": {},
    "colab_type": "code",
    "id": "o7yiMO-bEBOl"
   },
   "outputs": [],
   "source": [
    "#import thư viện cần thiết\n",
    "## thư viện machine learning và hỗ trợ\n",
    "import tensorflow as tf\n",
    "from tensorflow import keras\n",
    "import numpy as np\n",
    "\n",
    "## thư viện để vẽ đồ thị\n",
    "import matplotlib.pyplot as plt\n"
   ]
  },
  {
   "cell_type": "markdown",
   "metadata": {
    "colab_type": "text",
    "id": "L2l2tYgIEBOr"
   },
   "source": [
    "### 1.1 Residual Block\n",
    "\n",
    "<img src=\"residual_shortcut.png\" width=\"40%\" height=\"40%\">\n",
    "\n",
    "Đầu tiên, chúng ta sẽ định nghĩa lớp ResidualBlock, lớp này sẽ xây dựng 1 khối residual. Hình trên vẽ một khối Residual cơ bản.\n",
    "\n",
    "Các chú ý thêm:\n",
    "1. Theo paper, down sampling sẽ được thực hiện ở convolutional layer đầu tiên bằng cách cho strides = [2,2]\n",
    "2. Khi kích thước của input bằng kích thước của output, shorcut sẽ chính là input\n",
    "3. Khi kích thước của input khác kích thước của output, shorcut sẽ là 1 lớp convolution và 1 lớp batch normalization, lớp convolution có kernel_size là [1,1];\n",
    "strides và số filters được thiết lập để có cùng kích thước với output. "
   ]
  },
  {
   "cell_type": "code",
   "execution_count": 2,
   "metadata": {
    "colab": {},
    "colab_type": "code",
    "id": "aaP1rRKmPMi3"
   },
   "outputs": [],
   "source": [
    "## Import các layer cần thiết\n",
    "from tensorflow.keras.layers import Input, Dense, Convolution2D, MaxPool2D, BatchNormalization, ReLU, GlobalAveragePooling2D\n",
    "\n",
    "## Định nghĩa 1 Residual Block\n",
    "class ResidualBlock(keras.layers.Layer):\n",
    "\n",
    "    def __init__(self, n_filters=64, kernel_regularizer=None, down_sampling=False):\n",
    "        ## Gọi hàm khởi tạo của keras.layers.Layer và lưu lại các thông số\n",
    "        super(ResidualBlock, self).__init__()\n",
    "        self.n_filters = n_filters\n",
    "        self.down_sampling = down_sampling\n",
    "        self.kernel_regularizer = kernel_regularizer\n",
    "    \n",
    "    ## override hàm này để có thể lưu file\n",
    "    def get_config(self):\n",
    "        ## lấy config của lớp cha\n",
    "        config = super(ResidualBlock, self).get_config()\n",
    "        ## thêm config của lớp này\n",
    "        config.update({\n",
    "            'n_filters': self.n_filters,\n",
    "            \"down_sampling\": self.down_sampling,\n",
    "        })\n",
    "        return config\n",
    "    \n",
    "    def build(self, input_shape):\n",
    "        \n",
    "        ## Xác định xem input_shape có bằng output_shape không\n",
    "        self.projection_shortcut = (int(input_shape[-1]) != self.n_filters) or self.down_sampling\n",
    "        \n",
    "        ## Nếu cần down sampling thì convolutional layer đầu tiên dùng strides=[2,2]\n",
    "        first_strides = [1,1]\n",
    "        if self.down_sampling:\n",
    "            first_strides = [2,2]\n",
    "        \n",
    "        ##Khai báo các layer nhánh chính\n",
    "        self.main_conv1 = Convolution2D(filters=self.n_filters,\n",
    "                                         kernel_size=[3,3],\n",
    "                                         strides=first_strides,\n",
    "                                         padding='same',\n",
    "                                         kernel_regularizer=self.kernel_regularizer,\n",
    "                                         activation=None)\n",
    "        self.main_batch1 = BatchNormalization()\n",
    "        self.main_relu1 = ReLU()\n",
    "\n",
    "        self.main_conv2 = Convolution2D(filters=self.n_filters,\n",
    "                                              kernel_size=[3,3],\n",
    "                                              strides=[1,1],\n",
    "                                              padding='same',\n",
    "                                              kernel_regularizer=self.kernel_regularizer,\n",
    "                                              activation=None)\n",
    "        self.main_batch2 = BatchNormalization()\n",
    "        \n",
    "        ## Khai báo các layer nhánh shortcut\n",
    "        if self.projection_shortcut:\n",
    "            self.shortcut_conv = Convolution2D(filters=self.n_filters,              ### N_FILETERS bằng N_FILTERS của output\n",
    "                                                        kernel_size=[1,1],          ### KERNEL_SIZE = [1,1]\n",
    "                                                        strides=first_strides,      ### STRIDES: giống STRIDES của conv đầu\n",
    "                                                        padding='same',\n",
    "                                                        kernel_regularizer=self.kernel_regularizer,\n",
    "                                                        activation=None)\n",
    "            self.shortcut_batch = BatchNormalization()\n",
    "\n",
    "        self.main_relu2 = ReLU()\n",
    "\n",
    "    def call(self, inputs):\n",
    "        \n",
    "        ## Thiết lập các input cho các layer đã khai báo\n",
    "        main_conv1 = self.main_conv1(inputs)\n",
    "        main_batch1 = self.main_batch1(main_conv1)\n",
    "        main_relu1 = self.main_relu1(main_batch1)\n",
    "        \n",
    "        main_conv2 = self.main_conv2(main_relu1)\n",
    "        main_batch2 = self.main_batch2(main_conv2)\n",
    "\n",
    "        if self.projection_shortcut:\n",
    "            shortcut_conv = self.shortcut_conv(inputs)\n",
    "            shortcut_batch = self.shortcut_batch(shortcut_conv)\n",
    "            \n",
    "            ## Nếu input_shape != output_shape thì shortcut là convolutional layer\n",
    "            shortcut = shortcut_batch\n",
    "        else:\n",
    "            ## Nếu input_shape == output_shape thì shortcut là inputs\n",
    "            shortcut = inputs\n",
    "\n",
    "        main_add = main_batch2 + shortcut\n",
    "\n",
    "        main_relu2 = self.main_relu2(main_add)\n",
    "        return main_relu2"
   ]
  },
  {
   "cell_type": "markdown",
   "metadata": {},
   "source": [
    "### 1.2 Resnet-34\n",
    "\n",
    "<img src=\"NetConfig.png\" width=\"80%\" height=\"80%\">\n",
    "\n",
    "Hình trên vẽ các cấu trúc mạng ResNet có trong paper, ResNet-34 chính là cấu trúc có 34 layer.\n",
    "- Down sampling được thực hiện ở các lớp conv3_1, conv4_1, conv5_1"
   ]
  },
  {
   "cell_type": "code",
   "execution_count": 3,
   "metadata": {
    "colab": {
     "base_uri": "https://localhost:8080/",
     "height": 1000
    },
    "colab_type": "code",
    "id": "8c6cqf3MEBOr",
    "outputId": "7a65356b-c1d1-4b02-cf94-75acec362ca2"
   },
   "outputs": [
    {
     "name": "stdout",
     "output_type": "stream",
     "text": [
      "Cấu trúc của model: \n",
      "Model: \"model\"\n",
      "_________________________________________________________________\n",
      "Layer (type)                 Output Shape              Param #   \n",
      "=================================================================\n",
      "input_1 (InputLayer)         [(None, 32, 32, 1)]       0         \n",
      "_________________________________________________________________\n",
      "conv2d (Conv2D)              (None, 16, 16, 64)        3200      \n",
      "_________________________________________________________________\n",
      "batch_normalization (BatchNo (None, 16, 16, 64)        256       \n",
      "_________________________________________________________________\n",
      "re_lu (ReLU)                 (None, 16, 16, 64)        0         \n",
      "_________________________________________________________________\n",
      "max_pooling2d (MaxPooling2D) (None, 7, 7, 64)          0         \n",
      "_________________________________________________________________\n",
      "residual_block (ResidualBloc (None, 7, 7, 64)          74368     \n",
      "_________________________________________________________________\n",
      "residual_block_1 (ResidualBl (None, 7, 7, 64)          74368     \n",
      "_________________________________________________________________\n",
      "residual_block_2 (ResidualBl (None, 7, 7, 64)          74368     \n",
      "_________________________________________________________________\n",
      "residual_block_3 (ResidualBl (None, 4, 4, 128)         231296    \n",
      "_________________________________________________________________\n",
      "residual_block_4 (ResidualBl (None, 4, 4, 128)         296192    \n",
      "_________________________________________________________________\n",
      "residual_block_5 (ResidualBl (None, 4, 4, 128)         296192    \n",
      "_________________________________________________________________\n",
      "residual_block_6 (ResidualBl (None, 4, 4, 128)         296192    \n",
      "_________________________________________________________________\n",
      "residual_block_7 (ResidualBl (None, 2, 2, 256)         921344    \n",
      "_________________________________________________________________\n",
      "residual_block_8 (ResidualBl (None, 2, 2, 256)         1182208   \n",
      "_________________________________________________________________\n",
      "residual_block_9 (ResidualBl (None, 2, 2, 256)         1182208   \n",
      "_________________________________________________________________\n",
      "residual_block_10 (ResidualB (None, 2, 2, 256)         1182208   \n",
      "_________________________________________________________________\n",
      "residual_block_11 (ResidualB (None, 2, 2, 256)         1182208   \n",
      "_________________________________________________________________\n",
      "residual_block_12 (ResidualB (None, 2, 2, 256)         1182208   \n",
      "_________________________________________________________________\n",
      "residual_block_13 (ResidualB (None, 1, 1, 512)         3677696   \n",
      "_________________________________________________________________\n",
      "residual_block_14 (ResidualB (None, 1, 1, 512)         4723712   \n",
      "_________________________________________________________________\n",
      "residual_block_15 (ResidualB (None, 1, 1, 512)         4723712   \n",
      "_________________________________________________________________\n",
      "global_average_pooling2d (Gl (None, 512)               0         \n",
      "_________________________________________________________________\n",
      "dense (Dense)                (None, 10)                5130      \n",
      "=================================================================\n",
      "Total params: 21,309,066\n",
      "Trainable params: 21,292,042\n",
      "Non-trainable params: 17,024\n",
      "_________________________________________________________________\n"
     ]
    }
   ],
   "source": [
    "from keras.regularizers import l2\n",
    "l2_regularizer_rate = 0.0001\n",
    "\n",
    "## Tạo lớp input kích thước (None, 32, 32, 1)\n",
    "inputs = keras.layers.Input(shape=(32,32,1))\n",
    "\n",
    "### Block 1\n",
    "conv1 = Convolution2D(filters=64,\n",
    "                      kernel_size=[7,7],\n",
    "                      strides=[2,2],\n",
    "                      padding='same',\n",
    "                      kernel_regularizer=l2(l2_regularizer_rate),\n",
    "                      activation=None)(inputs)\n",
    "\n",
    "batch1 = BatchNormalization()(conv1)        ## lớp tf.keras.layers.BatchNormalization()\n",
    "\n",
    "relu1 = ReLU()(batch1)\n",
    "\n",
    "maxpool1 = MaxPool2D(pool_size=[3,3],\n",
    "                     strides=[2,2])(relu1)\n",
    "\n",
    "### Block 2\n",
    "\n",
    "res2_1 = ResidualBlock(n_filters=64,\n",
    "                       down_sampling=False,\n",
    "                       kernel_regularizer=l2(l2_regularizer_rate))(maxpool1)\n",
    "res2_2 = ResidualBlock(n_filters=64,\n",
    "                       down_sampling=False,\n",
    "                       kernel_regularizer=l2(l2_regularizer_rate))(res2_1)\n",
    "res2_3 = ResidualBlock(n_filters=64,\n",
    "                       down_sampling=False,\n",
    "                       kernel_regularizer=l2(l2_regularizer_rate))(res2_2)\n",
    "\n",
    "### Block 3\n",
    "\n",
    "res3_1 = ResidualBlock(n_filters=128,\n",
    "                       down_sampling=True,\n",
    "                       kernel_regularizer=l2(l2_regularizer_rate))(res2_3)\n",
    "res3_2 = ResidualBlock(n_filters=128,\n",
    "                       down_sampling=False,\n",
    "                       kernel_regularizer=l2(l2_regularizer_rate))(res3_1)\n",
    "res3_3 = ResidualBlock(n_filters=128,\n",
    "                       down_sampling=False,\n",
    "                       kernel_regularizer=l2(l2_regularizer_rate))(res3_2)\n",
    "res3_4 = ResidualBlock(n_filters=128,\n",
    "                       down_sampling=False,\n",
    "                       kernel_regularizer=l2(l2_regularizer_rate))(res3_3)\n",
    "\n",
    "### Block 4\n",
    "\n",
    "res4_1 = ResidualBlock(n_filters=256,\n",
    "                       down_sampling=True,\n",
    "                       kernel_regularizer=l2(l2_regularizer_rate))(res3_4)\n",
    "res4_2 = ResidualBlock(n_filters=256,\n",
    "                       down_sampling=False,\n",
    "                       kernel_regularizer=l2(l2_regularizer_rate))(res4_1)\n",
    "res4_3 = ResidualBlock(n_filters=256,\n",
    "                       down_sampling=False,\n",
    "                       kernel_regularizer=l2(l2_regularizer_rate))(res4_2)\n",
    "res4_4 = ResidualBlock(n_filters=256,\n",
    "                       down_sampling=False,\n",
    "                       kernel_regularizer=l2(l2_regularizer_rate))(res4_3)\n",
    "res4_5 = ResidualBlock(n_filters=256,\n",
    "                       down_sampling=False,\n",
    "                       kernel_regularizer=l2(l2_regularizer_rate))(res4_4)\n",
    "res4_6 = ResidualBlock(n_filters=256,\n",
    "                       down_sampling=False,\n",
    "                       kernel_regularizer=l2(l2_regularizer_rate))(res4_5)\n",
    "\n",
    "### Block 5\n",
    "\n",
    "res5_1 = ResidualBlock(n_filters=512,\n",
    "                       down_sampling=True,\n",
    "                       kernel_regularizer=l2(l2_regularizer_rate))(res4_6)\n",
    "res5_2 = ResidualBlock(n_filters=512,\n",
    "                       down_sampling=False,\n",
    "                       kernel_regularizer=l2(l2_regularizer_rate))(res5_1)\n",
    "res5_3 = ResidualBlock(n_filters=512,\n",
    "                       down_sampling=False,\n",
    "                       kernel_regularizer=l2(l2_regularizer_rate))(res5_2)\n",
    "\n",
    "\n",
    "### Block Output\n",
    "\n",
    "avage_pool = GlobalAveragePooling2D()(res5_3)\n",
    "\n",
    "softmax = Dense(units=10, activation='softmax')(avage_pool)\n",
    "\n",
    "## Compile model\n",
    "model = keras.models.Model(inputs=inputs, outputs=softmax)\n",
    "model.compile(optimizer=keras.optimizers.Adam(learning_rate=0.0001),    ##tự khai báo Optimizer với learning rate 10^-4\n",
    "             loss=tf.keras.losses.sparse_categorical_crossentropy,\n",
    "             metrics=[\"accuracy\"])\n",
    "    \n",
    "\n",
    "## In toàn bộ cấu trúc của model\n",
    "print(\"Cấu trúc của model: \")\n",
    "model.summary()\n",
    "\n",
    "\n"
   ]
  },
  {
   "cell_type": "markdown",
   "metadata": {
    "colab_type": "text",
    "id": "8hnPV9b7EBOu"
   },
   "source": [
    "### 1.3 Resize MNIST"
   ]
  },
  {
   "cell_type": "code",
   "execution_count": 4,
   "metadata": {
    "colab": {
     "base_uri": "https://localhost:8080/",
     "height": 68
    },
    "colab_type": "code",
    "id": "ZzEiSsxeEBOv",
    "outputId": "89a9207f-92d7-48ac-c864-bc951e2db998"
   },
   "outputs": [
    {
     "name": "stdout",
     "output_type": "stream",
     "text": [
      "Downloading data from https://storage.googleapis.com/tensorflow/tf-keras-datasets/mnist.npz\n",
      "11493376/11490434 [==============================] - 1s 0us/step\n",
      "(60000, 28, 28) (60000,) (10000, 28, 28) (10000,)\n"
     ]
    }
   ],
   "source": [
    "\n",
    "# Tải dataset MNIST từ tensorflow\n",
    "## MNIST là bài toán dự đoán một ảnh thể hiện ký tự số nào\n",
    "\n",
    "## tải MNIST dataset từ keras\n",
    "(X_train, y_train), (X_test, y_test) = keras.datasets.mnist.load_data()\n",
    "##resacle ảnh thành ảnh thực trong đoạn [0,1]\n",
    "X_train, X_test = X_train/255.0, X_test/255.0\n",
    "\n",
    "##in dataset\n",
    "print(X_train.shape, y_train.shape, X_test.shape, y_test.shape)\n",
    "\n"
   ]
  },
  {
   "cell_type": "code",
   "execution_count": 5,
   "metadata": {
    "colab": {
     "base_uri": "https://localhost:8080/",
     "height": 34
    },
    "colab_type": "code",
    "id": "rbLofc7iEBOz",
    "outputId": "4e03ce3b-b484-4434-9678-a03465911364"
   },
   "outputs": [
    {
     "ename": "ModuleNotFoundError",
     "evalue": "No module named 'cv2'",
     "output_type": "error",
     "traceback": [
      "\u001b[1;31m---------------------------------------------------------------------------\u001b[0m",
      "\u001b[1;31mModuleNotFoundError\u001b[0m                       Traceback (most recent call last)",
      "\u001b[1;32m<ipython-input-5-cd4af0911e66>\u001b[0m in \u001b[0;36m<module>\u001b[1;34m\u001b[0m\n\u001b[0;32m      3\u001b[0m \u001b[1;33m\u001b[0m\u001b[0m\n\u001b[0;32m      4\u001b[0m \u001b[1;31m### Thử resize một ảnh\u001b[0m\u001b[1;33m\u001b[0m\u001b[1;33m\u001b[0m\u001b[1;33m\u001b[0m\u001b[0m\n\u001b[1;32m----> 5\u001b[1;33m \u001b[1;32mimport\u001b[0m \u001b[0mcv2\u001b[0m\u001b[1;33m\u001b[0m\u001b[1;33m\u001b[0m\u001b[0m\n\u001b[0m\u001b[0;32m      6\u001b[0m \u001b[0mresized_img\u001b[0m \u001b[1;33m=\u001b[0m \u001b[0mcv2\u001b[0m\u001b[1;33m.\u001b[0m\u001b[0mresize\u001b[0m\u001b[1;33m(\u001b[0m\u001b[0mX_train\u001b[0m\u001b[1;33m[\u001b[0m\u001b[1;36m0\u001b[0m\u001b[1;33m]\u001b[0m\u001b[1;33m,\u001b[0m \u001b[0mdsize\u001b[0m\u001b[1;33m=\u001b[0m\u001b[1;33m(\u001b[0m\u001b[1;36m32\u001b[0m\u001b[1;33m,\u001b[0m\u001b[1;36m32\u001b[0m\u001b[1;33m)\u001b[0m\u001b[1;33m)\u001b[0m\u001b[1;33m\u001b[0m\u001b[1;33m\u001b[0m\u001b[0m\n\u001b[0;32m      7\u001b[0m \u001b[0mprint\u001b[0m\u001b[1;33m(\u001b[0m\u001b[1;34m\"Kích thước ảnh sau resize: \"\u001b[0m\u001b[1;33m,\u001b[0m \u001b[0mresized_img\u001b[0m\u001b[1;33m.\u001b[0m\u001b[0mshape\u001b[0m\u001b[1;33m)\u001b[0m\u001b[1;33m\u001b[0m\u001b[1;33m\u001b[0m\u001b[0m\n",
      "\u001b[1;31mModuleNotFoundError\u001b[0m: No module named 'cv2'"
     ]
    }
   ],
   "source": [
    "## import thư viện OpenCV trên python\n",
    "#!pip3 install opencv-python\n",
    "\n",
    "### Thử resize một ảnh\n",
    "import cv2\n",
    "resized_img = cv2.resize(X_train[0], dsize=(32,32))\n",
    "print(\"Kích thước ảnh sau resize: \", resized_img.shape)"
   ]
  },
  {
   "cell_type": "code",
   "execution_count": null,
   "metadata": {
    "colab": {
     "base_uri": "https://localhost:8080/",
     "height": 555
    },
    "colab_type": "code",
    "id": "FQNoy_veEBO1",
    "outputId": "6af31bc7-b9ad-4e60-bdda-111dc646a0f3"
   },
   "outputs": [],
   "source": [
    "## Resize toàn bộ ảnh train tập train và test\n",
    "X_train = np.array([cv2.resize(img, dsize=(32,32)) for img in X_train])\n",
    "X_test = np.array([cv2.resize(img, dsize=(32,32)) for img in X_test])\n",
    "print(\"Kích thước tập sau khi resize: \", X_train.shape, X_test.shape)\n",
    "\n",
    "## In xem ảnh còn ổn không sau khi resize\n",
    "plt.imshow(X_train[0])\n",
    "plt.show()\n",
    "\n",
    "## Reshape ảnh để phù hợp với input của model (thêm một trục)\n",
    "X_train = np.expand_dims(X_train, axis=-1)\n",
    "X_test = np.expand_dims(X_test, axis=-1)\n",
    "print(\"Kích thước tập sau khi reshape: \", X_train.shape, X_test.shape)\n",
    "\n",
    "plt.imshow(X_train[0,:,:,0])\n",
    "plt.show()\n",
    "\n",
    "#Tách một phần tập train thành tập valid\n",
    "from sklearn.model_selection import train_test_split\n",
    "X_train, X_valid, y_train, y_valid = train_test_split(X_train, y_train, test_size=0.1)\n",
    "\n",
    "## Reshape ảnh để phù hợp với input của model (thêm một trục)"
   ]
  },
  {
   "cell_type": "markdown",
   "metadata": {},
   "source": [
    "### 1.4 Train"
   ]
  },
  {
   "cell_type": "code",
   "execution_count": null,
   "metadata": {
    "colab": {
     "base_uri": "https://localhost:8080/",
     "height": 493
    },
    "colab_type": "code",
    "id": "OzVdTvPGEBO3",
    "outputId": "a9f67ec5-3819-4051-c6e1-8b57c840334a"
   },
   "outputs": [],
   "source": [
    "# Checkpoint Callback\n",
    "mc = keras.callbacks.ModelCheckpoint(filepath=\"resnet34_mnist.h5\", \n",
    "                                     monitor='val_loss',\n",
    "                                     mode='min', \n",
    "                                     verbose=0, \n",
    "                                     save_best_only=True)\n",
    "\n",
    "## Train  ## Khuyến cáo chạy COLAB (hoặc tương tự)\n",
    "history = model.fit(X_train, y_train,\n",
    "                    batch_size=100,\n",
    "                    epochs=10,\n",
    "                    validation_data=(X_valid, y_valid),\n",
    "                    callbacks=[mc])                    \n",
    "\n",
    "\n",
    "## Đánh giá model trên tập test\n",
    "valid_loss, valid_acc = model.evaluate(X_valid, y_valid)\n",
    "test_loss, test_acc = model.evaluate(X_test, y_test)\n",
    "print(\"Valid: loss {} acc {} -- Test: loss {} valid {}\".format(valid_loss, valid_acc, test_loss, test_acc))\n",
    "\n",
    "## Load lại model tốt nhất đã lưu\n",
    "print(\"best model: \")\n",
    "model.load_weights(\"resnet34_mnist.h5\")\n",
    "valid_loss, valid_acc = model.evaluate(X_valid, y_valid)\n",
    "test_loss, test_acc = model.evaluate(X_test, y_test)\n",
    "print(\"Valid: loss {} acc {} -- Test: loss {} valid {}\".format(valid_loss, valid_acc, test_loss, test_acc))"
   ]
  },
  {
   "cell_type": "markdown",
   "metadata": {
    "colab_type": "text",
    "id": "-DJHprqREBPK"
   },
   "source": [
    "## Bài tập\n",
    "\n",
    "- Xây dựng và huấn luyện ResNet50 (được mô tả cùng ResNet30 trong phần ResNet30) như trong paper với MNIST bằng thư viện keras.layers.\n",
    "\n",
    "Gợi ý:\n",
    "- tf.keras có cài sẵn cấu trúc ResNet50, có thể dùng để tham khảo.\n",
    "- ResNet50 sử dụng một residual block khác gọi là Bottleneck Residual Block được định nghĩa như hình dưới\n",
    "- Down sampling sẽ được thực hiện ở conv3_1, conv4_1, conv5_1\n",
    "- Khi kích thước của input bằng kích thước của output, shorcut sẽ chính là input\n",
    "- Khi kích thước của input khác kích thước của output, shorcut sẽ là 1 lớp convolution và 1 lớp batch normalization, lớp convolution có kernel_size là [1,1];\n",
    "strides và số filters được thiết lập để có cùng kích thước với output. \n",
    "\n",
    "<img src=\"bottleneck_residual_shortcut.png\" width=\"40%\" height=\"40%\">\n"
   ]
  }
 ],
 "metadata": {
  "accelerator": "GPU",
  "colab": {
   "name": "Lab04.ipynb",
   "provenance": []
  },
  "kernelspec": {
   "display_name": "Python 3",
   "language": "python",
   "name": "python3"
  },
  "language_info": {
   "codemirror_mode": {
    "name": "ipython",
    "version": 3
   },
   "file_extension": ".py",
   "mimetype": "text/x-python",
   "name": "python",
   "nbconvert_exporter": "python",
   "pygments_lexer": "ipython3",
   "version": "3.6.8"
  }
 },
 "nbformat": 4,
 "nbformat_minor": 4
}
