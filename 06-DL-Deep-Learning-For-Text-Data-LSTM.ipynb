{
 "cells": [
  {
   "cell_type": "markdown",
   "metadata": {
    "id": "aEl-x4b7z83c"
   },
   "source": [
    "## Toxic Comment Classification Bidirectional LSTM \n",
    "\n",
    "In this notebook I will be using Bidrectional LSTM for Toxic Comment Classification. This notebook follows the same template as 1-D CNN and LSTM but I will be using BLSTM instead.  \n",
    "\n",
    "### The Data \n",
    "\n",
    "The data consists of a large number of Wikipedia comments which have been labeled by human raters for toxic behavior. The types of toxicity are\n",
    " - toxic\n",
    " - severe_toxic\n",
    " - obscene\n",
    " - threat \n",
    " - insult\n",
    " - identity_hate \n",
    " \n",
    "The levels of toxicity are multiple labels that we need to classify. The link to data is given below \n",
    "\n",
    "https://www.kaggle.com/c/jigsaw-toxic-comment-classification-challenge/data\n",
    "\n",
    "Here, I will be using pre-trained Glove word embeddings from Stanford which can be downloaded from the following link. \n",
    "\n",
    "http://nlp.stanford.edu/data/glove.6B.zip"
   ]
  },
  {
   "cell_type": "code",
   "execution_count": null,
   "metadata": {
    "colab": {
     "base_uri": "https://localhost:8080/",
     "height": 34
    },
    "executionInfo": {
     "elapsed": 44884,
     "status": "ok",
     "timestamp": 1602504770024,
     "user": {
      "displayName": "Anh Tuan",
      "photoUrl": "https://lh3.googleusercontent.com/a-/AOh14GiQ9KyiTpC6MMKMLCBAkvhJJ9v-lY1rLIrJhzBO=s64",
      "userId": "03546433032765854702"
     },
     "user_tz": -420
    },
    "id": "6sH9w3Ky0P3Y",
    "outputId": "fe592e7d-025b-4b8b-b097-6c766f53bf65"
   },
   "outputs": [
    {
     "name": "stdout",
     "output_type": "stream",
     "text": [
      "Mounted at /content/gdrive\n"
     ]
    }
   ],
   "source": [
    "# Mount drive \n",
    "from google.colab import drive\n",
    "drive.mount('/content/gdrive')"
   ]
  },
  {
   "cell_type": "code",
   "execution_count": null,
   "metadata": {
    "colab": {
     "base_uri": "https://localhost:8080/",
     "height": 34
    },
    "executionInfo": {
     "elapsed": 976,
     "status": "ok",
     "timestamp": 1602504810119,
     "user": {
      "displayName": "Anh Tuan",
      "photoUrl": "https://lh3.googleusercontent.com/a-/AOh14GiQ9KyiTpC6MMKMLCBAkvhJJ9v-lY1rLIrJhzBO=s64",
      "userId": "03546433032765854702"
     },
     "user_tz": -420
    },
    "id": "cwpLdMfq0eBQ",
    "outputId": "d96b7636-a6ce-4447-ac6c-33b8ab766e34"
   },
   "outputs": [
    {
     "data": {
      "text/plain": [
       "True"
      ]
     },
     "execution_count": 2,
     "metadata": {
      "tags": []
     },
     "output_type": "execute_result"
    }
   ],
   "source": [
    "path = \"//content//gdrive//My Drive//AI School Class//\"\n",
    "import os\n",
    "os.path.isdir(path)   "
   ]
  },
  {
   "cell_type": "markdown",
   "metadata": {
    "id": "hGVutHuaz83d"
   },
   "source": [
    "### Basic Imports "
   ]
  },
  {
   "cell_type": "code",
   "execution_count": null,
   "metadata": {
    "id": "L6cG5f90z83e"
   },
   "outputs": [],
   "source": [
    "import os\n",
    "import sys\n",
    "import numpy as np\n",
    "import pandas as pd\n",
    "import matplotlib.pyplot as plt\n",
    "from keras.preprocessing.text import Tokenizer\n",
    "from keras.preprocessing.sequence import pad_sequences\n",
    "from keras.layers import Dense, Input, GlobalMaxPooling1D\n",
    "from keras.layers import LSTM,Embedding,Bidirectional\n",
    "from keras.models import Model\n",
    "from sklearn.metrics import roc_auc_score"
   ]
  },
  {
   "cell_type": "markdown",
   "metadata": {
    "id": "3uOgw4hLz83i"
   },
   "source": [
    "### Constants "
   ]
  },
  {
   "cell_type": "code",
   "execution_count": null,
   "metadata": {
    "id": "HALrVBsCz83j"
   },
   "outputs": [],
   "source": [
    "MAX_SEQUENCE_LENGTH = 100\n",
    "MAX_VOCAB_SIZE = 20000\n",
    "EMBEDDING_DIM = 100 # pre-trained embeddings only come in specific sizes, so we can only use 50,100,200 or 300\n",
    "VALIDATION_SPLIT = 0.2\n",
    "BATCH_SIZE = 128\n",
    "EPOCHS = 5"
   ]
  },
  {
   "cell_type": "code",
   "execution_count": null,
   "metadata": {
    "colab": {
     "base_uri": "https://localhost:8080/",
     "height": 34
    },
    "executionInfo": {
     "elapsed": 1015,
     "status": "ok",
     "timestamp": 1602506232447,
     "user": {
      "displayName": "Anh Tuan",
      "photoUrl": "https://lh3.googleusercontent.com/a-/AOh14GiQ9KyiTpC6MMKMLCBAkvhJJ9v-lY1rLIrJhzBO=s64",
      "userId": "03546433032765854702"
     },
     "user_tz": -420
    },
    "id": "r2t_kS71BJxM",
    "outputId": "08c6b521-cc0f-430e-b3c1-7d43c4650ae8"
   },
   "outputs": [
    {
     "data": {
      "text/plain": [
       "True"
      ]
     },
     "execution_count": 6,
     "metadata": {
      "tags": []
     },
     "output_type": "execute_result"
    }
   ],
   "source": [
    "EmbeddingPath = path + \"Word Embedding Data//\"\n",
    "os.path.isdir(EmbeddingPath)"
   ]
  },
  {
   "cell_type": "markdown",
   "metadata": {
    "id": "Tj0lcbfNz83m"
   },
   "source": [
    "### Loading Word Embeddings "
   ]
  },
  {
   "cell_type": "code",
   "execution_count": null,
   "metadata": {
    "colab": {
     "base_uri": "https://localhost:8080/",
     "height": 34
    },
    "executionInfo": {
     "elapsed": 12694,
     "status": "ok",
     "timestamp": 1602506305041,
     "user": {
      "displayName": "Anh Tuan",
      "photoUrl": "https://lh3.googleusercontent.com/a-/AOh14GiQ9KyiTpC6MMKMLCBAkvhJJ9v-lY1rLIrJhzBO=s64",
      "userId": "03546433032765854702"
     },
     "user_tz": -420
    },
    "id": "bSNr-828z83n",
    "outputId": "2d0f59e2-fec4-483d-c32c-41c23c550385",
    "scrolled": true
   },
   "outputs": [
    {
     "name": "stdout",
     "output_type": "stream",
     "text": [
      "Found 400000 word vectors.\n"
     ]
    }
   ],
   "source": [
    "word2vec = {}\n",
    "with open(os.path.join(EmbeddingPath + 'glove.6B.100d.txt'),encoding='utf8') as f:\n",
    "    for line in f:\n",
    "        values = line.split()\n",
    "        word = values[0]\n",
    "        vec = np.asarray(values[1:], dtype='float32')\n",
    "        word2vec[word] = vec\n",
    "print('Found {} word vectors.'.format(len(word2vec)))"
   ]
  },
  {
   "cell_type": "code",
   "execution_count": null,
   "metadata": {
    "colab": {
     "base_uri": "https://localhost:8080/",
     "height": 311
    },
    "executionInfo": {
     "elapsed": 1003,
     "status": "ok",
     "timestamp": 1602506379982,
     "user": {
      "displayName": "Anh Tuan",
      "photoUrl": "https://lh3.googleusercontent.com/a-/AOh14GiQ9KyiTpC6MMKMLCBAkvhJJ9v-lY1rLIrJhzBO=s64",
      "userId": "03546433032765854702"
     },
     "user_tz": -420
    },
    "id": "yRItBupGz83p",
    "outputId": "d2626da8-8f80-4bad-bcef-5fc63046a6e1"
   },
   "outputs": [
    {
     "name": "stdout",
     "output_type": "stream",
     "text": [
      "[ 0.80336    0.51195   -0.58513   -0.16546   -0.65033    0.55772\n",
      " -0.051099   1.0536    -0.45597    1.0997    -0.19709   -0.69005\n",
      "  0.2634     1.0464    -0.31459   -0.41741    0.7036     0.27429\n",
      " -0.79007    0.46717   -0.92044    0.041713   0.75599   -0.13162\n",
      " -0.30481   -0.5513    -0.54436   -1.1833    -0.79556    0.55663\n",
      " -0.76105    0.8459     0.30398    0.5447    -0.72929    0.11762\n",
      " -0.70917    0.26656   -0.06753    0.053805  -0.87024    0.19024\n",
      " -0.59956   -0.46065    0.17753    0.22736    0.40392    0.26203\n",
      "  0.46493   -0.099527  -0.50003   -1.0067    -0.35254    0.27211\n",
      " -0.39462   -3.0186     0.46466   -0.63553    1.6931     0.078175\n",
      " -0.049976   0.47524    0.13094    0.098022  -0.0098746 -0.68214\n",
      "  0.49468    0.11997    0.34533    1.0207    -0.26943   -0.195\n",
      " -0.063351  -0.13269   -0.41522    0.49386    0.44739    0.51464\n",
      " -0.71938   -1.0296    -0.055796   0.34624   -0.37473   -0.90457\n",
      " -1.1705    -0.027685  -0.39492   -1.1926     0.38333    0.070544\n",
      " -0.4583    -0.33669    0.0041694  0.85152   -1.3539     0.016616\n",
      " -0.078291  -0.12729    0.64313    0.13859  ]\n"
     ]
    }
   ],
   "source": [
    "print(word2vec['school'])"
   ]
  },
  {
   "cell_type": "code",
   "execution_count": null,
   "metadata": {
    "colab": {
     "base_uri": "https://localhost:8080/",
     "height": 34
    },
    "executionInfo": {
     "elapsed": 1115,
     "status": "ok",
     "timestamp": 1602506424592,
     "user": {
      "displayName": "Anh Tuan",
      "photoUrl": "https://lh3.googleusercontent.com/a-/AOh14GiQ9KyiTpC6MMKMLCBAkvhJJ9v-lY1rLIrJhzBO=s64",
      "userId": "03546433032765854702"
     },
     "user_tz": -420
    },
    "id": "l9yzF0xyz83s",
    "outputId": "d24d8615-e6f8-4727-889d-f3f424bf7353"
   },
   "outputs": [
    {
     "data": {
      "text/plain": [
       "3.047947"
      ]
     },
     "execution_count": 9,
     "metadata": {
      "tags": []
     },
     "output_type": "execute_result"
    }
   ],
   "source": [
    "dist = np.linalg.norm(word2vec['mother'] - word2vec['father'])\n",
    "dist"
   ]
  },
  {
   "cell_type": "code",
   "execution_count": null,
   "metadata": {
    "colab": {
     "base_uri": "https://localhost:8080/",
     "height": 34
    },
    "executionInfo": {
     "elapsed": 1048,
     "status": "ok",
     "timestamp": 1602506453950,
     "user": {
      "displayName": "Anh Tuan",
      "photoUrl": "https://lh3.googleusercontent.com/a-/AOh14GiQ9KyiTpC6MMKMLCBAkvhJJ9v-lY1rLIrJhzBO=s64",
      "userId": "03546433032765854702"
     },
     "user_tz": -420
    },
    "id": "7sgKgw7Oz83v",
    "outputId": "d90b75c6-a406-4631-8a22-7c9c2eb95791"
   },
   "outputs": [
    {
     "data": {
      "text/plain": [
       "3.8879817"
      ]
     },
     "execution_count": 10,
     "metadata": {
      "tags": []
     },
     "output_type": "execute_result"
    }
   ],
   "source": [
    "dist = np.linalg.norm(word2vec['mother'] - word2vec['child'])\n",
    "dist"
   ]
  },
  {
   "cell_type": "code",
   "execution_count": null,
   "metadata": {
    "colab": {
     "base_uri": "https://localhost:8080/",
     "height": 34
    },
    "executionInfo": {
     "elapsed": 991,
     "status": "ok",
     "timestamp": 1602506465175,
     "user": {
      "displayName": "Anh Tuan",
      "photoUrl": "https://lh3.googleusercontent.com/a-/AOh14GiQ9KyiTpC6MMKMLCBAkvhJJ9v-lY1rLIrJhzBO=s64",
      "userId": "03546433032765854702"
     },
     "user_tz": -420
    },
    "id": "ltKB5gwKz83x",
    "outputId": "9732dee2-90f4-4a81-cf6f-fb96ce3612a9"
   },
   "outputs": [
    {
     "data": {
      "text/plain": [
       "5.258319"
      ]
     },
     "execution_count": 11,
     "metadata": {
      "tags": []
     },
     "output_type": "execute_result"
    }
   ],
   "source": [
    "dist = np.linalg.norm(word2vec['study'] - word2vec['learn'])\n",
    "dist"
   ]
  },
  {
   "cell_type": "code",
   "execution_count": null,
   "metadata": {
    "colab": {
     "base_uri": "https://localhost:8080/",
     "height": 34
    },
    "executionInfo": {
     "elapsed": 970,
     "status": "ok",
     "timestamp": 1602506478744,
     "user": {
      "displayName": "Anh Tuan",
      "photoUrl": "https://lh3.googleusercontent.com/a-/AOh14GiQ9KyiTpC6MMKMLCBAkvhJJ9v-lY1rLIrJhzBO=s64",
      "userId": "03546433032765854702"
     },
     "user_tz": -420
    },
    "id": "skAzKA_Ez830",
    "outputId": "931dec96-82a8-4a52-8381-06998bc17abc"
   },
   "outputs": [
    {
     "data": {
      "text/plain": [
       "4.36827"
      ]
     },
     "execution_count": 12,
     "metadata": {
      "tags": []
     },
     "output_type": "execute_result"
    }
   ],
   "source": [
    "dist = np.linalg.norm(word2vec['study'] - word2vec['studied'])\n",
    "dist"
   ]
  },
  {
   "cell_type": "markdown",
   "metadata": {
    "id": "jrFCvYynz832"
   },
   "source": [
    "### Loading Data"
   ]
  },
  {
   "cell_type": "code",
   "execution_count": null,
   "metadata": {
    "id": "29vxG3vMz833"
   },
   "outputs": [],
   "source": [
    "DataPath = path + \"Toxic Data//\"\n",
    "data_train = pd.read_csv(DataPath + 'train.csv')"
   ]
  },
  {
   "cell_type": "code",
   "execution_count": null,
   "metadata": {
    "colab": {
     "base_uri": "https://localhost:8080/",
     "height": 198
    },
    "executionInfo": {
     "elapsed": 1038,
     "status": "ok",
     "timestamp": 1602506563991,
     "user": {
      "displayName": "Anh Tuan",
      "photoUrl": "https://lh3.googleusercontent.com/a-/AOh14GiQ9KyiTpC6MMKMLCBAkvhJJ9v-lY1rLIrJhzBO=s64",
      "userId": "03546433032765854702"
     },
     "user_tz": -420
    },
    "id": "eltb7wWrz835",
    "outputId": "f9d81d7d-1e2e-4247-ed03-e72db713e098"
   },
   "outputs": [
    {
     "data": {
      "text/html": [
       "<div>\n",
       "<style scoped>\n",
       "    .dataframe tbody tr th:only-of-type {\n",
       "        vertical-align: middle;\n",
       "    }\n",
       "\n",
       "    .dataframe tbody tr th {\n",
       "        vertical-align: top;\n",
       "    }\n",
       "\n",
       "    .dataframe thead th {\n",
       "        text-align: right;\n",
       "    }\n",
       "</style>\n",
       "<table border=\"1\" class=\"dataframe\">\n",
       "  <thead>\n",
       "    <tr style=\"text-align: right;\">\n",
       "      <th></th>\n",
       "      <th>id</th>\n",
       "      <th>comment_text</th>\n",
       "      <th>toxic</th>\n",
       "      <th>severe_toxic</th>\n",
       "      <th>obscene</th>\n",
       "      <th>threat</th>\n",
       "      <th>insult</th>\n",
       "      <th>identity_hate</th>\n",
       "    </tr>\n",
       "  </thead>\n",
       "  <tbody>\n",
       "    <tr>\n",
       "      <th>0</th>\n",
       "      <td>0000997932d777bf</td>\n",
       "      <td>Explanation\\nWhy the edits made under my usern...</td>\n",
       "      <td>0</td>\n",
       "      <td>0</td>\n",
       "      <td>0</td>\n",
       "      <td>0</td>\n",
       "      <td>0</td>\n",
       "      <td>0</td>\n",
       "    </tr>\n",
       "    <tr>\n",
       "      <th>1</th>\n",
       "      <td>000103f0d9cfb60f</td>\n",
       "      <td>D'aww! He matches this background colour I'm s...</td>\n",
       "      <td>0</td>\n",
       "      <td>0</td>\n",
       "      <td>0</td>\n",
       "      <td>0</td>\n",
       "      <td>0</td>\n",
       "      <td>0</td>\n",
       "    </tr>\n",
       "    <tr>\n",
       "      <th>2</th>\n",
       "      <td>000113f07ec002fd</td>\n",
       "      <td>Hey man, I'm really not trying to edit war. It...</td>\n",
       "      <td>0</td>\n",
       "      <td>0</td>\n",
       "      <td>0</td>\n",
       "      <td>0</td>\n",
       "      <td>0</td>\n",
       "      <td>0</td>\n",
       "    </tr>\n",
       "    <tr>\n",
       "      <th>3</th>\n",
       "      <td>0001b41b1c6bb37e</td>\n",
       "      <td>\"\\nMore\\nI can't make any real suggestions on ...</td>\n",
       "      <td>0</td>\n",
       "      <td>0</td>\n",
       "      <td>0</td>\n",
       "      <td>0</td>\n",
       "      <td>0</td>\n",
       "      <td>0</td>\n",
       "    </tr>\n",
       "    <tr>\n",
       "      <th>4</th>\n",
       "      <td>0001d958c54c6e35</td>\n",
       "      <td>You, sir, are my hero. Any chance you remember...</td>\n",
       "      <td>0</td>\n",
       "      <td>0</td>\n",
       "      <td>0</td>\n",
       "      <td>0</td>\n",
       "      <td>0</td>\n",
       "      <td>0</td>\n",
       "    </tr>\n",
       "  </tbody>\n",
       "</table>\n",
       "</div>"
      ],
      "text/plain": [
       "                 id  ... identity_hate\n",
       "0  0000997932d777bf  ...             0\n",
       "1  000103f0d9cfb60f  ...             0\n",
       "2  000113f07ec002fd  ...             0\n",
       "3  0001b41b1c6bb37e  ...             0\n",
       "4  0001d958c54c6e35  ...             0\n",
       "\n",
       "[5 rows x 8 columns]"
      ]
     },
     "execution_count": 14,
     "metadata": {
      "tags": []
     },
     "output_type": "execute_result"
    }
   ],
   "source": [
    "data_train.head()"
   ]
  },
  {
   "cell_type": "code",
   "execution_count": null,
   "metadata": {
    "colab": {
     "base_uri": "https://localhost:8080/",
     "height": 34
    },
    "executionInfo": {
     "elapsed": 944,
     "status": "ok",
     "timestamp": 1602506600527,
     "user": {
      "displayName": "Anh Tuan",
      "photoUrl": "https://lh3.googleusercontent.com/a-/AOh14GiQ9KyiTpC6MMKMLCBAkvhJJ9v-lY1rLIrJhzBO=s64",
      "userId": "03546433032765854702"
     },
     "user_tz": -420
    },
    "id": "c0PRjNA6z838",
    "outputId": "5229e2aa-88c1-4658-c5fe-76df155b2b7f"
   },
   "outputs": [
    {
     "data": {
      "text/plain": [
       "(159571, 8)"
      ]
     },
     "execution_count": 15,
     "metadata": {
      "tags": []
     },
     "output_type": "execute_result"
    }
   ],
   "source": [
    "data_train.shape"
   ]
  },
  {
   "cell_type": "code",
   "execution_count": null,
   "metadata": {
    "colab": {
     "base_uri": "https://localhost:8080/",
     "height": 276
    },
    "executionInfo": {
     "elapsed": 1149,
     "status": "ok",
     "timestamp": 1602506612738,
     "user": {
      "displayName": "Anh Tuan",
      "photoUrl": "https://lh3.googleusercontent.com/a-/AOh14GiQ9KyiTpC6MMKMLCBAkvhJJ9v-lY1rLIrJhzBO=s64",
      "userId": "03546433032765854702"
     },
     "user_tz": -420
    },
    "id": "W1dwZ65sz83-",
    "outputId": "110c5b11-8154-463a-b718-1b7b953d149c"
   },
   "outputs": [
    {
     "name": "stdout",
     "output_type": "stream",
     "text": [
      "<class 'pandas.core.frame.DataFrame'>\n",
      "RangeIndex: 159571 entries, 0 to 159570\n",
      "Data columns (total 8 columns):\n",
      " #   Column         Non-Null Count   Dtype \n",
      "---  ------         --------------   ----- \n",
      " 0   id             159571 non-null  object\n",
      " 1   comment_text   159571 non-null  object\n",
      " 2   toxic          159571 non-null  int64 \n",
      " 3   severe_toxic   159571 non-null  int64 \n",
      " 4   obscene        159571 non-null  int64 \n",
      " 5   threat         159571 non-null  int64 \n",
      " 6   insult         159571 non-null  int64 \n",
      " 7   identity_hate  159571 non-null  int64 \n",
      "dtypes: int64(6), object(2)\n",
      "memory usage: 9.7+ MB\n"
     ]
    }
   ],
   "source": [
    "data_train.info()"
   ]
  },
  {
   "cell_type": "markdown",
   "metadata": {
    "id": "zsvUpqG7z84B"
   },
   "source": [
    "### Seprating comments from the data frame"
   ]
  },
  {
   "cell_type": "code",
   "execution_count": null,
   "metadata": {
    "id": "hd2VbHzoz84B"
   },
   "outputs": [],
   "source": [
    "comments = data_train['comment_text'].fillna('Dummy_Value').values"
   ]
  },
  {
   "cell_type": "code",
   "execution_count": null,
   "metadata": {
    "colab": {
     "base_uri": "https://localhost:8080/",
     "height": 34
    },
    "executionInfo": {
     "elapsed": 963,
     "status": "ok",
     "timestamp": 1602506761400,
     "user": {
      "displayName": "Anh Tuan",
      "photoUrl": "https://lh3.googleusercontent.com/a-/AOh14GiQ9KyiTpC6MMKMLCBAkvhJJ9v-lY1rLIrJhzBO=s64",
      "userId": "03546433032765854702"
     },
     "user_tz": -420
    },
    "id": "UwXD4oCdz84G",
    "outputId": "046011aa-930b-4ea3-9074-c4527f755fa4"
   },
   "outputs": [
    {
     "data": {
      "text/plain": [
       "(159571,)"
      ]
     },
     "execution_count": 19,
     "metadata": {
      "tags": []
     },
     "output_type": "execute_result"
    }
   ],
   "source": [
    "comments.shape"
   ]
  },
  {
   "cell_type": "code",
   "execution_count": null,
   "metadata": {
    "colab": {
     "base_uri": "https://localhost:8080/",
     "height": 34
    },
    "executionInfo": {
     "elapsed": 1138,
     "status": "ok",
     "timestamp": 1602506771022,
     "user": {
      "displayName": "Anh Tuan",
      "photoUrl": "https://lh3.googleusercontent.com/a-/AOh14GiQ9KyiTpC6MMKMLCBAkvhJJ9v-lY1rLIrJhzBO=s64",
      "userId": "03546433032765854702"
     },
     "user_tz": -420
    },
    "id": "M4xUSjj8z84J",
    "outputId": "09ec28fc-a7c3-4800-ea44-eccb53827a00"
   },
   "outputs": [
    {
     "data": {
      "text/plain": [
       "numpy.ndarray"
      ]
     },
     "execution_count": 20,
     "metadata": {
      "tags": []
     },
     "output_type": "execute_result"
    }
   ],
   "source": [
    "type(comments)"
   ]
  },
  {
   "cell_type": "markdown",
   "metadata": {
    "id": "N-kvH1h1z84L"
   },
   "source": [
    "### Creating labes for the multi-label classification "
   ]
  },
  {
   "cell_type": "code",
   "execution_count": null,
   "metadata": {
    "id": "fDNceor_z84L"
   },
   "outputs": [],
   "source": [
    "labels = [\"toxic\", \"severe_toxic\", \"obscene\", \"threat\", \"insult\", \"identity_hate\"]"
   ]
  },
  {
   "cell_type": "code",
   "execution_count": null,
   "metadata": {
    "colab": {
     "base_uri": "https://localhost:8080/",
     "height": 138
    },
    "executionInfo": {
     "elapsed": 1018,
     "status": "ok",
     "timestamp": 1602506967492,
     "user": {
      "displayName": "Anh Tuan",
      "photoUrl": "https://lh3.googleusercontent.com/a-/AOh14GiQ9KyiTpC6MMKMLCBAkvhJJ9v-lY1rLIrJhzBO=s64",
      "userId": "03546433032765854702"
     },
     "user_tz": -420
    },
    "id": "kPEcKkvrz84O",
    "outputId": "737163fa-702c-4240-d833-ec2d9f12194c"
   },
   "outputs": [
    {
     "data": {
      "text/plain": [
       "['comment_text',\n",
       " 'toxic',\n",
       " 'severe_toxic',\n",
       " 'obscene',\n",
       " 'threat',\n",
       " 'insult',\n",
       " 'identity_hate']"
      ]
     },
     "execution_count": 26,
     "metadata": {
      "tags": []
     },
     "output_type": "execute_result"
    }
   ],
   "source": [
    "list(data_train.columns)[1:]"
   ]
  },
  {
   "cell_type": "code",
   "execution_count": null,
   "metadata": {
    "id": "9YPnnffyz84R"
   },
   "outputs": [],
   "source": [
    "targets = data_train[labels].values"
   ]
  },
  {
   "cell_type": "code",
   "execution_count": null,
   "metadata": {
    "colab": {
     "base_uri": "https://localhost:8080/",
     "height": 34
    },
    "executionInfo": {
     "elapsed": 972,
     "status": "ok",
     "timestamp": 1602507067159,
     "user": {
      "displayName": "Anh Tuan",
      "photoUrl": "https://lh3.googleusercontent.com/a-/AOh14GiQ9KyiTpC6MMKMLCBAkvhJJ9v-lY1rLIrJhzBO=s64",
      "userId": "03546433032765854702"
     },
     "user_tz": -420
    },
    "id": "R_Rj4nObz84T",
    "outputId": "53624cf2-d6f2-4964-af40-19d400c8d1f8"
   },
   "outputs": [
    {
     "data": {
      "text/plain": [
       "(159571, 6)"
      ]
     },
     "execution_count": 28,
     "metadata": {
      "tags": []
     },
     "output_type": "execute_result"
    }
   ],
   "source": [
    "# targets shape : (Num of Samples,Num of target labels)\n",
    "targets.shape"
   ]
  },
  {
   "cell_type": "code",
   "execution_count": null,
   "metadata": {
    "colab": {
     "base_uri": "https://localhost:8080/",
     "height": 138
    },
    "executionInfo": {
     "elapsed": 1026,
     "status": "ok",
     "timestamp": 1602507083175,
     "user": {
      "displayName": "Anh Tuan",
      "photoUrl": "https://lh3.googleusercontent.com/a-/AOh14GiQ9KyiTpC6MMKMLCBAkvhJJ9v-lY1rLIrJhzBO=s64",
      "userId": "03546433032765854702"
     },
     "user_tz": -420
    },
    "id": "mcsD9jxU3YPR",
    "outputId": "57e92c07-beea-4476-bbe0-a0cb0953f244"
   },
   "outputs": [
    {
     "data": {
      "text/plain": [
       "array([[0, 0, 0, 0, 0, 0],\n",
       "       [0, 0, 0, 0, 0, 0],\n",
       "       [0, 0, 0, 0, 0, 0],\n",
       "       ...,\n",
       "       [0, 0, 0, 0, 0, 0],\n",
       "       [0, 0, 0, 0, 0, 0],\n",
       "       [0, 0, 0, 0, 0, 0]])"
      ]
     },
     "execution_count": 29,
     "metadata": {
      "tags": []
     },
     "output_type": "execute_result"
    }
   ],
   "source": [
    "targets"
   ]
  },
  {
   "cell_type": "code",
   "execution_count": null,
   "metadata": {
    "colab": {
     "base_uri": "https://localhost:8080/",
     "height": 175
    },
    "executionInfo": {
     "elapsed": 1134,
     "status": "ok",
     "timestamp": 1602507126690,
     "user": {
      "displayName": "Anh Tuan",
      "photoUrl": "https://lh3.googleusercontent.com/a-/AOh14GiQ9KyiTpC6MMKMLCBAkvhJJ9v-lY1rLIrJhzBO=s64",
      "userId": "03546433032765854702"
     },
     "user_tz": -420
    },
    "id": "w9Lc9rcL3h_T",
    "outputId": "040772ef-25f2-4ec4-c93d-d5df38f90bcd"
   },
   "outputs": [
    {
     "data": {
      "text/plain": [
       "array([\"Explanation\\nWhy the edits made under my username Hardcore Metallica Fan were reverted? They weren't vandalisms, just closure on some GAs after I voted at New York Dolls FAC. And please don't remove the template from the talk page since I'm retired now.89.205.38.27\",\n",
       "       \"D'aww! He matches this background colour I'm seemingly stuck with. Thanks.  (talk) 21:51, January 11, 2016 (UTC)\",\n",
       "       \"Hey man, I'm really not trying to edit war. It's just that this guy is constantly removing relevant information and talking to me through edits instead of my talk page. He seems to care more about the formatting than the actual info.\",\n",
       "       ...,\n",
       "       'Spitzer \\n\\nUmm, theres no actual article for prostitution ring.  - Crunch Captain.',\n",
       "       'And it looks like it was actually you who put on the speedy to have the first version deleted now that I look at it.',\n",
       "       '\"\\nAnd ... I really don\\'t think you understand.  I came here and my idea was bad right away.  What kind of community goes \"\"you have bad ideas\"\" go away, instead of helping rewrite them.   \"'],\n",
       "      dtype=object)"
      ]
     },
     "execution_count": 30,
     "metadata": {
      "tags": []
     },
     "output_type": "execute_result"
    }
   ],
   "source": [
    "comments"
   ]
  },
  {
   "cell_type": "markdown",
   "metadata": {
    "id": "cPgmXUzwz84V"
   },
   "source": [
    "### Printing out some information about the comments"
   ]
  },
  {
   "cell_type": "code",
   "execution_count": null,
   "metadata": {
    "colab": {
     "base_uri": "https://localhost:8080/",
     "height": 34
    },
    "executionInfo": {
     "elapsed": 1137,
     "status": "ok",
     "timestamp": 1601906662088,
     "user": {
      "displayName": "Anh Tuan",
      "photoUrl": "https://lh3.googleusercontent.com/a-/AOh14GiQ9KyiTpC6MMKMLCBAkvhJJ9v-lY1rLIrJhzBO=s64",
      "userId": "03546433032765854702"
     },
     "user_tz": -420
    },
    "id": "v1ee5Jx9z84V",
    "outputId": "e38f0ad1-8ebf-42d0-c185-7c1f6c179787"
   },
   "outputs": [
    {
     "name": "stdout",
     "output_type": "stream",
     "text": [
      "Max Sentence Length :  5000\n"
     ]
    }
   ],
   "source": [
    "print('Max Sentence Length : ', max(len(sentence) for sentence in  comments))"
   ]
  },
  {
   "cell_type": "code",
   "execution_count": null,
   "metadata": {
    "colab": {
     "base_uri": "https://localhost:8080/",
     "height": 34
    },
    "executionInfo": {
     "elapsed": 1425,
     "status": "ok",
     "timestamp": 1601906668585,
     "user": {
      "displayName": "Anh Tuan",
      "photoUrl": "https://lh3.googleusercontent.com/a-/AOh14GiQ9KyiTpC6MMKMLCBAkvhJJ9v-lY1rLIrJhzBO=s64",
      "userId": "03546433032765854702"
     },
     "user_tz": -420
    },
    "id": "QAsG4ozuz84a",
    "outputId": "3dbc9def-e426-407c-e2bb-57189d016087"
   },
   "outputs": [
    {
     "name": "stdout",
     "output_type": "stream",
     "text": [
      "Min Sentence Lenth : 6\n"
     ]
    }
   ],
   "source": [
    "print('Min Sentence Lenth :', min(len(sentence) for sentence in comments))"
   ]
  },
  {
   "cell_type": "code",
   "execution_count": null,
   "metadata": {
    "colab": {
     "base_uri": "https://localhost:8080/",
     "height": 34
    },
    "executionInfo": {
     "elapsed": 1175,
     "status": "ok",
     "timestamp": 1601906691425,
     "user": {
      "displayName": "Anh Tuan",
      "photoUrl": "https://lh3.googleusercontent.com/a-/AOh14GiQ9KyiTpC6MMKMLCBAkvhJJ9v-lY1rLIrJhzBO=s64",
      "userId": "03546433032765854702"
     },
     "user_tz": -420
    },
    "id": "pCL610BKz84g",
    "outputId": "c22bc817-a049-4d97-cc1a-7782f25a3fdb"
   },
   "outputs": [
    {
     "name": "stdout",
     "output_type": "stream",
     "text": [
      "Median Sentence Lenth : 205\n"
     ]
    }
   ],
   "source": [
    "sorted_comments = sorted(len(sentensce) for sentensce in comments)\n",
    "print('Median Sentence Lenth :', sorted_comments[len(sorted_comments)//2])"
   ]
  },
  {
   "cell_type": "markdown",
   "metadata": {
    "id": "eqRQik1dz84j"
   },
   "source": [
    "### Tokenizing "
   ]
  },
  {
   "cell_type": "code",
   "execution_count": null,
   "metadata": {
    "id": "_l_Q9d6Yz84j"
   },
   "outputs": [],
   "source": [
    "tokenizer = Tokenizer(num_words=MAX_VOCAB_SIZE)"
   ]
  },
  {
   "cell_type": "code",
   "execution_count": null,
   "metadata": {
    "id": "yN_mcgJ9z84m"
   },
   "outputs": [],
   "source": [
    "tokenizer.fit_on_texts(comments)"
   ]
  },
  {
   "cell_type": "code",
   "execution_count": null,
   "metadata": {
    "id": "BcdLBw10z84s"
   },
   "outputs": [],
   "source": [
    "sequences = tokenizer.texts_to_sequences(comments)"
   ]
  },
  {
   "cell_type": "code",
   "execution_count": null,
   "metadata": {
    "colab": {
     "base_uri": "https://localhost:8080/",
     "height": 54
    },
    "executionInfo": {
     "elapsed": 1108,
     "status": "ok",
     "timestamp": 1602507341545,
     "user": {
      "displayName": "Anh Tuan",
      "photoUrl": "https://lh3.googleusercontent.com/a-/AOh14GiQ9KyiTpC6MMKMLCBAkvhJJ9v-lY1rLIrJhzBO=s64",
      "userId": "03546433032765854702"
     },
     "user_tz": -420
    },
    "id": "52Ft5PPnz84x",
    "outputId": "fd522903-2a3a-4495-99a4-b1775a62e691"
   },
   "outputs": [
    {
     "name": "stdout",
     "output_type": "stream",
     "text": [
      "[688, 75, 1, 126, 130, 177, 29, 672, 4511, 12052, 1116, 86, 331, 51, 2278, 11448, 50, 6864, 15, 60, 2756, 148, 7, 2937, 34, 117, 1221, 15190, 2825, 4, 45, 59, 244, 1, 365, 31, 1, 38, 27, 143, 73, 3462, 89, 3085, 4583, 2273, 985]\n"
     ]
    }
   ],
   "source": [
    "print(sequences[0])"
   ]
  },
  {
   "cell_type": "code",
   "execution_count": null,
   "metadata": {
    "colab": {
     "base_uri": "https://localhost:8080/",
     "height": 34
    },
    "executionInfo": {
     "elapsed": 1048,
     "status": "ok",
     "timestamp": 1602507393035,
     "user": {
      "displayName": "Anh Tuan",
      "photoUrl": "https://lh3.googleusercontent.com/a-/AOh14GiQ9KyiTpC6MMKMLCBAkvhJJ9v-lY1rLIrJhzBO=s64",
      "userId": "03546433032765854702"
     },
     "user_tz": -420
    },
    "id": "8l59lgjbz842",
    "outputId": "cdb3dc44-717a-48af-bdec-dec12a27185f"
   },
   "outputs": [
    {
     "data": {
      "text/plain": [
       "159571"
      ]
     },
     "execution_count": 37,
     "metadata": {
      "tags": []
     },
     "output_type": "execute_result"
    }
   ],
   "source": [
    "len(sequences)"
   ]
  },
  {
   "cell_type": "code",
   "execution_count": null,
   "metadata": {
    "colab": {
     "base_uri": "https://localhost:8080/",
     "height": 52
    },
    "executionInfo": {
     "elapsed": 984,
     "status": "ok",
     "timestamp": 1602507407107,
     "user": {
      "displayName": "Anh Tuan",
      "photoUrl": "https://lh3.googleusercontent.com/a-/AOh14GiQ9KyiTpC6MMKMLCBAkvhJJ9v-lY1rLIrJhzBO=s64",
      "userId": "03546433032765854702"
     },
     "user_tz": -420
    },
    "id": "CqojkxdGz84_",
    "outputId": "2e5afb56-611c-477f-df48-da38583aa7c3"
   },
   "outputs": [
    {
     "data": {
      "application/vnd.google.colaboratory.intrinsic+json": {
       "type": "string"
      },
      "text/plain": [
       "\"Explanation\\nWhy the edits made under my username Hardcore Metallica Fan were reverted? They weren't vandalisms, just closure on some GAs after I voted at New York Dolls FAC. And please don't remove the template from the talk page since I'm retired now.89.205.38.27\""
      ]
     },
     "execution_count": 38,
     "metadata": {
      "tags": []
     },
     "output_type": "execute_result"
    }
   ],
   "source": [
    "comments[0]"
   ]
  },
  {
   "cell_type": "code",
   "execution_count": null,
   "metadata": {
    "colab": {
     "base_uri": "https://localhost:8080/",
     "height": 34
    },
    "executionInfo": {
     "elapsed": 1194,
     "status": "ok",
     "timestamp": 1602507448211,
     "user": {
      "displayName": "Anh Tuan",
      "photoUrl": "https://lh3.googleusercontent.com/a-/AOh14GiQ9KyiTpC6MMKMLCBAkvhJJ9v-lY1rLIrJhzBO=s64",
      "userId": "03546433032765854702"
     },
     "user_tz": -420
    },
    "id": "3Hv_wNulz85J",
    "outputId": "a0cbb7e5-510a-4e9a-ecdb-46926a482b78"
   },
   "outputs": [
    {
     "name": "stdout",
     "output_type": "stream",
     "text": [
      "Max sequence length: 1400\n"
     ]
    }
   ],
   "source": [
    "print(\"Max sequence length:\", max(len(s) for s in sequences))"
   ]
  },
  {
   "cell_type": "code",
   "execution_count": null,
   "metadata": {
    "colab": {
     "base_uri": "https://localhost:8080/",
     "height": 34
    },
    "executionInfo": {
     "elapsed": 1053,
     "status": "ok",
     "timestamp": 1601634655552,
     "user": {
      "displayName": "Anh Tuan",
      "photoUrl": "https://lh3.googleusercontent.com/a-/AOh14GiQ9KyiTpC6MMKMLCBAkvhJJ9v-lY1rLIrJhzBO=s64",
      "userId": "03546433032765854702"
     },
     "user_tz": -420
    },
    "id": "YKcrMuyXz85M",
    "outputId": "ad392c20-f7d2-4a43-f050-fde8b4f31890"
   },
   "outputs": [
    {
     "name": "stdout",
     "output_type": "stream",
     "text": [
      "Max sequence length: 0\n"
     ]
    }
   ],
   "source": [
    "print(\"Max sequence length:\", min(len(s) for s in sequences))"
   ]
  },
  {
   "cell_type": "code",
   "execution_count": null,
   "metadata": {
    "colab": {
     "base_uri": "https://localhost:8080/",
     "height": 34
    },
    "executionInfo": {
     "elapsed": 950,
     "status": "ok",
     "timestamp": 1602507456798,
     "user": {
      "displayName": "Anh Tuan",
      "photoUrl": "https://lh3.googleusercontent.com/a-/AOh14GiQ9KyiTpC6MMKMLCBAkvhJJ9v-lY1rLIrJhzBO=s64",
      "userId": "03546433032765854702"
     },
     "user_tz": -420
    },
    "id": "or9eE3vvz85P",
    "outputId": "04d3f734-c814-41f7-8295-167f3e50982a"
   },
   "outputs": [
    {
     "name": "stdout",
     "output_type": "stream",
     "text": [
      "Median sequence length: 35\n"
     ]
    }
   ],
   "source": [
    "sorted_seq = sorted(len(s) for s in sequences)\n",
    "print(\"Median sequence length:\", sorted_seq[len(sorted_seq) // 2])"
   ]
  },
  {
   "cell_type": "markdown",
   "metadata": {
    "id": "okahjNSpz85U"
   },
   "source": [
    "###  Word to Integer mapping"
   ]
  },
  {
   "cell_type": "code",
   "execution_count": null,
   "metadata": {
    "id": "Xl-54N3Lz85V"
   },
   "outputs": [],
   "source": [
    "word2idx = tokenizer.word_index"
   ]
  },
  {
   "cell_type": "code",
   "execution_count": null,
   "metadata": {
    "colab": {
     "base_uri": "https://localhost:8080/",
     "height": 1000
    },
    "executionInfo": {
     "elapsed": 1010,
     "status": "ok",
     "timestamp": 1602507487714,
     "user": {
      "displayName": "Anh Tuan",
      "photoUrl": "https://lh3.googleusercontent.com/a-/AOh14GiQ9KyiTpC6MMKMLCBAkvhJJ9v-lY1rLIrJhzBO=s64",
      "userId": "03546433032765854702"
     },
     "user_tz": -420
    },
    "id": "aqvGLRMT462g",
    "outputId": "17b9eea1-44eb-44b5-c757-6c96a2b6d917"
   },
   "outputs": [
    {
     "data": {
      "text/plain": [
       "{'the': 1,\n",
       " 'to': 2,\n",
       " 'of': 3,\n",
       " 'and': 4,\n",
       " 'a': 5,\n",
       " 'you': 6,\n",
       " 'i': 7,\n",
       " 'is': 8,\n",
       " 'that': 9,\n",
       " 'in': 10,\n",
       " 'it': 11,\n",
       " 'for': 12,\n",
       " 'this': 13,\n",
       " 'not': 14,\n",
       " 'on': 15,\n",
       " 'be': 16,\n",
       " 'as': 17,\n",
       " 'have': 18,\n",
       " 'are': 19,\n",
       " 'your': 20,\n",
       " 'with': 21,\n",
       " 'if': 22,\n",
       " 'article': 23,\n",
       " 'was': 24,\n",
       " 'or': 25,\n",
       " 'but': 26,\n",
       " 'page': 27,\n",
       " 'wikipedia': 28,\n",
       " 'my': 29,\n",
       " 'an': 30,\n",
       " 'from': 31,\n",
       " 'by': 32,\n",
       " 'do': 33,\n",
       " 'at': 34,\n",
       " 'me': 35,\n",
       " 'about': 36,\n",
       " 'so': 37,\n",
       " 'talk': 38,\n",
       " 'what': 39,\n",
       " 'can': 40,\n",
       " 'there': 41,\n",
       " 'all': 42,\n",
       " 'has': 43,\n",
       " 'will': 44,\n",
       " 'please': 45,\n",
       " 'no': 46,\n",
       " 'would': 47,\n",
       " 'one': 48,\n",
       " 'like': 49,\n",
       " 'just': 50,\n",
       " 'they': 51,\n",
       " 'he': 52,\n",
       " 'which': 53,\n",
       " 'any': 54,\n",
       " 'been': 55,\n",
       " 'should': 56,\n",
       " 'more': 57,\n",
       " 'we': 58,\n",
       " \"don't\": 59,\n",
       " 'some': 60,\n",
       " 'other': 61,\n",
       " 'who': 62,\n",
       " 'here': 63,\n",
       " 'see': 64,\n",
       " 'also': 65,\n",
       " 'his': 66,\n",
       " 'think': 67,\n",
       " 'because': 68,\n",
       " 'know': 69,\n",
       " 'how': 70,\n",
       " 'edit': 71,\n",
       " 'am': 72,\n",
       " \"i'm\": 73,\n",
       " 'people': 74,\n",
       " 'why': 75,\n",
       " 'up': 76,\n",
       " 'only': 77,\n",
       " \"it's\": 78,\n",
       " 'out': 79,\n",
       " 'articles': 80,\n",
       " 'use': 81,\n",
       " 'when': 82,\n",
       " 'then': 83,\n",
       " 'time': 84,\n",
       " 'may': 85,\n",
       " 'were': 86,\n",
       " 'did': 87,\n",
       " 'them': 88,\n",
       " 'now': 89,\n",
       " 'being': 90,\n",
       " 'user': 91,\n",
       " 'their': 92,\n",
       " 'than': 93,\n",
       " 'thanks': 94,\n",
       " 'even': 95,\n",
       " 'get': 96,\n",
       " 'make': 97,\n",
       " 'good': 98,\n",
       " 'had': 99,\n",
       " 'well': 100,\n",
       " 'very': 101,\n",
       " 'information': 102,\n",
       " 'does': 103,\n",
       " 'could': 104,\n",
       " 'want': 105,\n",
       " 'deletion': 106,\n",
       " 'its': 107,\n",
       " 'such': 108,\n",
       " 'sources': 109,\n",
       " 'way': 110,\n",
       " 'name': 111,\n",
       " 'these': 112,\n",
       " 'first': 113,\n",
       " 'wp': 114,\n",
       " 'help': 115,\n",
       " 'pages': 116,\n",
       " 'new': 117,\n",
       " 'image': 118,\n",
       " 'source': 119,\n",
       " 'editing': 120,\n",
       " 'go': 121,\n",
       " 'need': 122,\n",
       " 'section': 123,\n",
       " 'say': 124,\n",
       " 'again': 125,\n",
       " 'edits': 126,\n",
       " 'thank': 127,\n",
       " 'where': 128,\n",
       " 'fuck': 129,\n",
       " 'made': 130,\n",
       " 'many': 131,\n",
       " 'much': 132,\n",
       " 'used': 133,\n",
       " 'really': 134,\n",
       " 'most': 135,\n",
       " 'deleted': 136,\n",
       " 'discussion': 137,\n",
       " 'same': 138,\n",
       " 'find': 139,\n",
       " 'into': 140,\n",
       " 'work': 141,\n",
       " 'those': 142,\n",
       " 'since': 143,\n",
       " \"i've\": 144,\n",
       " 'right': 145,\n",
       " 'point': 146,\n",
       " 'before': 147,\n",
       " 'after': 148,\n",
       " 'add': 149,\n",
       " 'read': 150,\n",
       " 'look': 151,\n",
       " 'over': 152,\n",
       " 'him': 153,\n",
       " 'take': 154,\n",
       " 'two': 155,\n",
       " 'still': 156,\n",
       " 'back': 157,\n",
       " 'wiki': 158,\n",
       " 'someone': 159,\n",
       " 'fact': 160,\n",
       " 'hi': 161,\n",
       " 'too': 162,\n",
       " 'list': 163,\n",
       " 'link': 164,\n",
       " 'own': 165,\n",
       " 'said': 166,\n",
       " 'something': 167,\n",
       " 'going': 168,\n",
       " 'blocked': 169,\n",
       " '1': 170,\n",
       " '2': 171,\n",
       " 'stop': 172,\n",
       " \"you're\": 173,\n",
       " 'content': 174,\n",
       " 'without': 175,\n",
       " 'block': 176,\n",
       " 'under': 177,\n",
       " 'history': 178,\n",
       " 'http': 179,\n",
       " 'our': 180,\n",
       " 'added': 181,\n",
       " 'utc': 182,\n",
       " 'editors': 183,\n",
       " 'another': 184,\n",
       " 'removed': 185,\n",
       " 'her': 186,\n",
       " 'might': 187,\n",
       " 'welcome': 188,\n",
       " 'note': 189,\n",
       " 'however': 190,\n",
       " 'free': 191,\n",
       " 'place': 192,\n",
       " 'sure': 193,\n",
       " 'case': 194,\n",
       " 'never': 195,\n",
       " \"doesn't\": 196,\n",
       " 'done': 197,\n",
       " 'us': 198,\n",
       " 'vandalism': 199,\n",
       " 'reason': 200,\n",
       " 'put': 201,\n",
       " 'comment': 202,\n",
       " 'personal': 203,\n",
       " 'better': 204,\n",
       " \"that's\": 205,\n",
       " 'yourself': 206,\n",
       " 'using': 207,\n",
       " 'seems': 208,\n",
       " 'ask': 209,\n",
       " 'actually': 210,\n",
       " 'question': 211,\n",
       " 'off': 212,\n",
       " 'while': 213,\n",
       " 'feel': 214,\n",
       " 'anything': 215,\n",
       " 'believe': 216,\n",
       " 'links': 217,\n",
       " 'person': 218,\n",
       " 'things': 219,\n",
       " 'both': 220,\n",
       " 'she': 221,\n",
       " 'best': 222,\n",
       " 'comments': 223,\n",
       " 'policy': 224,\n",
       " 'part': 225,\n",
       " 'hope': 226,\n",
       " 'against': 227,\n",
       " \"can't\": 228,\n",
       " 'already': 229,\n",
       " 'keep': 230,\n",
       " 'thing': 231,\n",
       " '3': 232,\n",
       " 'u': 233,\n",
       " \"didn't\": 234,\n",
       " 'questions': 235,\n",
       " \"i'll\": 236,\n",
       " 'com': 237,\n",
       " 'nothing': 238,\n",
       " 'change': 239,\n",
       " 'wrong': 240,\n",
       " 'though': 241,\n",
       " 'subject': 242,\n",
       " 'problem': 243,\n",
       " 'remove': 244,\n",
       " 'little': 245,\n",
       " 'copyright': 246,\n",
       " 'tag': 247,\n",
       " '•': 248,\n",
       " 'trying': 249,\n",
       " 'long': 250,\n",
       " 'must': 251,\n",
       " 'understand': 252,\n",
       " 'above': 253,\n",
       " 'speedy': 254,\n",
       " 'anyone': 255,\n",
       " 'few': 256,\n",
       " 'world': 257,\n",
       " 'issue': 258,\n",
       " 'last': 259,\n",
       " 'others': 260,\n",
       " 'give': 261,\n",
       " 'editor': 262,\n",
       " 'sorry': 263,\n",
       " 'agree': 264,\n",
       " 'reliable': 265,\n",
       " 'rather': 266,\n",
       " 'let': 267,\n",
       " 'years': 268,\n",
       " 'fair': 269,\n",
       " 'english': 270,\n",
       " 'different': 271,\n",
       " 'making': 272,\n",
       " 'reference': 273,\n",
       " 'come': 274,\n",
       " 'style': 275,\n",
       " 'text': 276,\n",
       " 'references': 277,\n",
       " 'mean': 278,\n",
       " 'try': 279,\n",
       " 'non': 280,\n",
       " 'continue': 281,\n",
       " 'doing': 282,\n",
       " 'great': 283,\n",
       " 'found': 284,\n",
       " 'leave': 285,\n",
       " 'word': 286,\n",
       " 'says': 287,\n",
       " 'got': 288,\n",
       " 'state': 289,\n",
       " 'original': 290,\n",
       " \"isn't\": 291,\n",
       " 'probably': 292,\n",
       " 'site': 293,\n",
       " 'adding': 294,\n",
       " 'every': 295,\n",
       " 'check': 296,\n",
       " 'day': 297,\n",
       " 'simply': 298,\n",
       " 'created': 299,\n",
       " 'life': 300,\n",
       " 'top': 301,\n",
       " 'hello': 302,\n",
       " 'show': 303,\n",
       " 'post': 304,\n",
       " 'either': 305,\n",
       " 'consensus': 306,\n",
       " 'ip': 307,\n",
       " 'least': 308,\n",
       " 'delete': 309,\n",
       " 'else': 310,\n",
       " 'e': 311,\n",
       " 'yes': 312,\n",
       " 'view': 313,\n",
       " 'war': 314,\n",
       " 'far': 315,\n",
       " 'notable': 316,\n",
       " 'enough': 317,\n",
       " 'request': 318,\n",
       " 'etc': 319,\n",
       " 'example': 320,\n",
       " 'opinion': 321,\n",
       " 'contributions': 322,\n",
       " 'called': 323,\n",
       " 'around': 324,\n",
       " 'through': 325,\n",
       " 'www': 326,\n",
       " 'between': 327,\n",
       " 'real': 328,\n",
       " 'yet': 329,\n",
       " 'write': 330,\n",
       " 'reverted': 331,\n",
       " 'book': 332,\n",
       " 'shit': 333,\n",
       " 'down': 334,\n",
       " 'matter': 335,\n",
       " 'admin': 336,\n",
       " 're': 337,\n",
       " 'thought': 338,\n",
       " 'given': 339,\n",
       " 'images': 340,\n",
       " 'account': 341,\n",
       " 'material': 342,\n",
       " 'users': 343,\n",
       " 'bad': 344,\n",
       " 'encyclopedia': 345,\n",
       " 'having': 346,\n",
       " 'clearly': 347,\n",
       " 'title': 348,\n",
       " 'message': 349,\n",
       " 'support': 350,\n",
       " 'needs': 351,\n",
       " 'lot': 352,\n",
       " 'old': 353,\n",
       " 'evidence': 354,\n",
       " '—': 355,\n",
       " 'ever': 356,\n",
       " 'maybe': 357,\n",
       " 's': 358,\n",
       " 'tell': 359,\n",
       " 'revert': 360,\n",
       " 'seem': 361,\n",
       " 'language': 362,\n",
       " 'instead': 363,\n",
       " 'correct': 364,\n",
       " 'template': 365,\n",
       " 'org': 366,\n",
       " 'number': 367,\n",
       " 'clear': 368,\n",
       " 'media': 369,\n",
       " 'important': 370,\n",
       " 'saying': 371,\n",
       " 'pov': 372,\n",
       " '5': 373,\n",
       " '4': 374,\n",
       " 'always': 375,\n",
       " 'written': 376,\n",
       " 'true': 377,\n",
       " 'oh': 378,\n",
       " 'term': 379,\n",
       " 'further': 380,\n",
       " 'states': 381,\n",
       " 'hate': 382,\n",
       " 'quite': 383,\n",
       " 'perhaps': 384,\n",
       " 'review': 385,\n",
       " 'until': 386,\n",
       " 'bit': 387,\n",
       " 'whether': 388,\n",
       " \"i'd\": 389,\n",
       " 'research': 390,\n",
       " 'consider': 391,\n",
       " 'claim': 392,\n",
       " 'guidelines': 393,\n",
       " 'fucking': 394,\n",
       " 'version': 395,\n",
       " 'once': 396,\n",
       " 'based': 397,\n",
       " 'criteria': 398,\n",
       " 'times': 399,\n",
       " 'nigger': 400,\n",
       " 'website': 401,\n",
       " 'getting': 402,\n",
       " 'suck': 403,\n",
       " 'mention': 404,\n",
       " 'three': 405,\n",
       " 'several': 406,\n",
       " 'makes': 407,\n",
       " 'considered': 408,\n",
       " 'words': 409,\n",
       " 'c': 410,\n",
       " 'year': 411,\n",
       " 'hey': 412,\n",
       " 'changes': 413,\n",
       " 'idea': 414,\n",
       " \"there's\": 415,\n",
       " 'cannot': 416,\n",
       " 'ass': 417,\n",
       " 'address': 418,\n",
       " 'notice': 419,\n",
       " 'current': 420,\n",
       " 'group': 421,\n",
       " 'left': 422,\n",
       " 'following': 423,\n",
       " 'listed': 424,\n",
       " 'each': 425,\n",
       " 'date': 426,\n",
       " 'second': 427,\n",
       " 'means': 428,\n",
       " 'facts': 429,\n",
       " 'rules': 430,\n",
       " 'general': 431,\n",
       " 'possible': 432,\n",
       " 'main': 433,\n",
       " 'care': 434,\n",
       " 'regarding': 435,\n",
       " 'american': 436,\n",
       " 'man': 437,\n",
       " 'start': 438,\n",
       " '10': 439,\n",
       " 'topic': 440,\n",
       " 'mentioned': 441,\n",
       " 'course': 442,\n",
       " 'attack': 443,\n",
       " 'kind': 444,\n",
       " 'whole': 445,\n",
       " 'statement': 446,\n",
       " 'known': 447,\n",
       " 'end': 448,\n",
       " 'include': 449,\n",
       " 'issues': 450,\n",
       " 'seen': 451,\n",
       " 'create': 452,\n",
       " 'jpg': 453,\n",
       " 'dont': 454,\n",
       " 'en': 455,\n",
       " 'gay': 456,\n",
       " 'less': 457,\n",
       " 'related': 458,\n",
       " 'call': 459,\n",
       " 'ok': 460,\n",
       " 'sense': 461,\n",
       " 'big': 462,\n",
       " 'suggest': 463,\n",
       " 'happy': 464,\n",
       " 'category': 465,\n",
       " 'including': 466,\n",
       " 'notability': 467,\n",
       " 'info': 468,\n",
       " '2005': 469,\n",
       " 'provide': 470,\n",
       " 'redirect': 471,\n",
       " 'days': 472,\n",
       " 'move': 473,\n",
       " 'myself': 474,\n",
       " 'sentence': 475,\n",
       " \"wikipedia's\": 476,\n",
       " 'love': 477,\n",
       " 'four': 478,\n",
       " 'appropriate': 479,\n",
       " 'school': 480,\n",
       " 'news': 481,\n",
       " 'project': 482,\n",
       " 'changed': 483,\n",
       " 'explain': 484,\n",
       " 'started': 485,\n",
       " 'neutral': 486,\n",
       " 'line': 487,\n",
       " 'mind': 488,\n",
       " 'anyway': 489,\n",
       " 'contribs': 490,\n",
       " 'included': 491,\n",
       " 'removing': 492,\n",
       " 'next': 493,\n",
       " 't': 494,\n",
       " 'looking': 495,\n",
       " 'picture': 496,\n",
       " 'specific': 497,\n",
       " 'community': 498,\n",
       " 'although': 499,\n",
       " 'per': 500,\n",
       " 'order': 501,\n",
       " 'relevant': 502,\n",
       " 'sign': 503,\n",
       " 'die': 504,\n",
       " 'answer': 505,\n",
       " 'away': 506,\n",
       " 'interest': 507,\n",
       " 'full': 508,\n",
       " 'warning': 509,\n",
       " 'lol': 510,\n",
       " 'summary': 511,\n",
       " 'recent': 512,\n",
       " 'later': 513,\n",
       " 'file': 514,\n",
       " 'policies': 515,\n",
       " \"you've\": 516,\n",
       " 'faith': 517,\n",
       " 'claims': 518,\n",
       " 'discuss': 519,\n",
       " 'attacks': 520,\n",
       " 'public': 521,\n",
       " '0': 522,\n",
       " 'currently': 523,\n",
       " 'wrote': 524,\n",
       " 'writing': 525,\n",
       " 'especially': 526,\n",
       " 'interested': 527,\n",
       " 'able': 528,\n",
       " 'wish': 529,\n",
       " 'taken': 530,\n",
       " '6': 531,\n",
       " 'names': 532,\n",
       " 'position': 533,\n",
       " 'single': 534,\n",
       " 'within': 535,\n",
       " 'stuff': 536,\n",
       " 'below': 537,\n",
       " '2006': 538,\n",
       " 'during': 539,\n",
       " 'wanted': 540,\n",
       " 'web': 541,\n",
       " 'appears': 542,\n",
       " 'official': 543,\n",
       " '20': 544,\n",
       " 'live': 545,\n",
       " 'certainly': 546,\n",
       " 'nice': 547,\n",
       " 'color': 548,\n",
       " 'self': 549,\n",
       " 'itself': 550,\n",
       " 'country': 551,\n",
       " 'everyone': 552,\n",
       " 'report': 553,\n",
       " 'anti': 554,\n",
       " 'background': 555,\n",
       " 'lead': 556,\n",
       " 'high': 557,\n",
       " 'common': 558,\n",
       " 'god': 559,\n",
       " 'unless': 560,\n",
       " 'according': 561,\n",
       " 'completely': 562,\n",
       " 'hard': 563,\n",
       " 'books': 564,\n",
       " 'pretty': 565,\n",
       " '7': 566,\n",
       " 'everything': 567,\n",
       " 'p': 568,\n",
       " 'published': 569,\n",
       " 'due': 570,\n",
       " '24': 571,\n",
       " 'process': 572,\n",
       " 'edited': 573,\n",
       " 'looks': 574,\n",
       " 'involved': 575,\n",
       " 'fat': 576,\n",
       " 'therefore': 577,\n",
       " \"won't\": 578,\n",
       " 'remember': 579,\n",
       " 'obviously': 580,\n",
       " 'power': 581,\n",
       " 'd': 582,\n",
       " 'future': 583,\n",
       " 'nor': 584,\n",
       " '100': 585,\n",
       " 'truth': 586,\n",
       " 'came': 587,\n",
       " 'sandbox': 588,\n",
       " '11': 589,\n",
       " 'response': 590,\n",
       " 'party': 591,\n",
       " 'reading': 592,\n",
       " 'stay': 593,\n",
       " 'past': 594,\n",
       " 'game': 595,\n",
       " 'learn': 596,\n",
       " 'admins': 597,\n",
       " 'quote': 598,\n",
       " 'asked': 599,\n",
       " \"wasn't\": 600,\n",
       " 'b': 601,\n",
       " 'city': 602,\n",
       " 'entry': 603,\n",
       " 'stupid': 604,\n",
       " \"he's\": 605,\n",
       " 'posted': 606,\n",
       " 'false': 607,\n",
       " 'faggot': 608,\n",
       " 'whatever': 609,\n",
       " 'google': 610,\n",
       " 'talking': 611,\n",
       " 'ago': 612,\n",
       " '8': 613,\n",
       " 'placed': 614,\n",
       " 'political': 615,\n",
       " 'similar': 616,\n",
       " 'today': 617,\n",
       " 'system': 618,\n",
       " 'administrator': 619,\n",
       " 'united': 620,\n",
       " 'argument': 621,\n",
       " 'paragraph': 622,\n",
       " 'working': 623,\n",
       " 'exactly': 624,\n",
       " '2007': 625,\n",
       " 'guy': 626,\n",
       " '12': 627,\n",
       " 'british': 628,\n",
       " 'took': 629,\n",
       " 'useful': 630,\n",
       " 'government': 631,\n",
       " 'search': 632,\n",
       " 'noticed': 633,\n",
       " 'moron': 634,\n",
       " 'regards': 635,\n",
       " 'small': 636,\n",
       " 'reasons': 637,\n",
       " 'side': 638,\n",
       " '2008': 639,\n",
       " 'form': 640,\n",
       " 'national': 641,\n",
       " 'dispute': 642,\n",
       " 'deleting': 643,\n",
       " 'five': 644,\n",
       " 'guess': 645,\n",
       " 'appreciate': 646,\n",
       " 'particular': 647,\n",
       " 'reverting': 648,\n",
       " 'major': 649,\n",
       " 'problems': 650,\n",
       " 'law': 651,\n",
       " '000': 652,\n",
       " '15': 653,\n",
       " 'npov': 654,\n",
       " 'bitch': 655,\n",
       " 'rule': 656,\n",
       " 'banned': 657,\n",
       " 'often': 658,\n",
       " 'provided': 659,\n",
       " 'music': 660,\n",
       " 'become': 661,\n",
       " 'wikiproject': 662,\n",
       " 'needed': 663,\n",
       " 'status': 664,\n",
       " 'reply': 665,\n",
       " 'knowledge': 666,\n",
       " 'tried': 667,\n",
       " 'along': 668,\n",
       " 'almost': 669,\n",
       " 'cheers': 670,\n",
       " 'stated': 671,\n",
       " 'username': 672,\n",
       " 'film': 673,\n",
       " '9': 674,\n",
       " 'taking': 675,\n",
       " 'fine': 676,\n",
       " '–': 677,\n",
       " 'company': 678,\n",
       " 'vandalize': 679,\n",
       " 'present': 680,\n",
       " 'certain': 681,\n",
       " 'white': 682,\n",
       " 'follow': 683,\n",
       " 'sort': 684,\n",
       " 'otherwise': 685,\n",
       " 'terms': 686,\n",
       " 'points': 687,\n",
       " 'explanation': 688,\n",
       " 'uploaded': 689,\n",
       " \"haven't\": 690,\n",
       " 'description': 691,\n",
       " 'generally': 692,\n",
       " 'recently': 693,\n",
       " 'entire': 694,\n",
       " 'open': 695,\n",
       " 'story': 696,\n",
       " 'tags': 697,\n",
       " 'shows': 698,\n",
       " 'alone': 699,\n",
       " 'ban': 700,\n",
       " 'citation': 701,\n",
       " 'short': 702,\n",
       " 'definition': 703,\n",
       " '14': 704,\n",
       " 'cited': 705,\n",
       " 'likely': 706,\n",
       " 'aware': 707,\n",
       " 'g': 708,\n",
       " 'saw': 709,\n",
       " 'class': 710,\n",
       " 'type': 711,\n",
       " 'soon': 712,\n",
       " 'set': 713,\n",
       " 'week': 714,\n",
       " 'indeed': 715,\n",
       " 'band': 716,\n",
       " 'cite': 717,\n",
       " 'decide': 718,\n",
       " 'mr': 719,\n",
       " 'views': 720,\n",
       " '2004': 721,\n",
       " 'appear': 722,\n",
       " 'family': 723,\n",
       " 'simple': 724,\n",
       " 'area': 725,\n",
       " 'guys': 726,\n",
       " 'theory': 727,\n",
       " 'piece': 728,\n",
       " 'contributing': 729,\n",
       " 'contact': 730,\n",
       " 'external': 731,\n",
       " 'result': 732,\n",
       " 'test': 733,\n",
       " 'internet': 734,\n",
       " 'interesting': 735,\n",
       " 'unblock': 736,\n",
       " 'actual': 737,\n",
       " 'improve': 738,\n",
       " 'copy': 739,\n",
       " '16': 740,\n",
       " 'sourced': 741,\n",
       " 'jew': 742,\n",
       " 'told': 743,\n",
       " 'attention': 744,\n",
       " 'proposed': 745,\n",
       " 'obvious': 746,\n",
       " 'moved': 747,\n",
       " 'email': 748,\n",
       " 'uk': 749,\n",
       " 'members': 750,\n",
       " 'various': 751,\n",
       " 'allowed': 752,\n",
       " 'themselves': 753,\n",
       " 'conflict': 754,\n",
       " 'context': 755,\n",
       " \"article's\": 756,\n",
       " 'black': 757,\n",
       " 'university': 758,\n",
       " 'author': 759,\n",
       " 'thus': 760,\n",
       " 'disagree': 761,\n",
       " 'cunt': 762,\n",
       " 'john': 763,\n",
       " 'went': 764,\n",
       " 'citations': 765,\n",
       " 'sites': 766,\n",
       " 'jews': 767,\n",
       " 'actions': 768,\n",
       " 'hand': 769,\n",
       " 'bias': 770,\n",
       " 'previous': 771,\n",
       " 'third': 772,\n",
       " 'hours': 773,\n",
       " 'human': 774,\n",
       " '18': 775,\n",
       " 'works': 776,\n",
       " 'nonsense': 777,\n",
       " 'science': 778,\n",
       " 'ones': 779,\n",
       " 'death': 780,\n",
       " 'action': 781,\n",
       " '17': 782,\n",
       " 'enjoy': 783,\n",
       " \"aren't\": 784,\n",
       " 'job': 785,\n",
       " 'proper': 786,\n",
       " 'longer': 787,\n",
       " 'large': 788,\n",
       " 'together': 789,\n",
       " 'sucks': 790,\n",
       " '\\xa0': 791,\n",
       " '13': 792,\n",
       " 'addition': 793,\n",
       " \"wouldn't\": 794,\n",
       " 'avoid': 795,\n",
       " 'creating': 796,\n",
       " 'happened': 797,\n",
       " '19': 798,\n",
       " 'valid': 799,\n",
       " 'jewish': 800,\n",
       " 'german': 801,\n",
       " 'deal': 802,\n",
       " '21': 803,\n",
       " 'automatically': 804,\n",
       " 'biased': 805,\n",
       " 'proof': 806,\n",
       " 'worked': 807,\n",
       " 'im': 808,\n",
       " 'series': 809,\n",
       " 'dick': 810,\n",
       " 'goes': 811,\n",
       " 'himself': 812,\n",
       " 'seriously': 813,\n",
       " \"what's\": 814,\n",
       " '23': 815,\n",
       " 'level': 816,\n",
       " 'standard': 817,\n",
       " 'f': 818,\n",
       " '2009': 819,\n",
       " 'accepted': 820,\n",
       " 'respect': 821,\n",
       " 'exist': 822,\n",
       " 'available': 823,\n",
       " 'de': 824,\n",
       " 'helpful': 825,\n",
       " 'video': 826,\n",
       " 'comes': 827,\n",
       " '22': 828,\n",
       " 'meaning': 829,\n",
       " \"shouldn't\": 830,\n",
       " 'manual': 831,\n",
       " 'living': 832,\n",
       " 'opinions': 833,\n",
       " 'sex': 834,\n",
       " 'rights': 835,\n",
       " 'act': 836,\n",
       " 'tildes': 837,\n",
       " 'criticism': 838,\n",
       " 'play': 839,\n",
       " '2010': 840,\n",
       " 'necessary': 841,\n",
       " 'calling': 842,\n",
       " 'accept': 843,\n",
       " 'sections': 844,\n",
       " 'indicate': 845,\n",
       " 'personally': 846,\n",
       " 'yeah': 847,\n",
       " '30': 848,\n",
       " 'july': 849,\n",
       " 'hell': 850,\n",
       " 'accurate': 851,\n",
       " 'violation': 852,\n",
       " 'statements': 853,\n",
       " 'pig': 854,\n",
       " 'attempt': 855,\n",
       " 'months': 856,\n",
       " 'assume': 857,\n",
       " 'afd': 858,\n",
       " 'upon': 859,\n",
       " 'historical': 860,\n",
       " 'usually': 861,\n",
       " 'debate': 862,\n",
       " \"let's\": 863,\n",
       " 'pro': 864,\n",
       " 'details': 865,\n",
       " 'multiple': 866,\n",
       " 'blocking': 867,\n",
       " 'south': 868,\n",
       " 'rest': 869,\n",
       " 'tagged': 870,\n",
       " 'width': 871,\n",
       " 'serious': 872,\n",
       " 'doubt': 873,\n",
       " 'record': 874,\n",
       " 'greek': 875,\n",
       " 'm': 876,\n",
       " 'r': 877,\n",
       " \"they're\": 878,\n",
       " 'separate': 879,\n",
       " 'v': 880,\n",
       " 'space': 881,\n",
       " 'situation': 882,\n",
       " 'cause': 883,\n",
       " \"you'll\": 884,\n",
       " 'speak': 885,\n",
       " 'heard': 886,\n",
       " 'explaining': 887,\n",
       " 'okay': 888,\n",
       " 'refer': 889,\n",
       " 'fix': 890,\n",
       " 'run': 891,\n",
       " 'quality': 892,\n",
       " 'data': 893,\n",
       " 'complete': 894,\n",
       " 'penis': 895,\n",
       " 'sock': 896,\n",
       " 'church': 897,\n",
       " 'w': 898,\n",
       " 'messages': 899,\n",
       " 'none': 900,\n",
       " 'india': 901,\n",
       " 'asking': 902,\n",
       " 'august': 903,\n",
       " 'online': 904,\n",
       " 'lack': 905,\n",
       " 'legal': 906,\n",
       " 'period': 907,\n",
       " 'freedom': 908,\n",
       " 'team': 909,\n",
       " 'military': 910,\n",
       " 'rationale': 911,\n",
       " 'behavior': 912,\n",
       " 'prove': 913,\n",
       " 'apparently': 914,\n",
       " 'access': 915,\n",
       " 'special': 916,\n",
       " 'close': 917,\n",
       " 'changing': 918,\n",
       " 'bullshit': 919,\n",
       " 'directly': 920,\n",
       " 'watch': 921,\n",
       " 'culture': 922,\n",
       " 'difference': 923,\n",
       " 'march': 924,\n",
       " 'early': 925,\n",
       " 'box': 926,\n",
       " 'contribute': 927,\n",
       " 'wikipedian': 928,\n",
       " 'existing': 929,\n",
       " 'huge': 930,\n",
       " 'gets': 931,\n",
       " 'html': 932,\n",
       " 'couple': 933,\n",
       " '25': 934,\n",
       " 'among': 935,\n",
       " 'civil': 936,\n",
       " 'warring': 937,\n",
       " 'supposed': 938,\n",
       " 'primary': 939,\n",
       " 'except': 940,\n",
       " 'head': 941,\n",
       " 'countries': 942,\n",
       " 'born': 943,\n",
       " 'meant': 944,\n",
       " 'modern': 945,\n",
       " '50': 946,\n",
       " 'photo': 947,\n",
       " 'described': 948,\n",
       " 'incorrect': 949,\n",
       " 'fish': 950,\n",
       " 'uses': 951,\n",
       " 'disruptive': 952,\n",
       " 'significant': 953,\n",
       " 'field': 954,\n",
       " 'specifically': 955,\n",
       " 'red': 956,\n",
       " 'purpose': 957,\n",
       " 'pillars': 958,\n",
       " 'friend': 959,\n",
       " 'release': 960,\n",
       " 'archive': 961,\n",
       " 'million': 962,\n",
       " 'produce': 963,\n",
       " 'tv': 964,\n",
       " 'error': 965,\n",
       " 'force': 966,\n",
       " 'table': 967,\n",
       " 'earlier': 968,\n",
       " 'business': 969,\n",
       " 'computer': 970,\n",
       " 'june': 971,\n",
       " 'sometimes': 972,\n",
       " 'half': 973,\n",
       " 'cases': 974,\n",
       " 'outside': 975,\n",
       " 'vote': 976,\n",
       " 'x': 977,\n",
       " 'inclusion': 978,\n",
       " 'particularly': 979,\n",
       " 'character': 980,\n",
       " 'pictures': 981,\n",
       " 'gave': 982,\n",
       " 'linked': 983,\n",
       " 'abuse': 984,\n",
       " '27': 985,\n",
       " 'control': 986,\n",
       " 'possibly': 987,\n",
       " 'numbers': 988,\n",
       " 'home': 989,\n",
       " 'anonymous': 990,\n",
       " 'member': 991,\n",
       " 'january': 992,\n",
       " 'christian': 993,\n",
       " 'scientific': 994,\n",
       " 'arguments': 995,\n",
       " 'tutorial': 996,\n",
       " '2012': 997,\n",
       " 'n': 998,\n",
       " 'reported': 999,\n",
       " 'border': 1000,\n",
       " ...}"
      ]
     },
     "execution_count": 42,
     "metadata": {
      "tags": []
     },
     "output_type": "execute_result"
    }
   ],
   "source": [
    "word2idx"
   ]
  },
  {
   "cell_type": "code",
   "execution_count": null,
   "metadata": {
    "colab": {
     "base_uri": "https://localhost:8080/",
     "height": 34
    },
    "executionInfo": {
     "elapsed": 1035,
     "status": "ok",
     "timestamp": 1602507531770,
     "user": {
      "displayName": "Anh Tuan",
      "photoUrl": "https://lh3.googleusercontent.com/a-/AOh14GiQ9KyiTpC6MMKMLCBAkvhJJ9v-lY1rLIrJhzBO=s64",
      "userId": "03546433032765854702"
     },
     "user_tz": -420
    },
    "id": "V1p7p75Hz85c",
    "outputId": "32c1068c-7c4c-4edb-81e6-c7ae4e87c930"
   },
   "outputs": [
    {
     "name": "stdout",
     "output_type": "stream",
     "text": [
      "Number of Unique tokens are : 210337\n"
     ]
    }
   ],
   "source": [
    "print('Number of Unique tokens are : {}'.format(len(word2idx)) ) \n",
    "# We actually have more words than the MAX_VOCAB_SIZE!!"
   ]
  },
  {
   "cell_type": "code",
   "execution_count": null,
   "metadata": {
    "colab": {
     "base_uri": "https://localhost:8080/",
     "height": 34
    },
    "executionInfo": {
     "elapsed": 1094,
     "status": "ok",
     "timestamp": 1602507625949,
     "user": {
      "displayName": "Anh Tuan",
      "photoUrl": "https://lh3.googleusercontent.com/a-/AOh14GiQ9KyiTpC6MMKMLCBAkvhJJ9v-lY1rLIrJhzBO=s64",
      "userId": "03546433032765854702"
     },
     "user_tz": -420
    },
    "id": "iPlMX7AW5LXn",
    "outputId": "fa1bb3ae-80fa-4678-ee44-aebf943ed9f3"
   },
   "outputs": [
    {
     "data": {
      "text/plain": [
       "20000"
      ]
     },
     "execution_count": 45,
     "metadata": {
      "tags": []
     },
     "output_type": "execute_result"
    }
   ],
   "source": [
    "MAX_VOCAB_SIZE"
   ]
  },
  {
   "cell_type": "code",
   "execution_count": null,
   "metadata": {
    "colab": {
     "base_uri": "https://localhost:8080/",
     "height": 34
    },
    "executionInfo": {
     "elapsed": 1131,
     "status": "ok",
     "timestamp": 1601634692019,
     "user": {
      "displayName": "Anh Tuan",
      "photoUrl": "https://lh3.googleusercontent.com/a-/AOh14GiQ9KyiTpC6MMKMLCBAkvhJJ9v-lY1rLIrJhzBO=s64",
      "userId": "03546433032765854702"
     },
     "user_tz": -420
    },
    "id": "YVLy2XUKz85j",
    "outputId": "06329f1a-47de-4fff-a7ee-66c9c8e418c8"
   },
   "outputs": [
    {
     "data": {
      "text/plain": [
       "20000"
      ]
     },
     "execution_count": 40,
     "metadata": {
      "tags": []
     },
     "output_type": "execute_result"
    }
   ],
   "source": [
    "MAX_VOCAB_SIZE"
   ]
  },
  {
   "cell_type": "code",
   "execution_count": null,
   "metadata": {
    "colab": {
     "base_uri": "https://localhost:8080/",
     "height": 34
    },
    "executionInfo": {
     "elapsed": 1139,
     "status": "ok",
     "timestamp": 1601634694612,
     "user": {
      "displayName": "Anh Tuan",
      "photoUrl": "https://lh3.googleusercontent.com/a-/AOh14GiQ9KyiTpC6MMKMLCBAkvhJJ9v-lY1rLIrJhzBO=s64",
      "userId": "03546433032765854702"
     },
     "user_tz": -420
    },
    "id": "t71OOgjiz85m",
    "outputId": "cc1a3654-1ff5-4295-bd23-19ce972d23c1"
   },
   "outputs": [
    {
     "data": {
      "text/plain": [
       "100"
      ]
     },
     "execution_count": 41,
     "metadata": {
      "tags": []
     },
     "output_type": "execute_result"
    }
   ],
   "source": [
    "MAX_SEQUENCE_LENGTH"
   ]
  },
  {
   "cell_type": "markdown",
   "metadata": {
    "id": "FGI6kdpyz85p"
   },
   "source": [
    "### Padding "
   ]
  },
  {
   "cell_type": "code",
   "execution_count": null,
   "metadata": {
    "id": "b8g3kvMYz85q"
   },
   "outputs": [],
   "source": [
    "pad_data = pad_sequences(sequences,maxlen=MAX_SEQUENCE_LENGTH)"
   ]
  },
  {
   "cell_type": "code",
   "execution_count": null,
   "metadata": {
    "colab": {
     "base_uri": "https://localhost:8080/",
     "height": 138
    },
    "executionInfo": {
     "elapsed": 1709,
     "status": "ok",
     "timestamp": 1602507838120,
     "user": {
      "displayName": "Anh Tuan",
      "photoUrl": "https://lh3.googleusercontent.com/a-/AOh14GiQ9KyiTpC6MMKMLCBAkvhJJ9v-lY1rLIrJhzBO=s64",
      "userId": "03546433032765854702"
     },
     "user_tz": -420
    },
    "id": "bPP81tPrz85t",
    "outputId": "3925964b-a5db-4e87-a7b5-c722b1098298"
   },
   "outputs": [
    {
     "data": {
      "text/plain": [
       "array([[    0,     0,     0, ...,  4583,  2273,   985],\n",
       "       [    0,     0,     0, ...,   589,  8377,   182],\n",
       "       [    0,     0,     0, ...,     1,   737,   468],\n",
       "       ...,\n",
       "       [    0,     0,     0, ...,  3509, 13675,  4528],\n",
       "       [    0,     0,     0, ...,   151,    34,    11],\n",
       "       [    0,     0,     0, ...,  1627,  2056,    88]], dtype=int32)"
      ]
     },
     "execution_count": 47,
     "metadata": {
      "tags": []
     },
     "output_type": "execute_result"
    }
   ],
   "source": [
    "pad_data"
   ]
  },
  {
   "cell_type": "code",
   "execution_count": null,
   "metadata": {
    "colab": {
     "base_uri": "https://localhost:8080/",
     "height": 34
    },
    "executionInfo": {
     "elapsed": 2120,
     "status": "ok",
     "timestamp": 1602507860388,
     "user": {
      "displayName": "Anh Tuan",
      "photoUrl": "https://lh3.googleusercontent.com/a-/AOh14GiQ9KyiTpC6MMKMLCBAkvhJJ9v-lY1rLIrJhzBO=s64",
      "userId": "03546433032765854702"
     },
     "user_tz": -420
    },
    "id": "lHH17780z85y",
    "outputId": "56d98bd0-5c91-4787-cc66-2bd9f385773f"
   },
   "outputs": [
    {
     "data": {
      "text/plain": [
       "159571"
      ]
     },
     "execution_count": 48,
     "metadata": {
      "tags": []
     },
     "output_type": "execute_result"
    }
   ],
   "source": [
    "len(pad_data)"
   ]
  },
  {
   "cell_type": "code",
   "execution_count": null,
   "metadata": {
    "colab": {
     "base_uri": "https://localhost:8080/",
     "height": 34
    },
    "executionInfo": {
     "elapsed": 1750,
     "status": "ok",
     "timestamp": 1602507932655,
     "user": {
      "displayName": "Anh Tuan",
      "photoUrl": "https://lh3.googleusercontent.com/a-/AOh14GiQ9KyiTpC6MMKMLCBAkvhJJ9v-lY1rLIrJhzBO=s64",
      "userId": "03546433032765854702"
     },
     "user_tz": -420
    },
    "id": "lbUoB_hwz851",
    "outputId": "5abe282d-6ed7-47e3-d2bd-1003b75b1d42"
   },
   "outputs": [
    {
     "name": "stdout",
     "output_type": "stream",
     "text": [
      "Shape of Padded Tensor: (159571, 100)\n"
     ]
    }
   ],
   "source": [
    "# Note that the 0 axis is same as comments, just added a new padding dimension which is equal to MAX_SEQUENCE_LENGTH . \n",
    "# Padded tensor shape : (Num of Samples,MAX_SEQUENCE_LENGTH)\n",
    "\n",
    "print('Shape of Padded Tensor: {}'.format(pad_data.shape)) "
   ]
  },
  {
   "cell_type": "markdown",
   "metadata": {
    "id": "ypOHVnq2z855"
   },
   "source": [
    "### Prepare embedding matrix"
   ]
  },
  {
   "cell_type": "code",
   "execution_count": null,
   "metadata": {
    "id": "p9DdUierz856"
   },
   "outputs": [],
   "source": [
    "# This truncates the word embeddings to MAX_VOCAB_SIZE, +1 is to take care of a little indexing problem.\n",
    "\n",
    "# In Keras 0 is reserved just for padding, so the indexing starts at 1. \n",
    "\n",
    "# Since, python index starts at 0, that +1 takes care of any indexing miss matching. \n",
    "\n",
    "num_words = min(MAX_VOCAB_SIZE, len(word2idx) + 1) "
   ]
  },
  {
   "cell_type": "code",
   "execution_count": null,
   "metadata": {
    "colab": {
     "base_uri": "https://localhost:8080/",
     "height": 34
    },
    "executionInfo": {
     "elapsed": 1192,
     "status": "ok",
     "timestamp": 1602507962072,
     "user": {
      "displayName": "Anh Tuan",
      "photoUrl": "https://lh3.googleusercontent.com/a-/AOh14GiQ9KyiTpC6MMKMLCBAkvhJJ9v-lY1rLIrJhzBO=s64",
      "userId": "03546433032765854702"
     },
     "user_tz": -420
    },
    "id": "Ej0Gtj4Uz85-",
    "outputId": "ad92dddd-d15e-4a66-b1e7-06151b137683"
   },
   "outputs": [
    {
     "data": {
      "text/plain": [
       "20000"
      ]
     },
     "execution_count": 51,
     "metadata": {
      "tags": []
     },
     "output_type": "execute_result"
    }
   ],
   "source": [
    "num_words"
   ]
  },
  {
   "cell_type": "code",
   "execution_count": null,
   "metadata": {
    "colab": {
     "base_uri": "https://localhost:8080/",
     "height": 34
    },
    "executionInfo": {
     "elapsed": 1032,
     "status": "ok",
     "timestamp": 1602508011923,
     "user": {
      "displayName": "Anh Tuan",
      "photoUrl": "https://lh3.googleusercontent.com/a-/AOh14GiQ9KyiTpC6MMKMLCBAkvhJJ9v-lY1rLIrJhzBO=s64",
      "userId": "03546433032765854702"
     },
     "user_tz": -420
    },
    "id": "Nnr7bxAD66tt",
    "outputId": "206ddd7e-27a3-46cd-8a7a-cfbf1d0bcd4c"
   },
   "outputs": [
    {
     "data": {
      "text/plain": [
       "100"
      ]
     },
     "execution_count": 55,
     "metadata": {
      "tags": []
     },
     "output_type": "execute_result"
    }
   ],
   "source": [
    "EMBEDDING_DIM"
   ]
  },
  {
   "cell_type": "code",
   "execution_count": null,
   "metadata": {
    "id": "dZFDuh2Dz86B"
   },
   "outputs": [],
   "source": [
    "embedding_matrix = np.zeros((num_words, EMBEDDING_DIM))"
   ]
  },
  {
   "cell_type": "code",
   "execution_count": null,
   "metadata": {
    "colab": {
     "base_uri": "https://localhost:8080/",
     "height": 138
    },
    "executionInfo": {
     "elapsed": 948,
     "status": "ok",
     "timestamp": 1602507995751,
     "user": {
      "displayName": "Anh Tuan",
      "photoUrl": "https://lh3.googleusercontent.com/a-/AOh14GiQ9KyiTpC6MMKMLCBAkvhJJ9v-lY1rLIrJhzBO=s64",
      "userId": "03546433032765854702"
     },
     "user_tz": -420
    },
    "id": "lKnKInkxz86I",
    "outputId": "bc4c881d-a1da-4502-8739-ae3ee20ddb04"
   },
   "outputs": [
    {
     "data": {
      "text/plain": [
       "array([[0., 0., 0., ..., 0., 0., 0.],\n",
       "       [0., 0., 0., ..., 0., 0., 0.],\n",
       "       [0., 0., 0., ..., 0., 0., 0.],\n",
       "       ...,\n",
       "       [0., 0., 0., ..., 0., 0., 0.],\n",
       "       [0., 0., 0., ..., 0., 0., 0.],\n",
       "       [0., 0., 0., ..., 0., 0., 0.]])"
      ]
     },
     "execution_count": 54,
     "metadata": {
      "tags": []
     },
     "output_type": "execute_result"
    }
   ],
   "source": [
    "embedding_matrix"
   ]
  },
  {
   "cell_type": "code",
   "execution_count": null,
   "metadata": {
    "colab": {
     "base_uri": "https://localhost:8080/",
     "height": 34
    },
    "executionInfo": {
     "elapsed": 1044,
     "status": "ok",
     "timestamp": 1601634754824,
     "user": {
      "displayName": "Anh Tuan",
      "photoUrl": "https://lh3.googleusercontent.com/a-/AOh14GiQ9KyiTpC6MMKMLCBAkvhJJ9v-lY1rLIrJhzBO=s64",
      "userId": "03546433032765854702"
     },
     "user_tz": -420
    },
    "id": "veb7r2AUz86W",
    "outputId": "dbc96bb3-15fa-4970-e685-7b8ceb623dfd"
   },
   "outputs": [
    {
     "data": {
      "text/plain": [
       "(20000, 100)"
      ]
     },
     "execution_count": 50,
     "metadata": {
      "tags": []
     },
     "output_type": "execute_result"
    }
   ],
   "source": [
    "embedding_matrix.shape\n",
    "# We have successfuly trucnated and created an embedding matrix of dimension (MAX_VOCAB_SIZE,EMBEDDING_DIM )\n",
    "# Now we have to index it using the words from the pre-trained word2vec to create pre-trained embedding matrix "
   ]
  },
  {
   "cell_type": "code",
   "execution_count": null,
   "metadata": {
    "id": "cUkZgpCwz86d"
   },
   "outputs": [],
   "source": [
    "for word,i in word2idx.items():\n",
    "    if i < MAX_VOCAB_SIZE:\n",
    "        embedding_vector = word2vec.get(word)\n",
    "        if embedding_vector is not None:\n",
    "            # words not found in embedding index will be all zeros.\n",
    "            embedding_matrix[i] = embedding_vector    "
   ]
  },
  {
   "cell_type": "code",
   "execution_count": null,
   "metadata": {
    "colab": {
     "base_uri": "https://localhost:8080/",
     "height": 449
    },
    "executionInfo": {
     "elapsed": 962,
     "status": "ok",
     "timestamp": 1602508392256,
     "user": {
      "displayName": "Anh Tuan",
      "photoUrl": "https://lh3.googleusercontent.com/a-/AOh14GiQ9KyiTpC6MMKMLCBAkvhJJ9v-lY1rLIrJhzBO=s64",
      "userId": "03546433032765854702"
     },
     "user_tz": -420
    },
    "id": "TVdX1W8ez86m",
    "outputId": "64400584-0293-4abe-a91c-ba287cfcba63"
   },
   "outputs": [
    {
     "data": {
      "text/plain": [
       "array([-1.89700007e-01,  5.00239991e-02,  1.90840006e-01, -4.91839983e-02,\n",
       "       -8.97369981e-02,  2.10060000e-01, -5.49520016e-01,  9.83769968e-02,\n",
       "       -2.01350003e-01,  3.42409998e-01, -9.26769972e-02,  1.60999998e-01,\n",
       "       -1.32679999e-01, -2.81599998e-01,  1.87370002e-01, -4.29589987e-01,\n",
       "        9.60389972e-01,  1.39719993e-01, -1.07809997e+00,  4.05180007e-01,\n",
       "        5.05389988e-01, -5.50639987e-01,  4.84400004e-01,  3.80439997e-01,\n",
       "       -2.90549989e-03, -3.49420011e-01, -9.96960029e-02, -7.83680022e-01,\n",
       "        1.03629994e+00, -2.31399998e-01, -4.71210003e-01,  5.71259975e-01,\n",
       "       -2.14540005e-01,  3.59580010e-01, -4.83190000e-01,  1.08749998e+00,\n",
       "        2.85239995e-01,  1.24470003e-01, -3.92480008e-02, -7.67320022e-02,\n",
       "       -7.63429999e-01, -3.24090004e-01, -5.74899971e-01, -1.08930004e+00,\n",
       "       -4.18110013e-01,  4.51200008e-01,  1.21119998e-01, -5.13670027e-01,\n",
       "       -1.33489996e-01, -1.13779998e+00, -2.87680000e-01,  1.67740002e-01,\n",
       "        5.58040023e-01,  1.53869998e+00,  1.88590009e-02, -2.97210002e+00,\n",
       "       -2.42160007e-01, -9.24950004e-01,  2.19919991e+00,  2.82339990e-01,\n",
       "       -3.47799987e-01,  5.16210020e-01, -4.33869988e-01,  3.68519992e-01,\n",
       "        7.45729983e-01,  7.21020028e-02,  2.79309988e-01,  9.25689995e-01,\n",
       "       -5.03359996e-02, -8.58560026e-01, -1.35800004e-01, -9.25509989e-01,\n",
       "       -3.39910001e-01, -1.03939998e+00, -6.72030002e-02, -2.13789999e-01,\n",
       "       -4.76900011e-01,  2.13770002e-01, -8.40080023e-01,  5.25359996e-02,\n",
       "        5.92980027e-01,  2.96039999e-01, -6.76440001e-01,  1.39160007e-01,\n",
       "       -1.55040002e+00, -2.07650006e-01,  7.22199976e-01,  5.20560026e-01,\n",
       "       -7.62209967e-02, -1.51940003e-01, -1.31339997e-01,  5.86169995e-02,\n",
       "       -3.18690002e-01, -6.14189982e-01, -6.23929977e-01, -4.15479988e-01,\n",
       "       -3.81750017e-02, -3.98039997e-01,  4.76469994e-01, -1.59830004e-01])"
      ]
     },
     "execution_count": 58,
     "metadata": {
      "tags": []
     },
     "output_type": "execute_result"
    }
   ],
   "source": [
    "embedding_matrix[2]"
   ]
  },
  {
   "cell_type": "markdown",
   "metadata": {
    "id": "FSGiSh1-z86q"
   },
   "source": [
    "### Loading pre-trained word embeddings into an Embedding layer"
   ]
  },
  {
   "cell_type": "code",
   "execution_count": null,
   "metadata": {
    "id": "7L1VEBsBz86q"
   },
   "outputs": [],
   "source": [
    "embedding_layer = Embedding(input_dim=num_words,output_dim=EMBEDDING_DIM, weights=[embedding_matrix],\n",
    "                            input_length=MAX_SEQUENCE_LENGTH,trainable=False)"
   ]
  },
  {
   "cell_type": "markdown",
   "metadata": {
    "id": "A9kDmdSvz86w"
   },
   "source": [
    "### Buiding the Model "
   ]
  },
  {
   "cell_type": "code",
   "execution_count": null,
   "metadata": {
    "id": "kLPkMWI4z86x"
   },
   "outputs": [],
   "source": [
    "input_ = Input(shape=(MAX_SEQUENCE_LENGTH,))\n",
    "\n",
    "x = embedding_layer(input_)\n",
    "x = Bidirectional(LSTM(20, return_sequences=True))(x)\n",
    "x = GlobalMaxPooling1D()(x) # Grabs the maximum value from the entire seqence \n",
    "output = Dense(len(labels), activation='sigmoid')(x)"
   ]
  },
  {
   "cell_type": "code",
   "execution_count": null,
   "metadata": {
    "id": "N0R4Jr7Dz863"
   },
   "outputs": [],
   "source": [
    "model = Model(input_,output)"
   ]
  },
  {
   "cell_type": "code",
   "execution_count": null,
   "metadata": {
    "colab": {
     "base_uri": "https://localhost:8080/",
     "height": 345
    },
    "executionInfo": {
     "elapsed": 987,
     "status": "ok",
     "timestamp": 1602508877848,
     "user": {
      "displayName": "Anh Tuan",
      "photoUrl": "https://lh3.googleusercontent.com/a-/AOh14GiQ9KyiTpC6MMKMLCBAkvhJJ9v-lY1rLIrJhzBO=s64",
      "userId": "03546433032765854702"
     },
     "user_tz": -420
    },
    "id": "dC5Ialyvz86-",
    "outputId": "a257ce87-2048-4d90-9558-3973eb3ae55e"
   },
   "outputs": [
    {
     "name": "stdout",
     "output_type": "stream",
     "text": [
      "Model: \"functional_1\"\n",
      "_________________________________________________________________\n",
      "Layer (type)                 Output Shape              Param #   \n",
      "=================================================================\n",
      "input_1 (InputLayer)         [(None, 100)]             0         \n",
      "_________________________________________________________________\n",
      "embedding (Embedding)        (None, 100, 100)          2000000   \n",
      "_________________________________________________________________\n",
      "bidirectional (Bidirectional (None, 100, 40)           19360     \n",
      "_________________________________________________________________\n",
      "global_max_pooling1d (Global (None, 40)                0         \n",
      "_________________________________________________________________\n",
      "dense (Dense)                (None, 6)                 246       \n",
      "=================================================================\n",
      "Total params: 2,019,606\n",
      "Trainable params: 19,606\n",
      "Non-trainable params: 2,000,000\n",
      "_________________________________________________________________\n",
      "None\n"
     ]
    }
   ],
   "source": [
    "print(model.summary())"
   ]
  },
  {
   "cell_type": "code",
   "execution_count": null,
   "metadata": {
    "id": "43F3fbYnz87A"
   },
   "outputs": [],
   "source": [
    "model.compile(optimizer='adam',loss='binary_crossentropy',metrics=['accuracy'])"
   ]
  },
  {
   "cell_type": "markdown",
   "metadata": {
    "id": "il3MCLQ3z87D"
   },
   "source": [
    "### Training "
   ]
  },
  {
   "cell_type": "code",
   "execution_count": null,
   "metadata": {
    "colab": {
     "base_uri": "https://localhost:8080/",
     "height": 415
    },
    "executionInfo": {
     "elapsed": 154233,
     "status": "error",
     "timestamp": 1602509584997,
     "user": {
      "displayName": "Anh Tuan",
      "photoUrl": "https://lh3.googleusercontent.com/a-/AOh14GiQ9KyiTpC6MMKMLCBAkvhJJ9v-lY1rLIrJhzBO=s64",
      "userId": "03546433032765854702"
     },
     "user_tz": -420
    },
    "id": "2VVingpoz87E",
    "outputId": "290fd3f2-1dcd-413e-80be-a0e88562b07e"
   },
   "outputs": [
    {
     "name": "stdout",
     "output_type": "stream",
     "text": [
      "Epoch 1/5\n",
      "998/998 [==============================] - 72s 72ms/step - loss: 0.0479 - accuracy: 0.9882 - val_loss: 0.0501 - val_accuracy: 0.9864\n",
      "Epoch 2/5\n",
      "998/998 [==============================] - 71s 71ms/step - loss: 0.0468 - accuracy: 0.9845 - val_loss: 0.0496 - val_accuracy: 0.9873\n",
      "Epoch 3/5\n",
      "150/998 [===>..........................] - ETA: 54s - loss: 0.0465 - accuracy: 0.9788"
     ]
    },
    {
     "ename": "KeyboardInterrupt",
     "evalue": "ignored",
     "output_type": "error",
     "traceback": [
      "\u001b[0;31m---------------------------------------------------------------------------\u001b[0m",
      "\u001b[0;31mKeyboardInterrupt\u001b[0m                         Traceback (most recent call last)",
      "\u001b[0;32m<ipython-input-72-ddc48a3c78fc>\u001b[0m in \u001b[0;36m<module>\u001b[0;34m()\u001b[0m\n\u001b[0;32m----> 1\u001b[0;31m \u001b[0mtrained_model\u001b[0m \u001b[0;34m=\u001b[0m \u001b[0mmodel\u001b[0m\u001b[0;34m.\u001b[0m\u001b[0mfit\u001b[0m\u001b[0;34m(\u001b[0m\u001b[0mpad_data\u001b[0m\u001b[0;34m,\u001b[0m\u001b[0mtargets\u001b[0m\u001b[0;34m,\u001b[0m\u001b[0mbatch_size\u001b[0m\u001b[0;34m=\u001b[0m\u001b[0mBATCH_SIZE\u001b[0m\u001b[0;34m,\u001b[0m\u001b[0mepochs\u001b[0m\u001b[0;34m=\u001b[0m\u001b[0mEPOCHS\u001b[0m\u001b[0;34m,\u001b[0m\u001b[0mvalidation_split\u001b[0m\u001b[0;34m=\u001b[0m\u001b[0mVALIDATION_SPLIT\u001b[0m\u001b[0;34m)\u001b[0m\u001b[0;34m\u001b[0m\u001b[0;34m\u001b[0m\u001b[0m\n\u001b[0m",
      "\u001b[0;32m/usr/local/lib/python3.6/dist-packages/tensorflow/python/keras/engine/training.py\u001b[0m in \u001b[0;36m_method_wrapper\u001b[0;34m(self, *args, **kwargs)\u001b[0m\n\u001b[1;32m    106\u001b[0m   \u001b[0;32mdef\u001b[0m \u001b[0m_method_wrapper\u001b[0m\u001b[0;34m(\u001b[0m\u001b[0mself\u001b[0m\u001b[0;34m,\u001b[0m \u001b[0;34m*\u001b[0m\u001b[0margs\u001b[0m\u001b[0;34m,\u001b[0m \u001b[0;34m**\u001b[0m\u001b[0mkwargs\u001b[0m\u001b[0;34m)\u001b[0m\u001b[0;34m:\u001b[0m\u001b[0;34m\u001b[0m\u001b[0;34m\u001b[0m\u001b[0m\n\u001b[1;32m    107\u001b[0m     \u001b[0;32mif\u001b[0m \u001b[0;32mnot\u001b[0m \u001b[0mself\u001b[0m\u001b[0;34m.\u001b[0m\u001b[0m_in_multi_worker_mode\u001b[0m\u001b[0;34m(\u001b[0m\u001b[0;34m)\u001b[0m\u001b[0;34m:\u001b[0m  \u001b[0;31m# pylint: disable=protected-access\u001b[0m\u001b[0;34m\u001b[0m\u001b[0;34m\u001b[0m\u001b[0m\n\u001b[0;32m--> 108\u001b[0;31m       \u001b[0;32mreturn\u001b[0m \u001b[0mmethod\u001b[0m\u001b[0;34m(\u001b[0m\u001b[0mself\u001b[0m\u001b[0;34m,\u001b[0m \u001b[0;34m*\u001b[0m\u001b[0margs\u001b[0m\u001b[0;34m,\u001b[0m \u001b[0;34m**\u001b[0m\u001b[0mkwargs\u001b[0m\u001b[0;34m)\u001b[0m\u001b[0;34m\u001b[0m\u001b[0;34m\u001b[0m\u001b[0m\n\u001b[0m\u001b[1;32m    109\u001b[0m \u001b[0;34m\u001b[0m\u001b[0m\n\u001b[1;32m    110\u001b[0m     \u001b[0;31m# Running inside `run_distribute_coordinator` already.\u001b[0m\u001b[0;34m\u001b[0m\u001b[0;34m\u001b[0m\u001b[0;34m\u001b[0m\u001b[0m\n",
      "\u001b[0;32m/usr/local/lib/python3.6/dist-packages/tensorflow/python/keras/engine/training.py\u001b[0m in \u001b[0;36mfit\u001b[0;34m(self, x, y, batch_size, epochs, verbose, callbacks, validation_split, validation_data, shuffle, class_weight, sample_weight, initial_epoch, steps_per_epoch, validation_steps, validation_batch_size, validation_freq, max_queue_size, workers, use_multiprocessing)\u001b[0m\n\u001b[1;32m   1096\u001b[0m                 batch_size=batch_size):\n\u001b[1;32m   1097\u001b[0m               \u001b[0mcallbacks\u001b[0m\u001b[0;34m.\u001b[0m\u001b[0mon_train_batch_begin\u001b[0m\u001b[0;34m(\u001b[0m\u001b[0mstep\u001b[0m\u001b[0;34m)\u001b[0m\u001b[0;34m\u001b[0m\u001b[0;34m\u001b[0m\u001b[0m\n\u001b[0;32m-> 1098\u001b[0;31m               \u001b[0mtmp_logs\u001b[0m \u001b[0;34m=\u001b[0m \u001b[0mtrain_function\u001b[0m\u001b[0;34m(\u001b[0m\u001b[0miterator\u001b[0m\u001b[0;34m)\u001b[0m\u001b[0;34m\u001b[0m\u001b[0;34m\u001b[0m\u001b[0m\n\u001b[0m\u001b[1;32m   1099\u001b[0m               \u001b[0;32mif\u001b[0m \u001b[0mdata_handler\u001b[0m\u001b[0;34m.\u001b[0m\u001b[0mshould_sync\u001b[0m\u001b[0;34m:\u001b[0m\u001b[0;34m\u001b[0m\u001b[0;34m\u001b[0m\u001b[0m\n\u001b[1;32m   1100\u001b[0m                 \u001b[0mcontext\u001b[0m\u001b[0;34m.\u001b[0m\u001b[0masync_wait\u001b[0m\u001b[0;34m(\u001b[0m\u001b[0;34m)\u001b[0m\u001b[0;34m\u001b[0m\u001b[0;34m\u001b[0m\u001b[0m\n",
      "\u001b[0;32m/usr/local/lib/python3.6/dist-packages/tensorflow/python/eager/def_function.py\u001b[0m in \u001b[0;36m__call__\u001b[0;34m(self, *args, **kwds)\u001b[0m\n\u001b[1;32m    778\u001b[0m       \u001b[0;32melse\u001b[0m\u001b[0;34m:\u001b[0m\u001b[0;34m\u001b[0m\u001b[0;34m\u001b[0m\u001b[0m\n\u001b[1;32m    779\u001b[0m         \u001b[0mcompiler\u001b[0m \u001b[0;34m=\u001b[0m \u001b[0;34m\"nonXla\"\u001b[0m\u001b[0;34m\u001b[0m\u001b[0;34m\u001b[0m\u001b[0m\n\u001b[0;32m--> 780\u001b[0;31m         \u001b[0mresult\u001b[0m \u001b[0;34m=\u001b[0m \u001b[0mself\u001b[0m\u001b[0;34m.\u001b[0m\u001b[0m_call\u001b[0m\u001b[0;34m(\u001b[0m\u001b[0;34m*\u001b[0m\u001b[0margs\u001b[0m\u001b[0;34m,\u001b[0m \u001b[0;34m**\u001b[0m\u001b[0mkwds\u001b[0m\u001b[0;34m)\u001b[0m\u001b[0;34m\u001b[0m\u001b[0;34m\u001b[0m\u001b[0m\n\u001b[0m\u001b[1;32m    781\u001b[0m \u001b[0;34m\u001b[0m\u001b[0m\n\u001b[1;32m    782\u001b[0m       \u001b[0mnew_tracing_count\u001b[0m \u001b[0;34m=\u001b[0m \u001b[0mself\u001b[0m\u001b[0;34m.\u001b[0m\u001b[0m_get_tracing_count\u001b[0m\u001b[0;34m(\u001b[0m\u001b[0;34m)\u001b[0m\u001b[0;34m\u001b[0m\u001b[0;34m\u001b[0m\u001b[0m\n",
      "\u001b[0;32m/usr/local/lib/python3.6/dist-packages/tensorflow/python/eager/def_function.py\u001b[0m in \u001b[0;36m_call\u001b[0;34m(self, *args, **kwds)\u001b[0m\n\u001b[1;32m    812\u001b[0m       \u001b[0;31m# In this case we have not created variables on the first call. So we can\u001b[0m\u001b[0;34m\u001b[0m\u001b[0;34m\u001b[0m\u001b[0;34m\u001b[0m\u001b[0m\n\u001b[1;32m    813\u001b[0m       \u001b[0;31m# run the first trace but we should fail if variables are created.\u001b[0m\u001b[0;34m\u001b[0m\u001b[0;34m\u001b[0m\u001b[0;34m\u001b[0m\u001b[0m\n\u001b[0;32m--> 814\u001b[0;31m       \u001b[0mresults\u001b[0m \u001b[0;34m=\u001b[0m \u001b[0mself\u001b[0m\u001b[0;34m.\u001b[0m\u001b[0m_stateful_fn\u001b[0m\u001b[0;34m(\u001b[0m\u001b[0;34m*\u001b[0m\u001b[0margs\u001b[0m\u001b[0;34m,\u001b[0m \u001b[0;34m**\u001b[0m\u001b[0mkwds\u001b[0m\u001b[0;34m)\u001b[0m\u001b[0;34m\u001b[0m\u001b[0;34m\u001b[0m\u001b[0m\n\u001b[0m\u001b[1;32m    815\u001b[0m       \u001b[0;32mif\u001b[0m \u001b[0mself\u001b[0m\u001b[0;34m.\u001b[0m\u001b[0m_created_variables\u001b[0m\u001b[0;34m:\u001b[0m\u001b[0;34m\u001b[0m\u001b[0;34m\u001b[0m\u001b[0m\n\u001b[1;32m    816\u001b[0m         raise ValueError(\"Creating variables on a non-first call to a function\"\n",
      "\u001b[0;32m/usr/local/lib/python3.6/dist-packages/tensorflow/python/eager/function.py\u001b[0m in \u001b[0;36m__call__\u001b[0;34m(self, *args, **kwargs)\u001b[0m\n\u001b[1;32m   2827\u001b[0m     \u001b[0;32mwith\u001b[0m \u001b[0mself\u001b[0m\u001b[0;34m.\u001b[0m\u001b[0m_lock\u001b[0m\u001b[0;34m:\u001b[0m\u001b[0;34m\u001b[0m\u001b[0;34m\u001b[0m\u001b[0m\n\u001b[1;32m   2828\u001b[0m       \u001b[0mgraph_function\u001b[0m\u001b[0;34m,\u001b[0m \u001b[0margs\u001b[0m\u001b[0;34m,\u001b[0m \u001b[0mkwargs\u001b[0m \u001b[0;34m=\u001b[0m \u001b[0mself\u001b[0m\u001b[0;34m.\u001b[0m\u001b[0m_maybe_define_function\u001b[0m\u001b[0;34m(\u001b[0m\u001b[0margs\u001b[0m\u001b[0;34m,\u001b[0m \u001b[0mkwargs\u001b[0m\u001b[0;34m)\u001b[0m\u001b[0;34m\u001b[0m\u001b[0;34m\u001b[0m\u001b[0m\n\u001b[0;32m-> 2829\u001b[0;31m     \u001b[0;32mreturn\u001b[0m \u001b[0mgraph_function\u001b[0m\u001b[0;34m.\u001b[0m\u001b[0m_filtered_call\u001b[0m\u001b[0;34m(\u001b[0m\u001b[0margs\u001b[0m\u001b[0;34m,\u001b[0m \u001b[0mkwargs\u001b[0m\u001b[0;34m)\u001b[0m  \u001b[0;31m# pylint: disable=protected-access\u001b[0m\u001b[0;34m\u001b[0m\u001b[0;34m\u001b[0m\u001b[0m\n\u001b[0m\u001b[1;32m   2830\u001b[0m \u001b[0;34m\u001b[0m\u001b[0m\n\u001b[1;32m   2831\u001b[0m   \u001b[0;34m@\u001b[0m\u001b[0mproperty\u001b[0m\u001b[0;34m\u001b[0m\u001b[0;34m\u001b[0m\u001b[0m\n",
      "\u001b[0;32m/usr/local/lib/python3.6/dist-packages/tensorflow/python/eager/function.py\u001b[0m in \u001b[0;36m_filtered_call\u001b[0;34m(self, args, kwargs, cancellation_manager)\u001b[0m\n\u001b[1;32m   1846\u001b[0m                            resource_variable_ops.BaseResourceVariable))],\n\u001b[1;32m   1847\u001b[0m         \u001b[0mcaptured_inputs\u001b[0m\u001b[0;34m=\u001b[0m\u001b[0mself\u001b[0m\u001b[0;34m.\u001b[0m\u001b[0mcaptured_inputs\u001b[0m\u001b[0;34m,\u001b[0m\u001b[0;34m\u001b[0m\u001b[0;34m\u001b[0m\u001b[0m\n\u001b[0;32m-> 1848\u001b[0;31m         cancellation_manager=cancellation_manager)\n\u001b[0m\u001b[1;32m   1849\u001b[0m \u001b[0;34m\u001b[0m\u001b[0m\n\u001b[1;32m   1850\u001b[0m   \u001b[0;32mdef\u001b[0m \u001b[0m_call_flat\u001b[0m\u001b[0;34m(\u001b[0m\u001b[0mself\u001b[0m\u001b[0;34m,\u001b[0m \u001b[0margs\u001b[0m\u001b[0;34m,\u001b[0m \u001b[0mcaptured_inputs\u001b[0m\u001b[0;34m,\u001b[0m \u001b[0mcancellation_manager\u001b[0m\u001b[0;34m=\u001b[0m\u001b[0;32mNone\u001b[0m\u001b[0;34m)\u001b[0m\u001b[0;34m:\u001b[0m\u001b[0;34m\u001b[0m\u001b[0;34m\u001b[0m\u001b[0m\n",
      "\u001b[0;32m/usr/local/lib/python3.6/dist-packages/tensorflow/python/eager/function.py\u001b[0m in \u001b[0;36m_call_flat\u001b[0;34m(self, args, captured_inputs, cancellation_manager)\u001b[0m\n\u001b[1;32m   1922\u001b[0m       \u001b[0;31m# No tape is watching; skip to running the function.\u001b[0m\u001b[0;34m\u001b[0m\u001b[0;34m\u001b[0m\u001b[0;34m\u001b[0m\u001b[0m\n\u001b[1;32m   1923\u001b[0m       return self._build_call_outputs(self._inference_function.call(\n\u001b[0;32m-> 1924\u001b[0;31m           ctx, args, cancellation_manager=cancellation_manager))\n\u001b[0m\u001b[1;32m   1925\u001b[0m     forward_backward = self._select_forward_and_backward_functions(\n\u001b[1;32m   1926\u001b[0m         \u001b[0margs\u001b[0m\u001b[0;34m,\u001b[0m\u001b[0;34m\u001b[0m\u001b[0;34m\u001b[0m\u001b[0m\n",
      "\u001b[0;32m/usr/local/lib/python3.6/dist-packages/tensorflow/python/eager/function.py\u001b[0m in \u001b[0;36mcall\u001b[0;34m(self, ctx, args, cancellation_manager)\u001b[0m\n\u001b[1;32m    548\u001b[0m               \u001b[0minputs\u001b[0m\u001b[0;34m=\u001b[0m\u001b[0margs\u001b[0m\u001b[0;34m,\u001b[0m\u001b[0;34m\u001b[0m\u001b[0;34m\u001b[0m\u001b[0m\n\u001b[1;32m    549\u001b[0m               \u001b[0mattrs\u001b[0m\u001b[0;34m=\u001b[0m\u001b[0mattrs\u001b[0m\u001b[0;34m,\u001b[0m\u001b[0;34m\u001b[0m\u001b[0;34m\u001b[0m\u001b[0m\n\u001b[0;32m--> 550\u001b[0;31m               ctx=ctx)\n\u001b[0m\u001b[1;32m    551\u001b[0m         \u001b[0;32melse\u001b[0m\u001b[0;34m:\u001b[0m\u001b[0;34m\u001b[0m\u001b[0;34m\u001b[0m\u001b[0m\n\u001b[1;32m    552\u001b[0m           outputs = execute.execute_with_cancellation(\n",
      "\u001b[0;32m/usr/local/lib/python3.6/dist-packages/tensorflow/python/eager/execute.py\u001b[0m in \u001b[0;36mquick_execute\u001b[0;34m(op_name, num_outputs, inputs, attrs, ctx, name)\u001b[0m\n\u001b[1;32m     58\u001b[0m     \u001b[0mctx\u001b[0m\u001b[0;34m.\u001b[0m\u001b[0mensure_initialized\u001b[0m\u001b[0;34m(\u001b[0m\u001b[0;34m)\u001b[0m\u001b[0;34m\u001b[0m\u001b[0;34m\u001b[0m\u001b[0m\n\u001b[1;32m     59\u001b[0m     tensors = pywrap_tfe.TFE_Py_Execute(ctx._handle, device_name, op_name,\n\u001b[0;32m---> 60\u001b[0;31m                                         inputs, attrs, num_outputs)\n\u001b[0m\u001b[1;32m     61\u001b[0m   \u001b[0;32mexcept\u001b[0m \u001b[0mcore\u001b[0m\u001b[0;34m.\u001b[0m\u001b[0m_NotOkStatusException\u001b[0m \u001b[0;32mas\u001b[0m \u001b[0me\u001b[0m\u001b[0;34m:\u001b[0m\u001b[0;34m\u001b[0m\u001b[0;34m\u001b[0m\u001b[0m\n\u001b[1;32m     62\u001b[0m     \u001b[0;32mif\u001b[0m \u001b[0mname\u001b[0m \u001b[0;32mis\u001b[0m \u001b[0;32mnot\u001b[0m \u001b[0;32mNone\u001b[0m\u001b[0;34m:\u001b[0m\u001b[0;34m\u001b[0m\u001b[0;34m\u001b[0m\u001b[0m\n",
      "\u001b[0;31mKeyboardInterrupt\u001b[0m: "
     ]
    }
   ],
   "source": [
    "trained_model = model.fit(pad_data,targets,batch_size=BATCH_SIZE,epochs=EPOCHS,validation_split=VALIDATION_SPLIT)"
   ]
  },
  {
   "cell_type": "code",
   "execution_count": null,
   "metadata": {
    "id": "YMEqiKDT6RtC"
   },
   "outputs": [],
   "source": [
    "# save\n",
    "model.save(path + 'Transfer Learning Models/Toxic_LSTM.h5')"
   ]
  },
  {
   "cell_type": "code",
   "execution_count": null,
   "metadata": {
    "id": "gy8_jfro7Mj_"
   },
   "outputs": [],
   "source": [
    "# load\n",
    "from keras.models import load_model, model_from_json\n",
    "trained_model = load_model(path + 'Transfer Learning Models/Toxic_LSTM.h5')"
   ]
  },
  {
   "cell_type": "code",
   "execution_count": null,
   "metadata": {
    "colab": {
     "base_uri": "https://localhost:8080/",
     "height": 34
    },
    "executionInfo": {
     "elapsed": 977,
     "status": "ok",
     "timestamp": 1602509594424,
     "user": {
      "displayName": "Anh Tuan",
      "photoUrl": "https://lh3.googleusercontent.com/a-/AOh14GiQ9KyiTpC6MMKMLCBAkvhJJ9v-lY1rLIrJhzBO=s64",
      "userId": "03546433032765854702"
     },
     "user_tz": -420
    },
    "id": "ToBQZbkpALKs",
    "outputId": "3c39d90f-5b66-4a0a-b639-91ad48618fe2"
   },
   "outputs": [
    {
     "name": "stdout",
     "output_type": "stream",
     "text": [
      "None\n"
     ]
    }
   ],
   "source": [
    "print(trained_model.history)"
   ]
  },
  {
   "cell_type": "markdown",
   "metadata": {
    "id": "6GnxBlIez87K"
   },
   "source": [
    "### Plotting Accuracy"
   ]
  },
  {
   "cell_type": "code",
   "execution_count": null,
   "metadata": {
    "colab": {
     "base_uri": "https://localhost:8080/",
     "height": 235
    },
    "executionInfo": {
     "elapsed": 1053,
     "status": "error",
     "timestamp": 1602509326291,
     "user": {
      "displayName": "Anh Tuan",
      "photoUrl": "https://lh3.googleusercontent.com/a-/AOh14GiQ9KyiTpC6MMKMLCBAkvhJJ9v-lY1rLIrJhzBO=s64",
      "userId": "03546433032765854702"
     },
     "user_tz": -420
    },
    "id": "v7HM2HfPz87L",
    "outputId": "572b5f4e-ef8d-4430-df9b-26f866bfbf34"
   },
   "outputs": [
    {
     "ename": "TypeError",
     "evalue": "ignored",
     "output_type": "error",
     "traceback": [
      "\u001b[0;31m---------------------------------------------------------------------------\u001b[0m",
      "\u001b[0;31mTypeError\u001b[0m                                 Traceback (most recent call last)",
      "\u001b[0;32m<ipython-input-68-2bc09b0aca3e>\u001b[0m in \u001b[0;36m<module>\u001b[0;34m()\u001b[0m\n\u001b[0;32m----> 1\u001b[0;31m \u001b[0mplt\u001b[0m\u001b[0;34m.\u001b[0m\u001b[0mplot\u001b[0m\u001b[0;34m(\u001b[0m\u001b[0mtrained_model\u001b[0m\u001b[0;34m.\u001b[0m\u001b[0mhistory\u001b[0m\u001b[0;34m[\u001b[0m\u001b[0;34m'accuracy'\u001b[0m\u001b[0;34m]\u001b[0m\u001b[0;34m)\u001b[0m\u001b[0;34m\u001b[0m\u001b[0;34m\u001b[0m\u001b[0m\n\u001b[0m\u001b[1;32m      2\u001b[0m \u001b[0mplt\u001b[0m\u001b[0;34m.\u001b[0m\u001b[0mplot\u001b[0m\u001b[0;34m(\u001b[0m\u001b[0mtrained_model\u001b[0m\u001b[0;34m.\u001b[0m\u001b[0mhistory\u001b[0m\u001b[0;34m[\u001b[0m\u001b[0;34m'val_accuracy'\u001b[0m\u001b[0;34m]\u001b[0m\u001b[0;34m)\u001b[0m\u001b[0;34m\u001b[0m\u001b[0;34m\u001b[0m\u001b[0m\n\u001b[1;32m      3\u001b[0m \u001b[0mplt\u001b[0m\u001b[0;34m.\u001b[0m\u001b[0mtitle\u001b[0m\u001b[0;34m(\u001b[0m\u001b[0;34m'Model accuracy'\u001b[0m\u001b[0;34m)\u001b[0m\u001b[0;34m\u001b[0m\u001b[0;34m\u001b[0m\u001b[0m\n\u001b[1;32m      4\u001b[0m \u001b[0mplt\u001b[0m\u001b[0;34m.\u001b[0m\u001b[0mylabel\u001b[0m\u001b[0;34m(\u001b[0m\u001b[0;34m'accuracy'\u001b[0m\u001b[0;34m)\u001b[0m\u001b[0;34m\u001b[0m\u001b[0;34m\u001b[0m\u001b[0m\n\u001b[1;32m      5\u001b[0m \u001b[0mplt\u001b[0m\u001b[0;34m.\u001b[0m\u001b[0mxlabel\u001b[0m\u001b[0;34m(\u001b[0m\u001b[0;34m'epoch'\u001b[0m\u001b[0;34m)\u001b[0m\u001b[0;34m\u001b[0m\u001b[0;34m\u001b[0m\u001b[0m\n",
      "\u001b[0;31mTypeError\u001b[0m: 'NoneType' object is not subscriptable"
     ]
    }
   ],
   "source": [
    "plt.plot(trained_model.history['accuracy'])\n",
    "plt.plot(trained_model.history['val_accuracy'])\n",
    "plt.title('Model accuracy')\n",
    "plt.ylabel('accuracy')\n",
    "plt.xlabel('epoch')\n",
    "plt.legend(['train', 'Validation'], loc='upper left')"
   ]
  },
  {
   "cell_type": "markdown",
   "metadata": {
    "id": "RI3aQSPcz87O"
   },
   "source": [
    "#### Not a lot of change here"
   ]
  },
  {
   "cell_type": "markdown",
   "metadata": {
    "id": "ao7jZ9lTz87P"
   },
   "source": [
    "### Plotting Loss"
   ]
  },
  {
   "cell_type": "code",
   "execution_count": null,
   "metadata": {
    "colab": {
     "base_uri": "https://localhost:8080/",
     "height": 312
    },
    "executionInfo": {
     "elapsed": 1132,
     "status": "ok",
     "timestamp": 1601635515374,
     "user": {
      "displayName": "Anh Tuan",
      "photoUrl": "https://lh3.googleusercontent.com/a-/AOh14GiQ9KyiTpC6MMKMLCBAkvhJJ9v-lY1rLIrJhzBO=s64",
      "userId": "03546433032765854702"
     },
     "user_tz": -420
    },
    "id": "DSxmYSknz87Q",
    "outputId": "826e4c98-b372-455d-817c-29131f28cde3"
   },
   "outputs": [
    {
     "data": {
      "text/plain": [
       "<matplotlib.legend.Legend at 0x7fd23d6777f0>"
      ]
     },
     "execution_count": 64,
     "metadata": {
      "tags": []
     },
     "output_type": "execute_result"
    },
    {
     "data": {
      "image/png": "[encoded data removed]",
      "text/plain": [
       "<Figure size 432x288 with 1 Axes>"
      ]
     },
     "metadata": {
      "needs_background": "light",
      "tags": []
     },
     "output_type": "display_data"
    }
   ],
   "source": [
    "plt.plot(trained_model.history['loss'])\n",
    "plt.plot(trained_model.history['val_loss'])\n",
    "plt.title('model loss')\n",
    "plt.ylabel('loss')\n",
    "plt.xlabel('epoch')\n",
    "plt.legend(['train', 'validation'], loc='upper left')"
   ]
  },
  {
   "cell_type": "markdown",
   "metadata": {
    "id": "ecuJ94rfz87T"
   },
   "source": [
    "#### Same here as well "
   ]
  },
  {
   "cell_type": "markdown",
   "metadata": {
    "id": "SL2QGVRJz87U"
   },
   "source": [
    "### Plotting mean AUC over each label"
   ]
  },
  {
   "cell_type": "code",
   "execution_count": null,
   "metadata": {
    "id": "SshMClGnz87U"
   },
   "outputs": [],
   "source": [
    "pred = model.predict(pad_data)"
   ]
  },
  {
   "cell_type": "code",
   "execution_count": null,
   "metadata": {
    "colab": {
     "base_uri": "https://localhost:8080/",
     "height": 34
    },
    "executionInfo": {
     "elapsed": 1142,
     "status": "ok",
     "timestamp": 1601635627377,
     "user": {
      "displayName": "Anh Tuan",
      "photoUrl": "https://lh3.googleusercontent.com/a-/AOh14GiQ9KyiTpC6MMKMLCBAkvhJJ9v-lY1rLIrJhzBO=s64",
      "userId": "03546433032765854702"
     },
     "user_tz": -420
    },
    "id": "u2H3z4N2z87X",
    "outputId": "82b78648-d797-4150-ff7e-b7221f20df1f"
   },
   "outputs": [
    {
     "name": "stdout",
     "output_type": "stream",
     "text": [
      "Mean AUC score for all labels: 0.9779559475281635\n"
     ]
    }
   ],
   "source": [
    "auc_accuracy = []\n",
    "for i in range(len(labels)):\n",
    "    auc = roc_auc_score(targets[:,i], pred[:,i])\n",
    "    auc_accuracy.append(auc)\n",
    "print('Mean AUC score for all labels:',np.mean(auc_accuracy))"
   ]
  }
 ],
 "metadata": {
  "colab": {
   "collapsed_sections": [
    "RI3aQSPcz87O",
    "ecuJ94rfz87T"
   ],
   "name": "06 - DL - Deep Learning For Text Data (LSTM).ipynb",
   "provenance": []
  },
  "kernelspec": {
   "display_name": "Python 3",
   "language": "python",
   "name": "python3"
  },
  "language_info": {
   "codemirror_mode": {
    "name": "ipython",
    "version": 3
   },
   "file_extension": ".py",
   "mimetype": "text/x-python",
   "name": "python",
   "nbconvert_exporter": "python",
   "pygments_lexer": "ipython3",
   "version": "3.5.2"
  }
 },
 "nbformat": 4,
 "nbformat_minor": 4
}
