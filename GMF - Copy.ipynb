{
 "cells": [
  {
   "cell_type": "code",
   "execution_count": 1,
   "metadata": {},
   "outputs": [],
   "source": [
    "import pandas as pd\n",
    "import numpy as np\n",
    "import tensorflow as tf\n",
    "from tensorflow import keras"
   ]
  },
  {
   "cell_type": "code",
   "execution_count": 2,
   "metadata": {},
   "outputs": [],
   "source": [
    "import warnings\n",
    "warnings.filterwarnings('ignore')"
   ]
  },
  {
   "cell_type": "code",
   "execution_count": 3,
   "metadata": {},
   "outputs": [],
   "source": [
    "df = pd.read_csv('ijcai2016_taobao_1.csv', sep=r',', engine='python')"
   ]
  },
  {
   "cell_type": "code",
   "execution_count": 4,
   "metadata": {},
   "outputs": [
    {
     "data": {
      "text/html": [
       "<div>\n",
       "<style scoped>\n",
       "    .dataframe tbody tr th:only-of-type {\n",
       "        vertical-align: middle;\n",
       "    }\n",
       "\n",
       "    .dataframe tbody tr th {\n",
       "        vertical-align: top;\n",
       "    }\n",
       "\n",
       "    .dataframe thead th {\n",
       "        text-align: right;\n",
       "    }\n",
       "</style>\n",
       "<table border=\"1\" class=\"dataframe\">\n",
       "  <thead>\n",
       "    <tr style=\"text-align: right;\">\n",
       "      <th></th>\n",
       "      <th>use_ID</th>\n",
       "      <th>sel_ID</th>\n",
       "      <th>ite_ID</th>\n",
       "      <th>cat_ID</th>\n",
       "      <th>act_ID</th>\n",
       "      <th>time</th>\n",
       "    </tr>\n",
       "  </thead>\n",
       "  <tbody>\n",
       "    <tr>\n",
       "      <th>0</th>\n",
       "      <td>1980536</td>\n",
       "      <td>9666</td>\n",
       "      <td>1450952</td>\n",
       "      <td>1</td>\n",
       "      <td>0</td>\n",
       "      <td>20150826</td>\n",
       "    </tr>\n",
       "    <tr>\n",
       "      <th>1</th>\n",
       "      <td>1980536</td>\n",
       "      <td>9666</td>\n",
       "      <td>1450952</td>\n",
       "      <td>1</td>\n",
       "      <td>0</td>\n",
       "      <td>20150826</td>\n",
       "    </tr>\n",
       "    <tr>\n",
       "      <th>2</th>\n",
       "      <td>647747</td>\n",
       "      <td>9666</td>\n",
       "      <td>1450952</td>\n",
       "      <td>1</td>\n",
       "      <td>0</td>\n",
       "      <td>20150915</td>\n",
       "    </tr>\n",
       "    <tr>\n",
       "      <th>3</th>\n",
       "      <td>1980536</td>\n",
       "      <td>9666</td>\n",
       "      <td>1450952</td>\n",
       "      <td>1</td>\n",
       "      <td>0</td>\n",
       "      <td>20150823</td>\n",
       "    </tr>\n",
       "    <tr>\n",
       "      <th>4</th>\n",
       "      <td>183647</td>\n",
       "      <td>9525</td>\n",
       "      <td>578730</td>\n",
       "      <td>1</td>\n",
       "      <td>0</td>\n",
       "      <td>20150711</td>\n",
       "    </tr>\n",
       "  </tbody>\n",
       "</table>\n",
       "</div>"
      ],
      "text/plain": [
       "    use_ID  sel_ID   ite_ID  cat_ID  act_ID      time\n",
       "0  1980536    9666  1450952       1       0  20150826\n",
       "1  1980536    9666  1450952       1       0  20150826\n",
       "2   647747    9666  1450952       1       0  20150915\n",
       "3  1980536    9666  1450952       1       0  20150823\n",
       "4   183647    9525   578730       1       0  20150711"
      ]
     },
     "execution_count": 4,
     "metadata": {},
     "output_type": "execute_result"
    }
   ],
   "source": [
    "df.head()"
   ]
  },
  {
   "cell_type": "code",
   "execution_count": 5,
   "metadata": {},
   "outputs": [
    {
     "data": {
      "text/html": [
       "<div>\n",
       "<style scoped>\n",
       "    .dataframe tbody tr th:only-of-type {\n",
       "        vertical-align: middle;\n",
       "    }\n",
       "\n",
       "    .dataframe tbody tr th {\n",
       "        vertical-align: top;\n",
       "    }\n",
       "\n",
       "    .dataframe thead th {\n",
       "        text-align: right;\n",
       "    }\n",
       "</style>\n",
       "<table border=\"1\" class=\"dataframe\">\n",
       "  <thead>\n",
       "    <tr style=\"text-align: right;\">\n",
       "      <th></th>\n",
       "      <th>use_ID</th>\n",
       "      <th>sel_ID</th>\n",
       "      <th>ite_ID</th>\n",
       "      <th>cat_ID</th>\n",
       "      <th>act_ID</th>\n",
       "      <th>time</th>\n",
       "    </tr>\n",
       "  </thead>\n",
       "  <tbody>\n",
       "    <tr>\n",
       "      <th>count</th>\n",
       "      <td>99999.0</td>\n",
       "      <td>99999.0</td>\n",
       "      <td>99999.0</td>\n",
       "      <td>99999.0</td>\n",
       "      <td>99999.0</td>\n",
       "      <td>99999.0</td>\n",
       "    </tr>\n",
       "    <tr>\n",
       "      <th>mean</th>\n",
       "      <td>1024665.8052680527</td>\n",
       "      <td>4550.214902149021</td>\n",
       "      <td>1203661.2412924129</td>\n",
       "      <td>1.0</td>\n",
       "      <td>0.1009310093100931</td>\n",
       "      <td>20150830.19217192</td>\n",
       "    </tr>\n",
       "    <tr>\n",
       "      <th>std</th>\n",
       "      <td>596919.0583544845</td>\n",
       "      <td>2805.703221327739</td>\n",
       "      <td>688457.0158119791</td>\n",
       "      <td>0.0</td>\n",
       "      <td>0.3012388556068006</td>\n",
       "      <td>116.58427140128536</td>\n",
       "    </tr>\n",
       "    <tr>\n",
       "      <th>min</th>\n",
       "      <td>13.0</td>\n",
       "      <td>60.0</td>\n",
       "      <td>2017.0</td>\n",
       "      <td>1.0</td>\n",
       "      <td>0.0</td>\n",
       "      <td>20150701.0</td>\n",
       "    </tr>\n",
       "    <tr>\n",
       "      <th>25%</th>\n",
       "      <td>505223.0</td>\n",
       "      <td>2258.0</td>\n",
       "      <td>594459.0</td>\n",
       "      <td>1.0</td>\n",
       "      <td>0.0</td>\n",
       "      <td>20150720.0</td>\n",
       "    </tr>\n",
       "    <tr>\n",
       "      <th>50%</th>\n",
       "      <td>1023194.0</td>\n",
       "      <td>4562.0</td>\n",
       "      <td>1250255.0</td>\n",
       "      <td>1.0</td>\n",
       "      <td>0.0</td>\n",
       "      <td>20150813.0</td>\n",
       "    </tr>\n",
       "    <tr>\n",
       "      <th>75%</th>\n",
       "      <td>1542806.0</td>\n",
       "      <td>6792.0</td>\n",
       "      <td>1784092.0</td>\n",
       "      <td>1.0</td>\n",
       "      <td>0.0</td>\n",
       "      <td>20150916.0</td>\n",
       "    </tr>\n",
       "    <tr>\n",
       "      <th>max</th>\n",
       "      <td>2063567.0</td>\n",
       "      <td>9995.0</td>\n",
       "      <td>2353171.0</td>\n",
       "      <td>1.0</td>\n",
       "      <td>1.0</td>\n",
       "      <td>20151130.0</td>\n",
       "    </tr>\n",
       "  </tbody>\n",
       "</table>\n",
       "</div>"
      ],
      "text/plain": [
       "                   use_ID             sel_ID              ite_ID   cat_ID  \\\n",
       "count             99999.0            99999.0             99999.0  99999.0   \n",
       "mean   1024665.8052680527  4550.214902149021  1203661.2412924129      1.0   \n",
       "std     596919.0583544845  2805.703221327739   688457.0158119791      0.0   \n",
       "min                  13.0               60.0              2017.0      1.0   \n",
       "25%              505223.0             2258.0            594459.0      1.0   \n",
       "50%             1023194.0             4562.0           1250255.0      1.0   \n",
       "75%             1542806.0             6792.0           1784092.0      1.0   \n",
       "max             2063567.0             9995.0           2353171.0      1.0   \n",
       "\n",
       "                   act_ID                time  \n",
       "count             99999.0             99999.0  \n",
       "mean   0.1009310093100931   20150830.19217192  \n",
       "std    0.3012388556068006  116.58427140128536  \n",
       "min                   0.0          20150701.0  \n",
       "25%                   0.0          20150720.0  \n",
       "50%                   0.0          20150813.0  \n",
       "75%                   0.0          20150916.0  \n",
       "max                   1.0          20151130.0  "
      ]
     },
     "execution_count": 5,
     "metadata": {},
     "output_type": "execute_result"
    }
   ],
   "source": [
    "df.describe().apply(lambda s: s.apply('{0}'.format))"
   ]
  },
  {
   "cell_type": "code",
   "execution_count": 6,
   "metadata": {},
   "outputs": [],
   "source": [
    "data_click = df[['use_ID', 'ite_ID', 'act_ID']].loc[df['act_ID'] == 0]\n",
    "data_click = data_click.drop_duplicates()"
   ]
  },
  {
   "cell_type": "code",
   "execution_count": 7,
   "metadata": {},
   "outputs": [],
   "source": [
    "data_buy = df[['use_ID', 'ite_ID', 'act_ID']].loc[df['act_ID'] == 1]\n",
    "data_buy = data_buy.drop_duplicates()"
   ]
  },
  {
   "cell_type": "code",
   "execution_count": 8,
   "metadata": {},
   "outputs": [
    {
     "data": {
      "text/html": [
       "<div>\n",
       "<style scoped>\n",
       "    .dataframe tbody tr th:only-of-type {\n",
       "        vertical-align: middle;\n",
       "    }\n",
       "\n",
       "    .dataframe tbody tr th {\n",
       "        vertical-align: top;\n",
       "    }\n",
       "\n",
       "    .dataframe thead th {\n",
       "        text-align: right;\n",
       "    }\n",
       "</style>\n",
       "<table border=\"1\" class=\"dataframe\">\n",
       "  <thead>\n",
       "    <tr style=\"text-align: right;\">\n",
       "      <th></th>\n",
       "      <th>use_ID</th>\n",
       "      <th>ite_ID</th>\n",
       "      <th>click</th>\n",
       "      <th>buy</th>\n",
       "    </tr>\n",
       "  </thead>\n",
       "  <tbody>\n",
       "    <tr>\n",
       "      <th>0</th>\n",
       "      <td>1980536</td>\n",
       "      <td>1450952</td>\n",
       "      <td>1</td>\n",
       "      <td>0.0</td>\n",
       "    </tr>\n",
       "    <tr>\n",
       "      <th>1</th>\n",
       "      <td>647747</td>\n",
       "      <td>1450952</td>\n",
       "      <td>1</td>\n",
       "      <td>0.0</td>\n",
       "    </tr>\n",
       "    <tr>\n",
       "      <th>2</th>\n",
       "      <td>183647</td>\n",
       "      <td>578730</td>\n",
       "      <td>1</td>\n",
       "      <td>0.0</td>\n",
       "    </tr>\n",
       "    <tr>\n",
       "      <th>3</th>\n",
       "      <td>723956</td>\n",
       "      <td>28301</td>\n",
       "      <td>1</td>\n",
       "      <td>0.0</td>\n",
       "    </tr>\n",
       "    <tr>\n",
       "      <th>4</th>\n",
       "      <td>1781938</td>\n",
       "      <td>28301</td>\n",
       "      <td>1</td>\n",
       "      <td>0.0</td>\n",
       "    </tr>\n",
       "  </tbody>\n",
       "</table>\n",
       "</div>"
      ],
      "text/plain": [
       "    use_ID   ite_ID  click  buy\n",
       "0  1980536  1450952      1  0.0\n",
       "1   647747  1450952      1  0.0\n",
       "2   183647   578730      1  0.0\n",
       "3   723956    28301      1  0.0\n",
       "4  1781938    28301      1  0.0"
      ]
     },
     "execution_count": 8,
     "metadata": {},
     "output_type": "execute_result"
    }
   ],
   "source": [
    "data_merge = pd.merge(data_click, data_buy, left_on=['use_ID','ite_ID'], right_on=['use_ID','ite_ID'], how = 'left')\n",
    "data_merge.columns = ['use_ID', 'ite_ID', 'click', 'buy']\n",
    "data_merge['click'] = data_merge['click'].replace(0, 1)\n",
    "data_merge['buy'] = data_merge['buy'].fillna(0)\n",
    "\n",
    "data_merge.head()"
   ]
  },
  {
   "cell_type": "code",
   "execution_count": 9,
   "metadata": {},
   "outputs": [
    {
     "data": {
      "text/plain": [
       "((66802, 3), (8391, 3), (66802, 4))"
      ]
     },
     "execution_count": 9,
     "metadata": {},
     "output_type": "execute_result"
    }
   ],
   "source": [
    "data_click.shape , data_buy.shape, data_merge.shape"
   ]
  },
  {
   "cell_type": "code",
   "execution_count": 10,
   "metadata": {},
   "outputs": [
    {
     "data": {
      "text/plain": [
       "((64808, 4), (1994, 4))"
      ]
     },
     "execution_count": 10,
     "metadata": {},
     "output_type": "execute_result"
    }
   ],
   "source": [
    "data_merge.loc[data_merge['buy'] == 0].shape, data_merge.loc[data_merge['buy'] == 1].shape"
   ]
  },
  {
   "cell_type": "code",
   "execution_count": 11,
   "metadata": {},
   "outputs": [],
   "source": [
    "msk = np.random.rand(len(data_merge)) < 0.8\n",
    "train = data_merge[msk]\n",
    "test = data_merge[~msk]"
   ]
  },
  {
   "cell_type": "code",
   "execution_count": 12,
   "metadata": {},
   "outputs": [
    {
     "data": {
      "text/plain": [
       "((53548, 4), (13254, 4))"
      ]
     },
     "execution_count": 12,
     "metadata": {},
     "output_type": "execute_result"
    }
   ],
   "source": [
    "train.shape, test.shape"
   ]
  },
  {
   "cell_type": "code",
   "execution_count": 13,
   "metadata": {},
   "outputs": [
    {
     "data": {
      "text/plain": [
       "((53548, 1, 2), (53548, 1, 1), (13254, 1, 2), (13254, 1, 1))"
      ]
     },
     "execution_count": 13,
     "metadata": {},
     "output_type": "execute_result"
    }
   ],
   "source": [
    "x_train = train.iloc[:, 0:-2].values\n",
    "y_train = train.iloc[:,3].values\n",
    "\n",
    "x_train = np.expand_dims(x_train, axis=1)\n",
    "y_train = np.expand_dims(y_train, axis=1)\n",
    "y_train = np.expand_dims(y_train, axis=-1)\n",
    "\n",
    "x_test = test.iloc[:, 0:-2].values\n",
    "y_test = test.iloc[:,3].values\n",
    "\n",
    "x_test = np.expand_dims(x_test, axis=1)\n",
    "y_test = np.expand_dims(y_test, axis=1)\n",
    "y_test = np.expand_dims(y_test, axis=-1)\n",
    "\n",
    "x_train.shape, y_train.shape, x_test.shape, y_test.shape"
   ]
  },
  {
   "cell_type": "code",
   "execution_count": 14,
   "metadata": {},
   "outputs": [],
   "source": [
    "num_users = 2353171+1\n",
    "num_items = 2353171+1"
   ]
  },
  {
   "cell_type": "code",
   "execution_count": 15,
   "metadata": {},
   "outputs": [
    {
     "data": {
      "text/plain": [
       "(2353172, 2353172)"
      ]
     },
     "execution_count": 15,
     "metadata": {},
     "output_type": "execute_result"
    }
   ],
   "source": [
    "num_users, num_items"
   ]
  },
  {
   "cell_type": "code",
   "execution_count": 16,
   "metadata": {},
   "outputs": [],
   "source": [
    "from keras.layers import Embedding, Input, Dense, merge, Reshape, Flatten, Dropout\n",
    "from keras.regularizers import l2\n",
    "from keras.optimizers import Adagrad, Adam, SGD, RMSprop\n",
    "\n",
    "layers = [20,10]\n",
    "reg_layers=[0,0]\n",
    "num_layer = len(layers)\n",
    "learning_rate = 10e-4\n",
    "\n",
    "## Tạo lớp input kích thước (None, 32, 32, 1)\n",
    "inputs = tf.keras.layers.Input(shape=(1, 2))\n",
    "\n",
    "Embedding_User = Embedding(\n",
    "    input_dim = num_users, \n",
    "    output_dim = 64, name = 'user_embedding',\n",
    "    embeddings_initializer = 'uniform', embeddings_regularizer = l2(reg_layers[0]), input_length=1)\n",
    "\n",
    "Embedding_Item = Embedding(\n",
    "    input_dim = num_items, \n",
    "    output_dim = 64, \n",
    "    name = 'item_embedding',\n",
    "    embeddings_initializer = 'uniform', embeddings_regularizer = l2(reg_layers[0]), input_length=1)\n",
    "\n",
    "user_latent = Flatten(name = 'user_latent')(Embedding_User(inputs[0]))\n",
    "item_latent = Flatten(name = 'item_latent')(Embedding_Item(inputs[1]))\n",
    "\n",
    "vector = tf.keras.layers.Multiply()([user_latent, item_latent])\n",
    "\n",
    "# for idx in range(0, num_layer):\n",
    "#     layer = Dense(layers[idx], kernel_regularizer= l2(reg_layers[idx]), activation='relu', name = 'layer_1_%d' %idx)\n",
    "#     vector = layer(vector)\n",
    "\n",
    "click_prediction = Dense(1, activation='sigmoid',use_bias=True, \n",
    "                         kernel_initializer='lecun_uniform', \n",
    "                         name = 'click_prediction')(vector)\n",
    "\n",
    "outputs = tf.concat([click_prediction], -1)"
   ]
  },
  {
   "cell_type": "code",
   "execution_count": 17,
   "metadata": {},
   "outputs": [],
   "source": [
    "## Compile model\n",
    "# with strategy.scope():\n",
    "model = keras.models.Model(inputs=inputs, outputs=outputs)\n",
    "model.compile(optimizer=Adagrad(lr=learning_rate), loss='binary_crossentropy', \n",
    "              metrics=[\"accuracy\",\"mse\",tf.keras.metrics.RootMeanSquaredError()])"
   ]
  },
  {
   "cell_type": "code",
   "execution_count": 18,
   "metadata": {},
   "outputs": [
    {
     "name": "stdout",
     "output_type": "stream",
     "text": [
      "Model: \"model\"\n",
      "__________________________________________________________________________________________________\n",
      "Layer (type)                    Output Shape         Param #     Connected to                     \n",
      "==================================================================================================\n",
      "input_1 (InputLayer)            [(None, 1, 2)]       0                                            \n",
      "__________________________________________________________________________________________________\n",
      "tf_op_layer_strided_slice (Tens [(1, 2)]             0           input_1[0][0]                    \n",
      "__________________________________________________________________________________________________\n",
      "tf_op_layer_strided_slice_1 (Te [(1, 2)]             0           input_1[0][0]                    \n",
      "__________________________________________________________________________________________________\n",
      "user_embedding (Embedding)      (1, 2, 64)           150603008   tf_op_layer_strided_slice[0][0]  \n",
      "__________________________________________________________________________________________________\n",
      "item_embedding (Embedding)      (1, 2, 64)           150603008   tf_op_layer_strided_slice_1[0][0]\n",
      "__________________________________________________________________________________________________\n",
      "user_latent (Flatten)           (1, 128)             0           user_embedding[0][0]             \n",
      "__________________________________________________________________________________________________\n",
      "item_latent (Flatten)           (1, 128)             0           item_embedding[0][0]             \n",
      "__________________________________________________________________________________________________\n",
      "multiply (Multiply)             (1, 128)             0           user_latent[0][0]                \n",
      "                                                                 item_latent[0][0]                \n",
      "__________________________________________________________________________________________________\n",
      "click_prediction (Dense)        (1, 1)               129         multiply[0][0]                   \n",
      "__________________________________________________________________________________________________\n",
      "tf_op_layer_concat (TensorFlowO [(1, 1)]             0           click_prediction[0][0]           \n",
      "==================================================================================================\n",
      "Total params: 301,206,145\n",
      "Trainable params: 301,206,145\n",
      "Non-trainable params: 0\n",
      "__________________________________________________________________________________________________\n"
     ]
    }
   ],
   "source": [
    "model.summary()"
   ]
  },
  {
   "cell_type": "code",
   "execution_count": 19,
   "metadata": {},
   "outputs": [
    {
     "name": "stdout",
     "output_type": "stream",
     "text": [
      "Epoch 1/100\n",
      "268/268 [==============================] - 1s 2ms/step - loss: 0.6839 - accuracy: 0.9626 - mse: 0.2454 - root_mean_squared_error: 0.4953\n",
      "Epoch 2/100\n",
      "268/268 [==============================] - 1s 2ms/step - loss: 0.6756 - accuracy: 0.9698 - mse: 0.2412 - root_mean_squared_error: 0.4911\n",
      "Epoch 3/100\n",
      "268/268 [==============================] - 1s 2ms/step - loss: 0.6702 - accuracy: 0.9698 - mse: 0.2385 - root_mean_squared_error: 0.4884\n",
      "Epoch 4/100\n",
      "268/268 [==============================] - 1s 2ms/step - loss: 0.6659 - accuracy: 0.9698 - mse: 0.2364 - root_mean_squared_error: 0.4862\n",
      "Epoch 5/100\n",
      "268/268 [==============================] - 1s 2ms/step - loss: 0.6622 - accuracy: 0.9698 - mse: 0.2345 - root_mean_squared_error: 0.4843\n",
      "Epoch 6/100\n",
      "268/268 [==============================] - 1s 2ms/step - loss: 0.6590 - accuracy: 0.9698 - mse: 0.2329 - root_mean_squared_error: 0.4826\n",
      "Epoch 7/100\n",
      "268/268 [==============================] - 1s 2ms/step - loss: 0.6560 - accuracy: 0.9698 - mse: 0.2314 - root_mean_squared_error: 0.4811\n",
      "Epoch 8/100\n",
      "268/268 [==============================] - 1s 2ms/step - loss: 0.6533 - accuracy: 0.9698 - mse: 0.2301 - root_mean_squared_error: 0.4797\n",
      "Epoch 9/100\n",
      "268/268 [==============================] - 1s 2ms/step - loss: 0.6507 - accuracy: 0.9698 - mse: 0.2288 - root_mean_squared_error: 0.4783\n",
      "Epoch 10/100\n",
      "268/268 [==============================] - 1s 2ms/step - loss: 0.6483 - accuracy: 0.9698 - mse: 0.2276 - root_mean_squared_error: 0.4771\n",
      "Epoch 11/100\n",
      "268/268 [==============================] - 1s 2ms/step - loss: 0.6461 - accuracy: 0.9698 - mse: 0.2265 - root_mean_squared_error: 0.4759\n",
      "Epoch 12/100\n",
      "268/268 [==============================] - 1s 2ms/step - loss: 0.6439 - accuracy: 0.9698 - mse: 0.2254 - root_mean_squared_error: 0.4748\n",
      "Epoch 13/100\n",
      "268/268 [==============================] - 1s 2ms/step - loss: 0.6419 - accuracy: 0.9698 - mse: 0.2244 - root_mean_squared_error: 0.4737\n",
      "Epoch 14/100\n",
      "268/268 [==============================] - 1s 2ms/step - loss: 0.6399 - accuracy: 0.9698 - mse: 0.2234 - root_mean_squared_error: 0.4726\n",
      "Epoch 15/100\n",
      "268/268 [==============================] - 1s 2ms/step - loss: 0.6380 - accuracy: 0.9698 - mse: 0.2225 - root_mean_squared_error: 0.4717\n",
      "Epoch 16/100\n",
      "268/268 [==============================] - 1s 2ms/step - loss: 0.6363 - accuracy: 0.9698 - mse: 0.2216 - root_mean_squared_error: 0.4707\n",
      "Epoch 17/100\n",
      "268/268 [==============================] - 1s 2ms/step - loss: 0.6344 - accuracy: 0.9698 - mse: 0.2207 - root_mean_squared_error: 0.4698\n",
      "Epoch 18/100\n",
      "268/268 [==============================] - 1s 2ms/step - loss: 0.6328 - accuracy: 0.9698 - mse: 0.2199 - root_mean_squared_error: 0.4689\n",
      "Epoch 19/100\n",
      "268/268 [==============================] - 1s 2ms/step - loss: 0.6311 - accuracy: 0.9698 - mse: 0.2190 - root_mean_squared_error: 0.4680\n",
      "Epoch 20/100\n",
      "268/268 [==============================] - 1s 2ms/step - loss: 0.6296 - accuracy: 0.9698 - mse: 0.2183 - root_mean_squared_error: 0.4672\n",
      "Epoch 21/100\n",
      "268/268 [==============================] - 1s 2ms/step - loss: 0.6280 - accuracy: 0.9698 - mse: 0.2175 - root_mean_squared_error: 0.4664\n",
      "Epoch 22/100\n",
      "268/268 [==============================] - 1s 2ms/step - loss: 0.6266 - accuracy: 0.9698 - mse: 0.2168 - root_mean_squared_error: 0.4656\n",
      "Epoch 23/100\n",
      "268/268 [==============================] - 1s 2ms/step - loss: 0.6250 - accuracy: 0.9698 - mse: 0.2160 - root_mean_squared_error: 0.4648\n",
      "Epoch 24/100\n",
      "268/268 [==============================] - 1s 2ms/step - loss: 0.6236 - accuracy: 0.9698 - mse: 0.2153 - root_mean_squared_error: 0.4640\n",
      "Epoch 25/100\n",
      "268/268 [==============================] - 1s 2ms/step - loss: 0.6222 - accuracy: 0.9698 - mse: 0.2146 - root_mean_squared_error: 0.4632\n",
      "Epoch 26/100\n",
      "268/268 [==============================] - 1s 2ms/step - loss: 0.6209 - accuracy: 0.9698 - mse: 0.2139 - root_mean_squared_error: 0.4625\n",
      "Epoch 27/100\n",
      "268/268 [==============================] - 1s 2ms/step - loss: 0.6195 - accuracy: 0.9698 - mse: 0.2133 - root_mean_squared_error: 0.4618\n",
      "Epoch 28/100\n",
      "268/268 [==============================] - 1s 2ms/step - loss: 0.6182 - accuracy: 0.9698 - mse: 0.2126 - root_mean_squared_error: 0.4611\n",
      "Epoch 29/100\n",
      "268/268 [==============================] - 1s 2ms/step - loss: 0.6169 - accuracy: 0.9698 - mse: 0.2120 - root_mean_squared_error: 0.4604\n",
      "Epoch 30/100\n",
      "268/268 [==============================] - 1s 2ms/step - loss: 0.6156 - accuracy: 0.9698 - mse: 0.2113 - root_mean_squared_error: 0.4597\n",
      "Epoch 31/100\n",
      "268/268 [==============================] - 1s 2ms/step - loss: 0.6144 - accuracy: 0.9698 - mse: 0.2107 - root_mean_squared_error: 0.4591\n",
      "Epoch 32/100\n",
      "268/268 [==============================] - 1s 2ms/step - loss: 0.6132 - accuracy: 0.9698 - mse: 0.2101 - root_mean_squared_error: 0.4584\n",
      "Epoch 33/100\n",
      "268/268 [==============================] - 1s 2ms/step - loss: 0.6120 - accuracy: 0.9698 - mse: 0.2095 - root_mean_squared_error: 0.4578\n",
      "Epoch 34/100\n",
      "268/268 [==============================] - 1s 2ms/step - loss: 0.6109 - accuracy: 0.9698 - mse: 0.2090 - root_mean_squared_error: 0.4571\n",
      "Epoch 35/100\n",
      "268/268 [==============================] - 1s 2ms/step - loss: 0.6097 - accuracy: 0.9698 - mse: 0.2084 - root_mean_squared_error: 0.4565\n",
      "Epoch 36/100\n",
      "268/268 [==============================] - 1s 2ms/step - loss: 0.6086 - accuracy: 0.9698 - mse: 0.2078 - root_mean_squared_error: 0.4559\n",
      "Epoch 37/100\n",
      "268/268 [==============================] - 1s 2ms/step - loss: 0.6075 - accuracy: 0.9698 - mse: 0.2073 - root_mean_squared_error: 0.4553\n",
      "Epoch 38/100\n",
      "268/268 [==============================] - 1s 2ms/step - loss: 0.6064 - accuracy: 0.9698 - mse: 0.2068 - root_mean_squared_error: 0.4547\n",
      "Epoch 39/100\n",
      "268/268 [==============================] - 1s 2ms/step - loss: 0.6053 - accuracy: 0.9698 - mse: 0.2062 - root_mean_squared_error: 0.4541\n",
      "Epoch 40/100\n",
      "268/268 [==============================] - 1s 2ms/step - loss: 0.6042 - accuracy: 0.9698 - mse: 0.2057 - root_mean_squared_error: 0.4535\n",
      "Epoch 41/100\n",
      "268/268 [==============================] - 1s 2ms/step - loss: 0.6032 - accuracy: 0.9698 - mse: 0.2052 - root_mean_squared_error: 0.4530\n",
      "Epoch 42/100\n",
      "268/268 [==============================] - 1s 2ms/step - loss: 0.6022 - accuracy: 0.9698 - mse: 0.2047 - root_mean_squared_error: 0.4524\n",
      "Epoch 43/100\n",
      "268/268 [==============================] - 1s 2ms/step - loss: 0.6012 - accuracy: 0.9698 - mse: 0.2042 - root_mean_squared_error: 0.4519\n",
      "Epoch 44/100\n",
      "268/268 [==============================] - 1s 2ms/step - loss: 0.6001 - accuracy: 0.9698 - mse: 0.2037 - root_mean_squared_error: 0.4513\n",
      "Epoch 45/100\n",
      "268/268 [==============================] - 1s 2ms/step - loss: 0.5992 - accuracy: 0.9698 - mse: 0.2032 - root_mean_squared_error: 0.4508\n",
      "Epoch 46/100\n",
      "268/268 [==============================] - 1s 2ms/step - loss: 0.5982 - accuracy: 0.9698 - mse: 0.2027 - root_mean_squared_error: 0.4502\n",
      "Epoch 47/100\n",
      "268/268 [==============================] - 1s 2ms/step - loss: 0.5973 - accuracy: 0.9698 - mse: 0.2022 - root_mean_squared_error: 0.4497\n",
      "Epoch 48/100\n",
      "268/268 [==============================] - 1s 2ms/step - loss: 0.5963 - accuracy: 0.9698 - mse: 0.2018 - root_mean_squared_error: 0.4492\n",
      "Epoch 49/100\n",
      "268/268 [==============================] - 1s 2ms/step - loss: 0.5954 - accuracy: 0.9698 - mse: 0.2013 - root_mean_squared_error: 0.4487\n",
      "Epoch 50/100\n",
      "268/268 [==============================] - 1s 2ms/step - loss: 0.5944 - accuracy: 0.9698 - mse: 0.2008 - root_mean_squared_error: 0.4481\n",
      "Epoch 51/100\n",
      "268/268 [==============================] - ETA: 0s - loss: 0.5935 - accuracy: 0.9700 - mse: 0.2004 - root_mean_squared_error: 0.44 - 1s 2ms/step - loss: 0.5935 - accuracy: 0.9698 - mse: 0.2004 - root_mean_squared_error: 0.4476\n",
      "Epoch 52/100\n",
      "268/268 [==============================] - 1s 2ms/step - loss: 0.5926 - accuracy: 0.9698 - mse: 0.1999 - root_mean_squared_error: 0.4471\n",
      "Epoch 53/100\n",
      "268/268 [==============================] - 1s 2ms/step - loss: 0.5917 - accuracy: 0.9698 - mse: 0.1995 - root_mean_squared_error: 0.4467\n",
      "Epoch 54/100\n",
      "268/268 [==============================] - 1s 2ms/step - loss: 0.5908 - accuracy: 0.9698 - mse: 0.1991 - root_mean_squared_error: 0.4462\n",
      "Epoch 55/100\n",
      "268/268 [==============================] - 1s 2ms/step - loss: 0.5900 - accuracy: 0.9698 - mse: 0.1986 - root_mean_squared_error: 0.4457\n",
      "Epoch 56/100\n",
      "268/268 [==============================] - 1s 2ms/step - loss: 0.5890 - accuracy: 0.9698 - mse: 0.1982 - root_mean_squared_error: 0.4452\n",
      "Epoch 57/100\n",
      "268/268 [==============================] - 1s 2ms/step - loss: 0.5882 - accuracy: 0.9698 - mse: 0.1978 - root_mean_squared_error: 0.4447\n",
      "Epoch 58/100\n",
      "268/268 [==============================] - 1s 2ms/step - loss: 0.5874 - accuracy: 0.9698 - mse: 0.1974 - root_mean_squared_error: 0.4442\n",
      "Epoch 59/100\n",
      "268/268 [==============================] - 1s 2ms/step - loss: 0.5865 - accuracy: 0.9698 - mse: 0.1969 - root_mean_squared_error: 0.4438\n",
      "Epoch 60/100\n",
      "268/268 [==============================] - 1s 2ms/step - loss: 0.5857 - accuracy: 0.9698 - mse: 0.1965 - root_mean_squared_error: 0.4433\n",
      "Epoch 61/100\n",
      "268/268 [==============================] - 1s 2ms/step - loss: 0.5849 - accuracy: 0.9698 - mse: 0.1961 - root_mean_squared_error: 0.4429\n",
      "Epoch 62/100\n",
      "268/268 [==============================] - 1s 2ms/step - loss: 0.5841 - accuracy: 0.9698 - mse: 0.1957 - root_mean_squared_error: 0.4424\n",
      "Epoch 63/100\n",
      "268/268 [==============================] - 1s 2ms/step - loss: 0.5832 - accuracy: 0.9698 - mse: 0.1953 - root_mean_squared_error: 0.4420\n",
      "Epoch 64/100\n",
      "268/268 [==============================] - 1s 2ms/step - loss: 0.5825 - accuracy: 0.9698 - mse: 0.1949 - root_mean_squared_error: 0.4415\n",
      "Epoch 65/100\n",
      "268/268 [==============================] - 1s 2ms/step - loss: 0.5816 - accuracy: 0.9698 - mse: 0.1945 - root_mean_squared_error: 0.4411\n",
      "Epoch 66/100\n",
      "268/268 [==============================] - 1s 2ms/step - loss: 0.5809 - accuracy: 0.9698 - mse: 0.1942 - root_mean_squared_error: 0.4407\n",
      "Epoch 67/100\n",
      "268/268 [==============================] - 1s 2ms/step - loss: 0.5801 - accuracy: 0.9698 - mse: 0.1938 - root_mean_squared_error: 0.4402\n",
      "Epoch 68/100\n",
      "268/268 [==============================] - 1s 2ms/step - loss: 0.5793 - accuracy: 0.9698 - mse: 0.1934 - root_mean_squared_error: 0.4398\n",
      "Epoch 69/100\n",
      "268/268 [==============================] - 1s 2ms/step - loss: 0.5786 - accuracy: 0.9698 - mse: 0.1930 - root_mean_squared_error: 0.4393\n",
      "Epoch 70/100\n",
      "268/268 [==============================] - 1s 2ms/step - loss: 0.5778 - accuracy: 0.9698 - mse: 0.1927 - root_mean_squared_error: 0.4389\n",
      "Epoch 71/100\n",
      "268/268 [==============================] - 1s 2ms/step - loss: 0.5771 - accuracy: 0.9698 - mse: 0.1923 - root_mean_squared_error: 0.4385\n",
      "Epoch 72/100\n",
      "268/268 [==============================] - 1s 2ms/step - loss: 0.5763 - accuracy: 0.9698 - mse: 0.1919 - root_mean_squared_error: 0.4381\n",
      "Epoch 73/100\n",
      "268/268 [==============================] - 1s 2ms/step - loss: 0.5756 - accuracy: 0.9698 - mse: 0.1916 - root_mean_squared_error: 0.4377\n",
      "Epoch 74/100\n",
      "268/268 [==============================] - 1s 2ms/step - loss: 0.5749 - accuracy: 0.9698 - mse: 0.1912 - root_mean_squared_error: 0.4373\n",
      "Epoch 75/100\n",
      "268/268 [==============================] - 1s 2ms/step - loss: 0.5741 - accuracy: 0.9698 - mse: 0.1908 - root_mean_squared_error: 0.4369\n",
      "Epoch 76/100\n",
      "268/268 [==============================] - 1s 2ms/step - loss: 0.5734 - accuracy: 0.9698 - mse: 0.1905 - root_mean_squared_error: 0.4364\n",
      "Epoch 77/100\n",
      "268/268 [==============================] - 1s 2ms/step - loss: 0.5727 - accuracy: 0.9698 - mse: 0.1901 - root_mean_squared_error: 0.4361\n",
      "Epoch 78/100\n",
      "268/268 [==============================] - 1s 2ms/step - loss: 0.5720 - accuracy: 0.9698 - mse: 0.1898 - root_mean_squared_error: 0.4357\n",
      "Epoch 79/100\n",
      "268/268 [==============================] - 1s 2ms/step - loss: 0.5713 - accuracy: 0.9698 - mse: 0.1895 - root_mean_squared_error: 0.4353\n",
      "Epoch 80/100\n",
      "268/268 [==============================] - 1s 2ms/step - loss: 0.5706 - accuracy: 0.9698 - mse: 0.1891 - root_mean_squared_error: 0.4349\n",
      "Epoch 81/100\n",
      "268/268 [==============================] - 1s 2ms/step - loss: 0.5699 - accuracy: 0.9698 - mse: 0.1888 - root_mean_squared_error: 0.4345\n",
      "Epoch 82/100\n",
      "268/268 [==============================] - 1s 2ms/step - loss: 0.5692 - accuracy: 0.9698 - mse: 0.1884 - root_mean_squared_error: 0.4341\n",
      "Epoch 83/100\n",
      "268/268 [==============================] - 1s 2ms/step - loss: 0.5685 - accuracy: 0.9698 - mse: 0.1881 - root_mean_squared_error: 0.4337\n",
      "Epoch 84/100\n",
      "268/268 [==============================] - 1s 2ms/step - loss: 0.5679 - accuracy: 0.9698 - mse: 0.1878 - root_mean_squared_error: 0.4333\n",
      "Epoch 85/100\n",
      "268/268 [==============================] - 1s 2ms/step - loss: 0.5672 - accuracy: 0.9698 - mse: 0.1875 - root_mean_squared_error: 0.4330\n",
      "Epoch 86/100\n",
      "268/268 [==============================] - 1s 2ms/step - loss: 0.5665 - accuracy: 0.9698 - mse: 0.1871 - root_mean_squared_error: 0.4326\n",
      "Epoch 87/100\n",
      "268/268 [==============================] - 1s 2ms/step - loss: 0.5659 - accuracy: 0.9698 - mse: 0.1868 - root_mean_squared_error: 0.4322\n",
      "Epoch 88/100\n",
      "268/268 [==============================] - 1s 2ms/step - loss: 0.5652 - accuracy: 0.9698 - mse: 0.1865 - root_mean_squared_error: 0.4318\n",
      "Epoch 89/100\n",
      "268/268 [==============================] - 1s 2ms/step - loss: 0.5646 - accuracy: 0.9698 - mse: 0.1862 - root_mean_squared_error: 0.4315\n",
      "Epoch 90/100\n",
      "268/268 [==============================] - 1s 2ms/step - loss: 0.5640 - accuracy: 0.9698 - mse: 0.1859 - root_mean_squared_error: 0.4311\n",
      "Epoch 91/100\n",
      "268/268 [==============================] - 1s 2ms/step - loss: 0.5633 - accuracy: 0.9698 - mse: 0.1855 - root_mean_squared_error: 0.4307\n",
      "Epoch 92/100\n",
      "268/268 [==============================] - 1s 2ms/step - loss: 0.5626 - accuracy: 0.9698 - mse: 0.1852 - root_mean_squared_error: 0.4304\n",
      "Epoch 93/100\n",
      "268/268 [==============================] - 1s 2ms/step - loss: 0.5620 - accuracy: 0.9698 - mse: 0.1849 - root_mean_squared_error: 0.4300\n",
      "Epoch 94/100\n",
      "268/268 [==============================] - 1s 2ms/step - loss: 0.5614 - accuracy: 0.9698 - mse: 0.1846 - root_mean_squared_error: 0.4296\n",
      "Epoch 95/100\n",
      "268/268 [==============================] - 1s 2ms/step - loss: 0.5607 - accuracy: 0.9698 - mse: 0.1843 - root_mean_squared_error: 0.4293\n",
      "Epoch 96/100\n",
      "268/268 [==============================] - 1s 2ms/step - loss: 0.5601 - accuracy: 0.9698 - mse: 0.1840 - root_mean_squared_error: 0.4289\n",
      "Epoch 97/100\n",
      "268/268 [==============================] - 1s 2ms/step - loss: 0.5595 - accuracy: 0.9698 - mse: 0.1837 - root_mean_squared_error: 0.4286\n",
      "Epoch 98/100\n",
      "268/268 [==============================] - 1s 2ms/step - loss: 0.5589 - accuracy: 0.9698 - mse: 0.1834 - root_mean_squared_error: 0.4282\n",
      "Epoch 99/100\n",
      "268/268 [==============================] - 1s 2ms/step - loss: 0.5583 - accuracy: 0.9698 - mse: 0.1831 - root_mean_squared_error: 0.4279\n",
      "Epoch 100/100\n",
      "268/268 [==============================] - 1s 2ms/step - loss: 0.5577 - accuracy: 0.9698 - mse: 0.1828 - root_mean_squared_error: 0.4276\n"
     ]
    }
   ],
   "source": [
    "history = model.fit(x_train, y_train, batch_size=200, epochs=100)"
   ]
  },
  {
   "cell_type": "code",
   "execution_count": 20,
   "metadata": {},
   "outputs": [
    {
     "data": {
      "image/png": "[encoded data removed]",
      "text/plain": [
       "<Figure size 432x288 with 1 Axes>"
      ]
     },
     "metadata": {
      "needs_background": "light"
     },
     "output_type": "display_data"
    }
   ],
   "source": [
    "import matplotlib.pyplot as plt\n",
    "\n",
    "# summarize history for accuracy\n",
    "plt.plot(history.history['mse'])\n",
    "# plt.plot(history.history['loss'])\n",
    "plt.title('model accuracy')\n",
    "plt.ylabel('loss')\n",
    "plt.xlabel('epoch')\n",
    "plt.legend(['rmse'], loc='upper left')\n",
    "plt.show()"
   ]
  },
  {
   "cell_type": "code",
   "execution_count": null,
   "metadata": {},
   "outputs": [],
   "source": []
  }
 ],
 "metadata": {
  "kernelspec": {
   "display_name": "Python 3",
   "language": "python",
   "name": "python3"
  },
  "language_info": {
   "codemirror_mode": {
    "name": "ipython",
    "version": 3
   },
   "file_extension": ".py",
   "mimetype": "text/x-python",
   "name": "python",
   "nbconvert_exporter": "python",
   "pygments_lexer": "ipython3",
   "version": "3.6.8"
  }
 },
 "nbformat": 4,
 "nbformat_minor": 4
}
