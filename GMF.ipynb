{
 "cells": [
  {
   "cell_type": "code",
   "execution_count": 1,
   "metadata": {},
   "outputs": [],
   "source": [
    "import pandas as pd\n",
    "import numpy as np\n",
    "import tensorflow as tf\n",
    "from tensorflow import keras"
   ]
  },
  {
   "cell_type": "code",
   "execution_count": 2,
   "metadata": {},
   "outputs": [],
   "source": [
    "import warnings\n",
    "warnings.filterwarnings('ignore')"
   ]
  },
  {
   "cell_type": "code",
   "execution_count": 3,
   "metadata": {},
   "outputs": [],
   "source": [
    "df = pd.read_csv('ijcai2016_taobao_1.csv', sep=r',', engine='python')"
   ]
  },
  {
   "cell_type": "code",
   "execution_count": 4,
   "metadata": {},
   "outputs": [
    {
     "data": {
      "text/html": [
       "<div>\n",
       "<style scoped>\n",
       "    .dataframe tbody tr th:only-of-type {\n",
       "        vertical-align: middle;\n",
       "    }\n",
       "\n",
       "    .dataframe tbody tr th {\n",
       "        vertical-align: top;\n",
       "    }\n",
       "\n",
       "    .dataframe thead th {\n",
       "        text-align: right;\n",
       "    }\n",
       "</style>\n",
       "<table border=\"1\" class=\"dataframe\">\n",
       "  <thead>\n",
       "    <tr style=\"text-align: right;\">\n",
       "      <th></th>\n",
       "      <th>use_ID</th>\n",
       "      <th>sel_ID</th>\n",
       "      <th>ite_ID</th>\n",
       "      <th>cat_ID</th>\n",
       "      <th>act_ID</th>\n",
       "      <th>time</th>\n",
       "    </tr>\n",
       "  </thead>\n",
       "  <tbody>\n",
       "    <tr>\n",
       "      <th>0</th>\n",
       "      <td>1980536</td>\n",
       "      <td>9666</td>\n",
       "      <td>1450952</td>\n",
       "      <td>1</td>\n",
       "      <td>0</td>\n",
       "      <td>20150826</td>\n",
       "    </tr>\n",
       "    <tr>\n",
       "      <th>1</th>\n",
       "      <td>1980536</td>\n",
       "      <td>9666</td>\n",
       "      <td>1450952</td>\n",
       "      <td>1</td>\n",
       "      <td>0</td>\n",
       "      <td>20150826</td>\n",
       "    </tr>\n",
       "    <tr>\n",
       "      <th>2</th>\n",
       "      <td>647747</td>\n",
       "      <td>9666</td>\n",
       "      <td>1450952</td>\n",
       "      <td>1</td>\n",
       "      <td>0</td>\n",
       "      <td>20150915</td>\n",
       "    </tr>\n",
       "    <tr>\n",
       "      <th>3</th>\n",
       "      <td>1980536</td>\n",
       "      <td>9666</td>\n",
       "      <td>1450952</td>\n",
       "      <td>1</td>\n",
       "      <td>0</td>\n",
       "      <td>20150823</td>\n",
       "    </tr>\n",
       "    <tr>\n",
       "      <th>4</th>\n",
       "      <td>183647</td>\n",
       "      <td>9525</td>\n",
       "      <td>578730</td>\n",
       "      <td>1</td>\n",
       "      <td>0</td>\n",
       "      <td>20150711</td>\n",
       "    </tr>\n",
       "  </tbody>\n",
       "</table>\n",
       "</div>"
      ],
      "text/plain": [
       "    use_ID  sel_ID   ite_ID  cat_ID  act_ID      time\n",
       "0  1980536    9666  1450952       1       0  20150826\n",
       "1  1980536    9666  1450952       1       0  20150826\n",
       "2   647747    9666  1450952       1       0  20150915\n",
       "3  1980536    9666  1450952       1       0  20150823\n",
       "4   183647    9525   578730       1       0  20150711"
      ]
     },
     "execution_count": 4,
     "metadata": {},
     "output_type": "execute_result"
    }
   ],
   "source": [
    "df.head()"
   ]
  },
  {
   "cell_type": "code",
   "execution_count": 5,
   "metadata": {},
   "outputs": [
    {
     "data": {
      "text/html": [
       "<div>\n",
       "<style scoped>\n",
       "    .dataframe tbody tr th:only-of-type {\n",
       "        vertical-align: middle;\n",
       "    }\n",
       "\n",
       "    .dataframe tbody tr th {\n",
       "        vertical-align: top;\n",
       "    }\n",
       "\n",
       "    .dataframe thead th {\n",
       "        text-align: right;\n",
       "    }\n",
       "</style>\n",
       "<table border=\"1\" class=\"dataframe\">\n",
       "  <thead>\n",
       "    <tr style=\"text-align: right;\">\n",
       "      <th></th>\n",
       "      <th>use_ID</th>\n",
       "      <th>sel_ID</th>\n",
       "      <th>ite_ID</th>\n",
       "      <th>cat_ID</th>\n",
       "      <th>act_ID</th>\n",
       "      <th>time</th>\n",
       "    </tr>\n",
       "  </thead>\n",
       "  <tbody>\n",
       "    <tr>\n",
       "      <th>count</th>\n",
       "      <td>99999.0</td>\n",
       "      <td>99999.0</td>\n",
       "      <td>99999.0</td>\n",
       "      <td>99999.0</td>\n",
       "      <td>99999.0</td>\n",
       "      <td>99999.0</td>\n",
       "    </tr>\n",
       "    <tr>\n",
       "      <th>mean</th>\n",
       "      <td>1024665.8052680527</td>\n",
       "      <td>4550.214902149021</td>\n",
       "      <td>1203661.2412924129</td>\n",
       "      <td>1.0</td>\n",
       "      <td>0.1009310093100931</td>\n",
       "      <td>20150830.19217192</td>\n",
       "    </tr>\n",
       "    <tr>\n",
       "      <th>std</th>\n",
       "      <td>596919.0583544845</td>\n",
       "      <td>2805.703221327739</td>\n",
       "      <td>688457.0158119791</td>\n",
       "      <td>0.0</td>\n",
       "      <td>0.3012388556068006</td>\n",
       "      <td>116.58427140128536</td>\n",
       "    </tr>\n",
       "    <tr>\n",
       "      <th>min</th>\n",
       "      <td>13.0</td>\n",
       "      <td>60.0</td>\n",
       "      <td>2017.0</td>\n",
       "      <td>1.0</td>\n",
       "      <td>0.0</td>\n",
       "      <td>20150701.0</td>\n",
       "    </tr>\n",
       "    <tr>\n",
       "      <th>25%</th>\n",
       "      <td>505223.0</td>\n",
       "      <td>2258.0</td>\n",
       "      <td>594459.0</td>\n",
       "      <td>1.0</td>\n",
       "      <td>0.0</td>\n",
       "      <td>20150720.0</td>\n",
       "    </tr>\n",
       "    <tr>\n",
       "      <th>50%</th>\n",
       "      <td>1023194.0</td>\n",
       "      <td>4562.0</td>\n",
       "      <td>1250255.0</td>\n",
       "      <td>1.0</td>\n",
       "      <td>0.0</td>\n",
       "      <td>20150813.0</td>\n",
       "    </tr>\n",
       "    <tr>\n",
       "      <th>75%</th>\n",
       "      <td>1542806.0</td>\n",
       "      <td>6792.0</td>\n",
       "      <td>1784092.0</td>\n",
       "      <td>1.0</td>\n",
       "      <td>0.0</td>\n",
       "      <td>20150916.0</td>\n",
       "    </tr>\n",
       "    <tr>\n",
       "      <th>max</th>\n",
       "      <td>2063567.0</td>\n",
       "      <td>9995.0</td>\n",
       "      <td>2353171.0</td>\n",
       "      <td>1.0</td>\n",
       "      <td>1.0</td>\n",
       "      <td>20151130.0</td>\n",
       "    </tr>\n",
       "  </tbody>\n",
       "</table>\n",
       "</div>"
      ],
      "text/plain": [
       "                   use_ID             sel_ID              ite_ID   cat_ID  \\\n",
       "count             99999.0            99999.0             99999.0  99999.0   \n",
       "mean   1024665.8052680527  4550.214902149021  1203661.2412924129      1.0   \n",
       "std     596919.0583544845  2805.703221327739   688457.0158119791      0.0   \n",
       "min                  13.0               60.0              2017.0      1.0   \n",
       "25%              505223.0             2258.0            594459.0      1.0   \n",
       "50%             1023194.0             4562.0           1250255.0      1.0   \n",
       "75%             1542806.0             6792.0           1784092.0      1.0   \n",
       "max             2063567.0             9995.0           2353171.0      1.0   \n",
       "\n",
       "                   act_ID                time  \n",
       "count             99999.0             99999.0  \n",
       "mean   0.1009310093100931   20150830.19217192  \n",
       "std    0.3012388556068006  116.58427140128536  \n",
       "min                   0.0          20150701.0  \n",
       "25%                   0.0          20150720.0  \n",
       "50%                   0.0          20150813.0  \n",
       "75%                   0.0          20150916.0  \n",
       "max                   1.0          20151130.0  "
      ]
     },
     "execution_count": 5,
     "metadata": {},
     "output_type": "execute_result"
    }
   ],
   "source": [
    "df.describe().apply(lambda s: s.apply('{0}'.format))"
   ]
  },
  {
   "cell_type": "code",
   "execution_count": 6,
   "metadata": {},
   "outputs": [],
   "source": [
    "data_click = df[['use_ID', 'ite_ID', 'act_ID']].loc[df['act_ID'] == 0]\n",
    "data_click = data_click.drop_duplicates()"
   ]
  },
  {
   "cell_type": "code",
   "execution_count": 7,
   "metadata": {},
   "outputs": [],
   "source": [
    "data_buy = df[['use_ID', 'ite_ID', 'act_ID']].loc[df['act_ID'] == 1]\n",
    "data_buy = data_buy.drop_duplicates()"
   ]
  },
  {
   "cell_type": "code",
   "execution_count": 8,
   "metadata": {},
   "outputs": [
    {
     "data": {
      "text/html": [
       "<div>\n",
       "<style scoped>\n",
       "    .dataframe tbody tr th:only-of-type {\n",
       "        vertical-align: middle;\n",
       "    }\n",
       "\n",
       "    .dataframe tbody tr th {\n",
       "        vertical-align: top;\n",
       "    }\n",
       "\n",
       "    .dataframe thead th {\n",
       "        text-align: right;\n",
       "    }\n",
       "</style>\n",
       "<table border=\"1\" class=\"dataframe\">\n",
       "  <thead>\n",
       "    <tr style=\"text-align: right;\">\n",
       "      <th></th>\n",
       "      <th>use_ID</th>\n",
       "      <th>ite_ID</th>\n",
       "      <th>click</th>\n",
       "      <th>buy</th>\n",
       "    </tr>\n",
       "  </thead>\n",
       "  <tbody>\n",
       "    <tr>\n",
       "      <th>0</th>\n",
       "      <td>1980536</td>\n",
       "      <td>1450952</td>\n",
       "      <td>1</td>\n",
       "      <td>0.0</td>\n",
       "    </tr>\n",
       "    <tr>\n",
       "      <th>1</th>\n",
       "      <td>647747</td>\n",
       "      <td>1450952</td>\n",
       "      <td>1</td>\n",
       "      <td>0.0</td>\n",
       "    </tr>\n",
       "    <tr>\n",
       "      <th>2</th>\n",
       "      <td>183647</td>\n",
       "      <td>578730</td>\n",
       "      <td>1</td>\n",
       "      <td>0.0</td>\n",
       "    </tr>\n",
       "    <tr>\n",
       "      <th>3</th>\n",
       "      <td>723956</td>\n",
       "      <td>28301</td>\n",
       "      <td>1</td>\n",
       "      <td>0.0</td>\n",
       "    </tr>\n",
       "    <tr>\n",
       "      <th>4</th>\n",
       "      <td>1781938</td>\n",
       "      <td>28301</td>\n",
       "      <td>1</td>\n",
       "      <td>0.0</td>\n",
       "    </tr>\n",
       "  </tbody>\n",
       "</table>\n",
       "</div>"
      ],
      "text/plain": [
       "    use_ID   ite_ID  click  buy\n",
       "0  1980536  1450952      1  0.0\n",
       "1   647747  1450952      1  0.0\n",
       "2   183647   578730      1  0.0\n",
       "3   723956    28301      1  0.0\n",
       "4  1781938    28301      1  0.0"
      ]
     },
     "execution_count": 8,
     "metadata": {},
     "output_type": "execute_result"
    }
   ],
   "source": [
    "data_merge = pd.merge(data_click, data_buy, left_on=['use_ID','ite_ID'], right_on=['use_ID','ite_ID'], how = 'left')\n",
    "data_merge.columns = ['use_ID', 'ite_ID', 'click', 'buy']\n",
    "data_merge['click'] = data_merge['click'].replace(0, 1)\n",
    "data_merge['buy'] = data_merge['buy'].fillna(0)\n",
    "\n",
    "data_merge.head()"
   ]
  },
  {
   "cell_type": "code",
   "execution_count": 9,
   "metadata": {},
   "outputs": [
    {
     "data": {
      "text/plain": [
       "((66802, 3), (8391, 3), (66802, 4))"
      ]
     },
     "execution_count": 9,
     "metadata": {},
     "output_type": "execute_result"
    }
   ],
   "source": [
    "data_click.shape , data_buy.shape, data_merge.shape"
   ]
  },
  {
   "cell_type": "code",
   "execution_count": 10,
   "metadata": {},
   "outputs": [
    {
     "data": {
      "text/plain": [
       "((64808, 4), (1994, 4))"
      ]
     },
     "execution_count": 10,
     "metadata": {},
     "output_type": "execute_result"
    }
   ],
   "source": [
    "data_merge.loc[data_merge['buy'] == 0].shape, data_merge.loc[data_merge['buy'] == 1].shape"
   ]
  },
  {
   "cell_type": "code",
   "execution_count": 11,
   "metadata": {},
   "outputs": [],
   "source": [
    "msk = np.random.rand(len(data_merge)) < 0.8\n",
    "train = data_merge[msk]\n",
    "test = data_merge[~msk]"
   ]
  },
  {
   "cell_type": "code",
   "execution_count": 12,
   "metadata": {},
   "outputs": [
    {
     "data": {
      "text/plain": [
       "((53346, 4), (13456, 4))"
      ]
     },
     "execution_count": 12,
     "metadata": {},
     "output_type": "execute_result"
    }
   ],
   "source": [
    "train.shape, test.shape"
   ]
  },
  {
   "cell_type": "code",
   "execution_count": 30,
   "metadata": {},
   "outputs": [
    {
     "data": {
      "text/plain": [
       "((53346, 2), (53346, 2), (13456, 2), (13456, 2))"
      ]
     },
     "execution_count": 30,
     "metadata": {},
     "output_type": "execute_result"
    }
   ],
   "source": [
    "x_train = train.iloc[:, 0:-2].values\n",
    "y_train = train.iloc[:,2:4].values\n",
    "\n",
    "# x_train = np.expand_dims(x_train, axis=1)\n",
    "# y_train = np.expand_dims(y_train, axis=1)\n",
    "\n",
    "x_test = test.iloc[:, 0:-2].values\n",
    "y_test = test.iloc[:,2:4].values\n",
    "\n",
    "# x_test = np.expand_dims(x_test, axis=1)\n",
    "# y_test = np.expand_dims(y_test, axis=1)\n",
    "\n",
    "x_train.shape, y_train.shape, x_test.shape, y_test.shape"
   ]
  },
  {
   "cell_type": "code",
   "execution_count": 14,
   "metadata": {},
   "outputs": [],
   "source": [
    "num_users = 2353171+1\n",
    "num_items = 2353171+1"
   ]
  },
  {
   "cell_type": "code",
   "execution_count": 15,
   "metadata": {},
   "outputs": [
    {
     "data": {
      "text/plain": [
       "(2353172, 2353172)"
      ]
     },
     "execution_count": 15,
     "metadata": {},
     "output_type": "execute_result"
    }
   ],
   "source": [
    "num_users, num_items"
   ]
  },
  {
   "cell_type": "code",
   "execution_count": 36,
   "metadata": {},
   "outputs": [],
   "source": [
    "from keras.layers import Embedding, Input, Dense, merge, Reshape, Flatten, Dropout\n",
    "from keras.regularizers import l2\n",
    "from keras.optimizers import Adagrad, Adam, SGD, RMSprop\n",
    "\n",
    "layers = [20,10]\n",
    "reg_layers=[0,0]\n",
    "num_layer = len(layers)\n",
    "learning_rate = 10e-4\n",
    "\n",
    "## Tạo lớp input kích thước (None, 32, 32, 1)\n",
    "inputs = tf.keras.layers.Input(shape=(2))\n",
    "\n",
    "Embedding_User = Embedding(\n",
    "    input_dim = num_users, \n",
    "    output_dim = 64, name = 'user_embedding',\n",
    "    embeddings_initializer = 'uniform', embeddings_regularizer = l2(reg_layers[0]), input_length=None, trainable=False)\n",
    "\n",
    "Embedding_Item = Embedding(\n",
    "    input_dim = num_items, \n",
    "    output_dim = 64, \n",
    "    name = 'item_embedding',\n",
    "    embeddings_initializer = 'uniform', embeddings_regularizer = l2(reg_layers[0]), input_length=None, trainable=False)\n",
    "\n",
    "user_embedding = Embedding_User(inputs[:,0])\n",
    "item_embedding = Embedding_Item(inputs[:,1])\n",
    "\n",
    "user_latent = Flatten(name = 'user_latent')(user_embedding)\n",
    "item_latent = Flatten(name = 'item_latent')(item_embedding)\n",
    "\n",
    "vector = tf.keras.layers.Multiply()([user_latent, item_latent])\n",
    "\n",
    "user_embedding2 = Embedding_User(inputs[:,0])\n",
    "item_embedding2 = Embedding_Item(inputs[:,1])\n",
    "\n",
    "user_latent2 = Flatten(name = 'user_latent2')(user_embedding2)\n",
    "item_latent2 = Flatten(name = 'item_latent2')(item_embedding2)\n",
    "\n",
    "vector2 = tf.keras.layers.Multiply()([user_latent2, item_latent2])\n",
    "\n",
    "# for idx in range(0, num_layer):\n",
    "#     layer = Dense(layers[idx], kernel_regularizer= l2(reg_layers[idx]), activation='relu', name = 'layer_1_%d' %idx)\n",
    "#     vector = layer(vector)\n",
    "\n",
    "click_prediction = Dense(1, activation='sigmoid',use_bias=True, \n",
    "                         kernel_initializer='lecun_uniform', \n",
    "                         name = 'click_prediction')(vector)\n",
    "\n",
    "buy_prediction = Dense(1, activation='sigmoid',use_bias=True, \n",
    "                         kernel_initializer='lecun_uniform', \n",
    "                         name = 'buy_prediction')(vector2)\n",
    "\n",
    "outputs = tf.concat([click_prediction, buy_prediction], -1)"
   ]
  },
  {
   "cell_type": "code",
   "execution_count": 37,
   "metadata": {},
   "outputs": [],
   "source": [
    "## Compile model\n",
    "# with strategy.scope():\n",
    "model = keras.models.Model(inputs=inputs, outputs=outputs)\n",
    "model.compile(optimizer=Adagrad(lr=learning_rate), loss='binary_crossentropy', \n",
    "              metrics=[\"accuracy\",\"mse\",tf.keras.metrics.RootMeanSquaredError()])"
   ]
  },
  {
   "cell_type": "code",
   "execution_count": 38,
   "metadata": {},
   "outputs": [
    {
     "name": "stdout",
     "output_type": "stream",
     "text": [
      "Model: \"model_2\"\n",
      "__________________________________________________________________________________________________\n",
      "Layer (type)                    Output Shape         Param #     Connected to                     \n",
      "==================================================================================================\n",
      "input_5 (InputLayer)            [(None, 2)]          0                                            \n",
      "__________________________________________________________________________________________________\n",
      "tf_op_layer_strided_slice_10 (T [(None,)]            0           input_5[0][0]                    \n",
      "__________________________________________________________________________________________________\n",
      "tf_op_layer_strided_slice_11 (T [(None,)]            0           input_5[0][0]                    \n",
      "__________________________________________________________________________________________________\n",
      "tf_op_layer_strided_slice_12 (T [(None,)]            0           input_5[0][0]                    \n",
      "__________________________________________________________________________________________________\n",
      "tf_op_layer_strided_slice_13 (T [(None,)]            0           input_5[0][0]                    \n",
      "__________________________________________________________________________________________________\n",
      "user_embedding (Embedding)      (None, 64)           150603008   tf_op_layer_strided_slice_10[0][0\n",
      "                                                                 tf_op_layer_strided_slice_12[0][0\n",
      "__________________________________________________________________________________________________\n",
      "item_embedding (Embedding)      (None, 64)           150603008   tf_op_layer_strided_slice_11[0][0\n",
      "                                                                 tf_op_layer_strided_slice_13[0][0\n",
      "__________________________________________________________________________________________________\n",
      "user_latent (Flatten)           (None, 64)           0           user_embedding[0][0]             \n",
      "__________________________________________________________________________________________________\n",
      "item_latent (Flatten)           (None, 64)           0           item_embedding[0][0]             \n",
      "__________________________________________________________________________________________________\n",
      "user_latent2 (Flatten)          (None, 64)           0           user_embedding[1][0]             \n",
      "__________________________________________________________________________________________________\n",
      "item_latent2 (Flatten)          (None, 64)           0           item_embedding[1][0]             \n",
      "__________________________________________________________________________________________________\n",
      "multiply_4 (Multiply)           (None, 64)           0           user_latent[0][0]                \n",
      "                                                                 item_latent[0][0]                \n",
      "__________________________________________________________________________________________________\n",
      "multiply_5 (Multiply)           (None, 64)           0           user_latent2[0][0]               \n",
      "                                                                 item_latent2[0][0]               \n",
      "__________________________________________________________________________________________________\n",
      "click_prediction (Dense)        (None, 1)            65          multiply_4[0][0]                 \n",
      "__________________________________________________________________________________________________\n",
      "buy_prediction (Dense)          (None, 1)            65          multiply_5[0][0]                 \n",
      "__________________________________________________________________________________________________\n",
      "tf_op_layer_concat_2 (TensorFlo [(None, 2)]          0           click_prediction[0][0]           \n",
      "                                                                 buy_prediction[0][0]             \n",
      "==================================================================================================\n",
      "Total params: 301,206,146\n",
      "Trainable params: 130\n",
      "Non-trainable params: 301,206,016\n",
      "__________________________________________________________________________________________________\n"
     ]
    }
   ],
   "source": [
    "model.summary()"
   ]
  },
  {
   "cell_type": "code",
   "execution_count": 39,
   "metadata": {},
   "outputs": [
    {
     "name": "stdout",
     "output_type": "stream",
     "text": [
      "Epoch 1/100\n",
      "267/267 [==============================] - 0s 740us/step - loss: 0.6840 - accuracy: 0.9974 - mse: 0.2454 - root_mean_squared_error: 0.4954\n",
      "Epoch 2/100\n",
      "267/267 [==============================] - 0s 736us/step - loss: 0.6755 - accuracy: 1.0000 - mse: 0.2412 - root_mean_squared_error: 0.4911\n",
      "Epoch 3/100\n",
      "267/267 [==============================] - 0s 736us/step - loss: 0.6700 - accuracy: 1.0000 - mse: 0.2384 - root_mean_squared_error: 0.4883\n",
      "Epoch 4/100\n",
      "267/267 [==============================] - 0s 740us/step - loss: 0.6655 - accuracy: 1.0000 - mse: 0.2362 - root_mean_squared_error: 0.4860\n",
      "Epoch 5/100\n",
      "267/267 [==============================] - 0s 738us/step - loss: 0.6617 - accuracy: 1.0000 - mse: 0.2343 - root_mean_squared_error: 0.4840\n",
      "Epoch 6/100\n",
      "267/267 [==============================] - 0s 735us/step - loss: 0.6583 - accuracy: 1.0000 - mse: 0.2326 - root_mean_squared_error: 0.4823\n",
      "Epoch 7/100\n",
      "267/267 [==============================] - 0s 705us/step - loss: 0.6553 - accuracy: 1.0000 - mse: 0.2311 - root_mean_squared_error: 0.4807\n",
      "Epoch 8/100\n",
      "267/267 [==============================] - 0s 715us/step - loss: 0.6525 - accuracy: 1.0000 - mse: 0.2297 - root_mean_squared_error: 0.4792\n",
      "Epoch 9/100\n",
      "267/267 [==============================] - 0s 710us/step - loss: 0.6498 - accuracy: 1.0000 - mse: 0.2284 - root_mean_squared_error: 0.4779\n",
      "Epoch 10/100\n",
      "267/267 [==============================] - 0s 706us/step - loss: 0.6474 - accuracy: 1.0000 - mse: 0.2271 - root_mean_squared_error: 0.4766\n",
      "Epoch 11/100\n",
      "267/267 [==============================] - 0s 710us/step - loss: 0.6450 - accuracy: 1.0000 - mse: 0.2260 - root_mean_squared_error: 0.4753\n",
      "Epoch 12/100\n",
      "267/267 [==============================] - 0s 713us/step - loss: 0.6428 - accuracy: 1.0000 - mse: 0.2249 - root_mean_squared_error: 0.4742\n",
      "Epoch 13/100\n",
      "267/267 [==============================] - 0s 725us/step - loss: 0.6407 - accuracy: 1.0000 - mse: 0.2238 - root_mean_squared_error: 0.4731\n",
      "Epoch 14/100\n",
      "267/267 [==============================] - 0s 743us/step - loss: 0.6387 - accuracy: 1.0000 - mse: 0.2228 - root_mean_squared_error: 0.4720\n",
      "Epoch 15/100\n",
      "267/267 [==============================] - 0s 708us/step - loss: 0.6367 - accuracy: 1.0000 - mse: 0.2218 - root_mean_squared_error: 0.4710\n",
      "Epoch 16/100\n",
      "267/267 [==============================] - 0s 710us/step - loss: 0.6348 - accuracy: 1.0000 - mse: 0.2209 - root_mean_squared_error: 0.4700\n",
      "Epoch 17/100\n",
      "267/267 [==============================] - 0s 710us/step - loss: 0.6330 - accuracy: 1.0000 - mse: 0.2200 - root_mean_squared_error: 0.4690\n",
      "Epoch 18/100\n",
      "267/267 [==============================] - 0s 710us/step - loss: 0.6313 - accuracy: 1.0000 - mse: 0.2191 - root_mean_squared_error: 0.4681\n",
      "Epoch 19/100\n",
      "267/267 [==============================] - 0s 710us/step - loss: 0.6296 - accuracy: 1.0000 - mse: 0.2183 - root_mean_squared_error: 0.4672\n",
      "Epoch 20/100\n",
      "267/267 [==============================] - 0s 717us/step - loss: 0.6279 - accuracy: 1.0000 - mse: 0.2174 - root_mean_squared_error: 0.4663\n",
      "Epoch 21/100\n",
      "267/267 [==============================] - 0s 721us/step - loss: 0.6263 - accuracy: 1.0000 - mse: 0.2167 - root_mean_squared_error: 0.4655\n",
      "Epoch 22/100\n",
      "267/267 [==============================] - 0s 716us/step - loss: 0.6248 - accuracy: 1.0000 - mse: 0.2159 - root_mean_squared_error: 0.4646\n",
      "Epoch 23/100\n",
      "267/267 [==============================] - 0s 717us/step - loss: 0.6233 - accuracy: 1.0000 - mse: 0.2151 - root_mean_squared_error: 0.4638\n",
      "Epoch 24/100\n",
      "267/267 [==============================] - 0s 721us/step - loss: 0.6218 - accuracy: 1.0000 - mse: 0.2144 - root_mean_squared_error: 0.4630\n",
      "Epoch 25/100\n",
      "267/267 [==============================] - 0s 713us/step - loss: 0.6203 - accuracy: 1.0000 - mse: 0.2137 - root_mean_squared_error: 0.4622\n",
      "Epoch 26/100\n",
      "267/267 [==============================] - 0s 736us/step - loss: 0.6189 - accuracy: 1.0000 - mse: 0.2130 - root_mean_squared_error: 0.4615\n",
      "Epoch 27/100\n",
      "267/267 [==============================] - 0s 758us/step - loss: 0.6175 - accuracy: 1.0000 - mse: 0.2123 - root_mean_squared_error: 0.4607\n",
      "Epoch 28/100\n",
      "267/267 [==============================] - 0s 784us/step - loss: 0.6162 - accuracy: 1.0000 - mse: 0.2116 - root_mean_squared_error: 0.4600\n",
      "Epoch 29/100\n",
      "267/267 [==============================] - 0s 668us/step - loss: 0.6149 - accuracy: 1.0000 - mse: 0.2109 - root_mean_squared_error: 0.4593\n",
      "Epoch 30/100\n",
      "267/267 [==============================] - 0s 615us/step - loss: 0.6136 - accuracy: 1.0000 - mse: 0.2103 - root_mean_squared_error: 0.4586\n",
      "Epoch 31/100\n",
      "267/267 [==============================] - 0s 652us/step - loss: 0.6123 - accuracy: 1.0000 - mse: 0.2097 - root_mean_squared_error: 0.4579\n",
      "Epoch 32/100\n",
      "267/267 [==============================] - 0s 699us/step - loss: 0.6110 - accuracy: 1.0000 - mse: 0.2090 - root_mean_squared_error: 0.4572\n",
      "Epoch 33/100\n",
      "267/267 [==============================] - 0s 661us/step - loss: 0.6098 - accuracy: 1.0000 - mse: 0.2084 - root_mean_squared_error: 0.4566\n",
      "Epoch 34/100\n",
      "267/267 [==============================] - 0s 650us/step - loss: 0.6086 - accuracy: 1.0000 - mse: 0.2078 - root_mean_squared_error: 0.4559\n",
      "Epoch 35/100\n",
      "267/267 [==============================] - 0s 672us/step - loss: 0.6074 - accuracy: 1.0000 - mse: 0.2073 - root_mean_squared_error: 0.4552\n",
      "Epoch 36/100\n",
      "267/267 [==============================] - 0s 639us/step - loss: 0.6062 - accuracy: 1.0000 - mse: 0.2067 - root_mean_squared_error: 0.4546\n",
      "Epoch 37/100\n",
      "267/267 [==============================] - 0s 646us/step - loss: 0.6051 - accuracy: 1.0000 - mse: 0.2061 - root_mean_squared_error: 0.4540\n",
      "Epoch 38/100\n",
      "267/267 [==============================] - 0s 652us/step - loss: 0.6040 - accuracy: 1.0000 - mse: 0.2055 - root_mean_squared_error: 0.4534\n",
      "Epoch 39/100\n",
      "267/267 [==============================] - 0s 739us/step - loss: 0.6028 - accuracy: 1.0000 - mse: 0.2050 - root_mean_squared_error: 0.4528\n",
      "Epoch 40/100\n",
      "267/267 [==============================] - 0s 712us/step - loss: 0.6017 - accuracy: 1.0000 - mse: 0.2044 - root_mean_squared_error: 0.4522\n",
      "Epoch 41/100\n",
      "267/267 [==============================] - 0s 740us/step - loss: 0.6007 - accuracy: 1.0000 - mse: 0.2039 - root_mean_squared_error: 0.4516\n",
      "Epoch 42/100\n",
      "267/267 [==============================] - 0s 702us/step - loss: 0.5996 - accuracy: 1.0000 - mse: 0.2034 - root_mean_squared_error: 0.4510\n",
      "Epoch 43/100\n",
      "267/267 [==============================] - 0s 773us/step - loss: 0.5985 - accuracy: 1.0000 - mse: 0.2029 - root_mean_squared_error: 0.4504\n",
      "Epoch 44/100\n",
      "267/267 [==============================] - 0s 710us/step - loss: 0.5975 - accuracy: 1.0000 - mse: 0.2023 - root_mean_squared_error: 0.4498\n",
      "Epoch 45/100\n",
      "267/267 [==============================] - 0s 634us/step - loss: 0.5965 - accuracy: 1.0000 - mse: 0.2018 - root_mean_squared_error: 0.4493\n",
      "Epoch 46/100\n",
      "267/267 [==============================] - 0s 649us/step - loss: 0.5955 - accuracy: 1.0000 - mse: 0.2013 - root_mean_squared_error: 0.4487\n",
      "Epoch 47/100\n",
      "267/267 [==============================] - 0s 652us/step - loss: 0.5945 - accuracy: 1.0000 - mse: 0.2008 - root_mean_squared_error: 0.4482\n",
      "Epoch 48/100\n",
      "267/267 [==============================] - 0s 659us/step - loss: 0.5935 - accuracy: 1.0000 - mse: 0.2004 - root_mean_squared_error: 0.4476\n",
      "Epoch 49/100\n",
      "267/267 [==============================] - 0s 665us/step - loss: 0.5925 - accuracy: 1.0000 - mse: 0.1999 - root_mean_squared_error: 0.4471\n",
      "Epoch 50/100\n",
      "267/267 [==============================] - 0s 665us/step - loss: 0.5916 - accuracy: 1.0000 - mse: 0.1994 - root_mean_squared_error: 0.4465\n",
      "Epoch 51/100\n",
      "267/267 [==============================] - 0s 665us/step - loss: 0.5906 - accuracy: 1.0000 - mse: 0.1989 - root_mean_squared_error: 0.4460\n",
      "Epoch 52/100\n",
      "267/267 [==============================] - 0s 661us/step - loss: 0.5897 - accuracy: 1.0000 - mse: 0.1985 - root_mean_squared_error: 0.4455\n",
      "Epoch 53/100\n",
      "267/267 [==============================] - 0s 657us/step - loss: 0.5887 - accuracy: 1.0000 - mse: 0.1980 - root_mean_squared_error: 0.4450\n",
      "Epoch 54/100\n",
      "267/267 [==============================] - 0s 665us/step - loss: 0.5878 - accuracy: 1.0000 - mse: 0.1976 - root_mean_squared_error: 0.4445\n",
      "Epoch 55/100\n",
      "267/267 [==============================] - 0s 672us/step - loss: 0.5869 - accuracy: 1.0000 - mse: 0.1971 - root_mean_squared_error: 0.4440\n",
      "Epoch 56/100\n",
      "267/267 [==============================] - 0s 634us/step - loss: 0.5860 - accuracy: 1.0000 - mse: 0.1967 - root_mean_squared_error: 0.4435\n",
      "Epoch 57/100\n",
      "267/267 [==============================] - 0s 649us/step - loss: 0.5851 - accuracy: 1.0000 - mse: 0.1962 - root_mean_squared_error: 0.4430\n",
      "Epoch 58/100\n",
      "267/267 [==============================] - 0s 665us/step - loss: 0.5842 - accuracy: 1.0000 - mse: 0.1958 - root_mean_squared_error: 0.4425\n",
      "Epoch 59/100\n",
      "267/267 [==============================] - 0s 661us/step - loss: 0.5834 - accuracy: 1.0000 - mse: 0.1954 - root_mean_squared_error: 0.4420\n",
      "Epoch 60/100\n",
      "267/267 [==============================] - 0s 680us/step - loss: 0.5825 - accuracy: 1.0000 - mse: 0.1949 - root_mean_squared_error: 0.4415\n",
      "Epoch 61/100\n",
      "267/267 [==============================] - 0s 672us/step - loss: 0.5817 - accuracy: 1.0000 - mse: 0.1945 - root_mean_squared_error: 0.4410\n",
      "Epoch 62/100\n",
      "267/267 [==============================] - 0s 639us/step - loss: 0.5808 - accuracy: 1.0000 - mse: 0.1941 - root_mean_squared_error: 0.4406\n",
      "Epoch 63/100\n",
      "267/267 [==============================] - 0s 693us/step - loss: 0.5800 - accuracy: 1.0000 - mse: 0.1937 - root_mean_squared_error: 0.4401\n",
      "Epoch 64/100\n",
      "267/267 [==============================] - 0s 675us/step - loss: 0.5791 - accuracy: 1.0000 - mse: 0.1933 - root_mean_squared_error: 0.4396\n",
      "Epoch 65/100\n",
      "267/267 [==============================] - 0s 645us/step - loss: 0.5783 - accuracy: 1.0000 - mse: 0.1929 - root_mean_squared_error: 0.4392\n",
      "Epoch 66/100\n",
      "267/267 [==============================] - 0s 685us/step - loss: 0.5775 - accuracy: 1.0000 - mse: 0.1925 - root_mean_squared_error: 0.4387\n",
      "Epoch 67/100\n",
      "267/267 [==============================] - 0s 661us/step - loss: 0.5767 - accuracy: 1.0000 - mse: 0.1921 - root_mean_squared_error: 0.4383\n",
      "Epoch 68/100\n",
      "267/267 [==============================] - 0s 687us/step - loss: 0.5759 - accuracy: 1.0000 - mse: 0.1917 - root_mean_squared_error: 0.4378\n",
      "Epoch 69/100\n",
      "267/267 [==============================] - 0s 665us/step - loss: 0.5751 - accuracy: 1.0000 - mse: 0.1913 - root_mean_squared_error: 0.4374\n",
      "Epoch 70/100\n",
      "267/267 [==============================] - 0s 725us/step - loss: 0.5743 - accuracy: 1.0000 - mse: 0.1909 - root_mean_squared_error: 0.4369\n",
      "Epoch 71/100\n",
      "267/267 [==============================] - 0s 751us/step - loss: 0.5735 - accuracy: 1.0000 - mse: 0.1905 - root_mean_squared_error: 0.4365\n",
      "Epoch 72/100\n",
      "267/267 [==============================] - 0s 702us/step - loss: 0.5728 - accuracy: 1.0000 - mse: 0.1902 - root_mean_squared_error: 0.4361\n",
      "Epoch 73/100\n",
      "267/267 [==============================] - 0s 702us/step - loss: 0.5720 - accuracy: 1.0000 - mse: 0.1898 - root_mean_squared_error: 0.4356\n",
      "Epoch 74/100\n",
      "267/267 [==============================] - 0s 650us/step - loss: 0.5713 - accuracy: 1.0000 - mse: 0.1894 - root_mean_squared_error: 0.4352\n",
      "Epoch 75/100\n",
      "267/267 [==============================] - 0s 620us/step - loss: 0.5705 - accuracy: 1.0000 - mse: 0.1890 - root_mean_squared_error: 0.4348\n",
      "Epoch 76/100\n",
      "267/267 [==============================] - 0s 661us/step - loss: 0.5698 - accuracy: 1.0000 - mse: 0.1887 - root_mean_squared_error: 0.4344\n",
      "Epoch 77/100\n",
      "267/267 [==============================] - 0s 642us/step - loss: 0.5690 - accuracy: 1.0000 - mse: 0.1883 - root_mean_squared_error: 0.4339\n",
      "Epoch 78/100\n",
      "267/267 [==============================] - 0s 654us/step - loss: 0.5683 - accuracy: 1.0000 - mse: 0.1879 - root_mean_squared_error: 0.4335\n",
      "Epoch 79/100\n",
      "267/267 [==============================] - 0s 664us/step - loss: 0.5676 - accuracy: 1.0000 - mse: 0.1876 - root_mean_squared_error: 0.4331\n",
      "Epoch 80/100\n",
      "267/267 [==============================] - 0s 676us/step - loss: 0.5668 - accuracy: 1.0000 - mse: 0.1872 - root_mean_squared_error: 0.4327\n",
      "Epoch 81/100\n",
      "267/267 [==============================] - 0s 654us/step - loss: 0.5661 - accuracy: 1.0000 - mse: 0.1869 - root_mean_squared_error: 0.4323\n",
      "Epoch 82/100\n",
      "267/267 [==============================] - 0s 631us/step - loss: 0.5654 - accuracy: 1.0000 - mse: 0.1865 - root_mean_squared_error: 0.4319\n",
      "Epoch 83/100\n",
      "267/267 [==============================] - 0s 650us/step - loss: 0.5647 - accuracy: 1.0000 - mse: 0.1862 - root_mean_squared_error: 0.4315\n",
      "Epoch 84/100\n",
      "267/267 [==============================] - 0s 642us/step - loss: 0.5640 - accuracy: 1.0000 - mse: 0.1858 - root_mean_squared_error: 0.4311\n",
      "Epoch 85/100\n",
      "267/267 [==============================] - 0s 639us/step - loss: 0.5633 - accuracy: 1.0000 - mse: 0.1855 - root_mean_squared_error: 0.4307\n",
      "Epoch 86/100\n",
      "267/267 [==============================] - 0s 642us/step - loss: 0.5626 - accuracy: 1.0000 - mse: 0.1852 - root_mean_squared_error: 0.4303\n",
      "Epoch 87/100\n",
      "267/267 [==============================] - 0s 656us/step - loss: 0.5619 - accuracy: 1.0000 - mse: 0.1848 - root_mean_squared_error: 0.4299\n",
      "Epoch 88/100\n",
      "267/267 [==============================] - 0s 650us/step - loss: 0.5612 - accuracy: 1.0000 - mse: 0.1845 - root_mean_squared_error: 0.4295\n",
      "Epoch 89/100\n",
      "267/267 [==============================] - 0s 766us/step - loss: 0.5606 - accuracy: 1.0000 - mse: 0.1842 - root_mean_squared_error: 0.4291\n",
      "Epoch 90/100\n",
      "267/267 [==============================] - 0s 628us/step - loss: 0.5599 - accuracy: 1.0000 - mse: 0.1838 - root_mean_squared_error: 0.4288\n",
      "Epoch 91/100\n",
      "267/267 [==============================] - 0s 646us/step - loss: 0.5592 - accuracy: 1.0000 - mse: 0.1835 - root_mean_squared_error: 0.4284\n",
      "Epoch 92/100\n",
      "267/267 [==============================] - 0s 646us/step - loss: 0.5586 - accuracy: 1.0000 - mse: 0.1832 - root_mean_squared_error: 0.4280\n",
      "Epoch 93/100\n",
      "267/267 [==============================] - 0s 811us/step - loss: 0.5579 - accuracy: 1.0000 - mse: 0.1829 - root_mean_squared_error: 0.4276\n",
      "Epoch 94/100\n",
      "267/267 [==============================] - 0s 635us/step - loss: 0.5572 - accuracy: 1.0000 - mse: 0.1825 - root_mean_squared_error: 0.4273\n",
      "Epoch 95/100\n",
      "267/267 [==============================] - 0s 666us/step - loss: 0.5566 - accuracy: 1.0000 - mse: 0.1822 - root_mean_squared_error: 0.4269\n",
      "Epoch 96/100\n",
      "267/267 [==============================] - 0s 635us/step - loss: 0.5560 - accuracy: 1.0000 - mse: 0.1819 - root_mean_squared_error: 0.4265\n",
      "Epoch 97/100\n",
      "267/267 [==============================] - 0s 747us/step - loss: 0.5553 - accuracy: 1.0000 - mse: 0.1816 - root_mean_squared_error: 0.4261\n",
      "Epoch 98/100\n",
      "267/267 [==============================] - 0s 635us/step - loss: 0.5547 - accuracy: 1.0000 - mse: 0.1813 - root_mean_squared_error: 0.4258\n",
      "Epoch 99/100\n",
      "267/267 [==============================] - 0s 669us/step - loss: 0.5540 - accuracy: 1.0000 - mse: 0.1810 - root_mean_squared_error: 0.4254\n",
      "Epoch 100/100\n",
      "267/267 [==============================] - 0s 661us/step - loss: 0.5534 - accuracy: 1.0000 - mse: 0.1807 - root_mean_squared_error: 0.4251\n"
     ]
    }
   ],
   "source": [
    "history = model.fit(x_train, y_train, batch_size=200, epochs=100)"
   ]
  },
  {
   "cell_type": "code",
   "execution_count": 40,
   "metadata": {},
   "outputs": [
    {
     "name": "stdout",
     "output_type": "stream",
     "text": [
      "421/421 [==============================] - 0s 628us/step - loss: 0.5529 - accuracy: 1.0000 - mse: 0.1804 - root_mean_squared_error: 0.4247\n"
     ]
    },
    {
     "data": {
      "text/plain": [
       "[0.5528536438941956, 1.0, 0.18039967119693756, 0.42473483085632324]"
      ]
     },
     "execution_count": 40,
     "metadata": {},
     "output_type": "execute_result"
    }
   ],
   "source": [
    "model.evaluate(x_test, y_test)"
   ]
  },
  {
   "cell_type": "code",
   "execution_count": 41,
   "metadata": {},
   "outputs": [
    {
     "data": {
      "image/png": "[encoded data removed]",
      "text/plain": [
       "<Figure size 432x288 with 1 Axes>"
      ]
     },
     "metadata": {
      "needs_background": "light"
     },
     "output_type": "display_data"
    }
   ],
   "source": [
    "import matplotlib.pyplot as plt\n",
    "\n",
    "# summarize history for accuracy\n",
    "plt.plot(history.history['root_mean_squared_error'])\n",
    "# plt.plot(history.history['loss'])\n",
    "plt.title('model accuracy')\n",
    "plt.ylabel('loss')\n",
    "plt.xlabel('epoch')\n",
    "plt.legend(['rmse'], loc='upper left')\n",
    "plt.show()"
   ]
  },
  {
   "cell_type": "code",
   "execution_count": 42,
   "metadata": {},
   "outputs": [
    {
     "data": {
      "text/plain": [
       "(2,)"
      ]
     },
     "execution_count": 42,
     "metadata": {},
     "output_type": "execute_result"
    }
   ],
   "source": [
    "x_train[0].shape"
   ]
  },
  {
   "cell_type": "code",
   "execution_count": 43,
   "metadata": {},
   "outputs": [
    {
     "data": {
      "text/plain": [
       "(53346, 2)"
      ]
     },
     "execution_count": 43,
     "metadata": {},
     "output_type": "execute_result"
    }
   ],
   "source": [
    "y_pred = model.predict(x_train)\n",
    "y_pred.shape"
   ]
  },
  {
   "cell_type": "code",
   "execution_count": 44,
   "metadata": {},
   "outputs": [
    {
     "data": {
      "text/plain": [
       "(53346, 2)"
      ]
     },
     "execution_count": 44,
     "metadata": {},
     "output_type": "execute_result"
    }
   ],
   "source": [
    "x_train.shape"
   ]
  },
  {
   "cell_type": "code",
   "execution_count": 49,
   "metadata": {},
   "outputs": [
    {
     "data": {
      "text/plain": [
       "(2,)"
      ]
     },
     "execution_count": 49,
     "metadata": {},
     "output_type": "execute_result"
    }
   ],
   "source": [
    "x_train[1].shape"
   ]
  },
  {
   "cell_type": "code",
   "execution_count": 46,
   "metadata": {},
   "outputs": [
    {
     "data": {
      "text/plain": [
       "(2, 1)"
      ]
     },
     "execution_count": 46,
     "metadata": {},
     "output_type": "execute_result"
    }
   ],
   "source": [
    "x_input = np.expand_dims(x_train[0], axis=1)\n",
    "x_input.shape"
   ]
  },
  {
   "cell_type": "code",
   "execution_count": 50,
   "metadata": {},
   "outputs": [
    {
     "data": {
      "text/plain": [
       "array([[0.57831323, 0.42210636]], dtype=float32)"
      ]
     },
     "execution_count": 50,
     "metadata": {},
     "output_type": "execute_result"
    }
   ],
   "source": [
    "model.predict(x_train[0:1])"
   ]
  },
  {
   "cell_type": "code",
   "execution_count": 51,
   "metadata": {},
   "outputs": [
    {
     "data": {
      "text/plain": [
       "array([[1., 0.]])"
      ]
     },
     "execution_count": 51,
     "metadata": {},
     "output_type": "execute_result"
    }
   ],
   "source": [
    "y_train[0:1]"
   ]
  },
  {
   "cell_type": "code",
   "execution_count": null,
   "metadata": {},
   "outputs": [],
   "source": []
  }
 ],
 "metadata": {
  "kernelspec": {
   "display_name": "Python 3",
   "language": "python",
   "name": "python3"
  },
  "language_info": {
   "codemirror_mode": {
    "name": "ipython",
    "version": 3
   },
   "file_extension": ".py",
   "mimetype": "text/x-python",
   "name": "python",
   "nbconvert_exporter": "python",
   "pygments_lexer": "ipython3",
   "version": "3.6.8"
  }
 },
 "nbformat": 4,
 "nbformat_minor": 4
}
